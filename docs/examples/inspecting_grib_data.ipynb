{
 "cells": [
  {
   "cell_type": "markdown",
   "source": [
    "# Inspecting GRIB data"
   ],
   "metadata": {}
  },
  {
   "cell_type": "markdown",
   "source": [
    "When running Metview through its graphical user interface, the easiest way to inspect a GRIB file is to right-click on it and choose 'examine' from the context menu. Similar functionality is available from the command line: \"`metview -e /path/to/grib/file`\"."
   ],
   "metadata": {}
  },
  {
   "cell_type": "markdown",
   "source": [
    "This notebook shows how to inspect GRIB data from within a Python environment. Note that filtering, processing and visualising data is covered in other notebooks and gallery examples."
   ],
   "metadata": {}
  },
  {
   "cell_type": "code",
   "execution_count": 1,
   "source": [
    "import metview as mv"
   ],
   "outputs": [],
   "metadata": {}
  },
  {
   "cell_type": "code",
   "execution_count": 2,
   "source": [
    "filename = \"data_fc.grib\"\n",
    "if mv.exist(filename):\n",
    "    fs = mv.read(filename)\n",
    "else:\n",
    "    fs = mv.gallery.load_dataset(filename)"
   ],
   "outputs": [],
   "metadata": {}
  },
  {
   "cell_type": "markdown",
   "source": [
    "## Data overview"
   ],
   "metadata": {}
  },
  {
   "cell_type": "markdown",
   "source": [
    "In Metview, GRIB data is represented by a **Fieldset** object. Many Metview operations generate GRIB data, we can retrieve it from MARS, or we can load it directly from disk.\n",
    "\n",
    "GRIB files are composed of messages, one for each field. The [describe()](../api/functions/describe.rst) method groups the GRIB messages by parameter and gives a summary for quick inspection. Here we will see that the Fieldset contains parameters q,t,u,v,z for multiple vertical levels, and tp at surface level at various forecast steps. We will see in a moment what these parameters actually are in case you're not familiar with the letters!"
   ],
   "metadata": {}
  },
  {
   "cell_type": "code",
   "execution_count": 3,
   "source": [
    "fs.describe()"
   ],
   "outputs": [
    {
     "output_type": "execute_result",
     "data": {
      "text/plain": [
       "<IPython.core.display.HTML object>"
      ],
      "text/html": [
       "  \n",
       "                <table>\n",
       "                <tr><th>parameter</th><th>typeOfLevel</th><th>level</th><th>date</th><th>time</th><th>step</th><th>paramId</th><th>class</th><th>stream</th><th>type</th><th>experimentVersionNumber</th></tr>\n",
       "                <tr><th style='text-align: right;'>q</th><td style='text-align: left;'>isobaricInhPa</td><td style='text-align: left;'>100,250,...</td><td style='text-align: left;'>20111215</td><td style='text-align: left;'>0</td><td style='text-align: left;'>0,6,...</td><td style='text-align: left;'>133</td><td style='text-align: left;'>od</td><td style='text-align: left;'>oper</td><td style='text-align: left;'>fc</td><td style='text-align: left;'>0001</td></tr><tr><th style='text-align: right;'>t</th><td style='text-align: left;'>isobaricInhPa</td><td style='text-align: left;'>100,250,...</td><td style='text-align: left;'>20111215</td><td style='text-align: left;'>0</td><td style='text-align: left;'>0,6,...</td><td style='text-align: left;'>130</td><td style='text-align: left;'>od</td><td style='text-align: left;'>oper</td><td style='text-align: left;'>fc</td><td style='text-align: left;'>0001</td></tr><tr><th style='text-align: right;'>tp</th><td style='text-align: left;'>surface</td><td style='text-align: left;'>0</td><td style='text-align: left;'>20111215</td><td style='text-align: left;'>0</td><td style='text-align: left;'>0,6,...</td><td style='text-align: left;'>228</td><td style='text-align: left;'>od</td><td style='text-align: left;'>oper</td><td style='text-align: left;'>fc</td><td style='text-align: left;'>0001</td></tr><tr><th style='text-align: right;'>u</th><td style='text-align: left;'>isobaricInhPa</td><td style='text-align: left;'>100,250,...</td><td style='text-align: left;'>20111215</td><td style='text-align: left;'>0</td><td style='text-align: left;'>0,6,...</td><td style='text-align: left;'>131</td><td style='text-align: left;'>od</td><td style='text-align: left;'>oper</td><td style='text-align: left;'>fc</td><td style='text-align: left;'>0001</td></tr><tr><th style='text-align: right;'>v</th><td style='text-align: left;'>isobaricInhPa</td><td style='text-align: left;'>100,250,...</td><td style='text-align: left;'>20111215</td><td style='text-align: left;'>0</td><td style='text-align: left;'>0,6,...</td><td style='text-align: left;'>132</td><td style='text-align: left;'>od</td><td style='text-align: left;'>oper</td><td style='text-align: left;'>fc</td><td style='text-align: left;'>0001</td></tr><tr><th style='text-align: right;'>z</th><td style='text-align: left;'>isobaricInhPa</td><td style='text-align: left;'>100,250,...</td><td style='text-align: left;'>20111215</td><td style='text-align: left;'>0</td><td style='text-align: left;'>0,6,...</td><td style='text-align: left;'>129</td><td style='text-align: left;'>od</td><td style='text-align: left;'>oper</td><td style='text-align: left;'>fc</td><td style='text-align: left;'>0001</td></tr>\n",
       "                </table>"
      ]
     },
     "metadata": {},
     "execution_count": 3
    }
   ],
   "metadata": {}
  },
  {
   "cell_type": "markdown",
   "source": [
    "We can look a bit deeper into each parameter via its shortName, for example, temperature:"
   ],
   "metadata": {}
  },
  {
   "cell_type": "code",
   "execution_count": 4,
   "source": [
    "fs.describe(param='t')"
   ],
   "outputs": [
    {
     "output_type": "execute_result",
     "data": {
      "text/plain": [
       "<IPython.core.display.HTML object>"
      ],
      "text/html": [
       "  \n",
       "                <table>\n",
       "                <tr></tr>\n",
       "                <tr><th style='text-align: right;'>shortName</th><td style='text-align: left;'>t</td></tr><tr><th style='text-align: right;'>paramId</th><td style='text-align: left;'>130</td></tr><tr><th style='text-align: right;'>typeOfLevel</th><td style='text-align: left;'>isobaricInhPa</td></tr><tr><th style='text-align: right;'>level</th><td style='text-align: left;'>100,250,300,500,700,850,1000</td></tr><tr><th style='text-align: right;'>date</th><td style='text-align: left;'>20111215</td></tr><tr><th style='text-align: right;'>time</th><td style='text-align: left;'>0</td></tr><tr><th style='text-align: right;'>step</th><td style='text-align: left;'>0,6,12,18,24,30,36,42</td></tr><tr><th style='text-align: right;'>class</th><td style='text-align: left;'>od</td></tr><tr><th style='text-align: right;'>stream</th><td style='text-align: left;'>oper</td></tr><tr><th style='text-align: right;'>type</th><td style='text-align: left;'>fc</td></tr><tr><th style='text-align: right;'>experimentVersionNumber</th><td style='text-align: left;'>0001</td></tr>\n",
       "                </table>"
      ]
     },
     "metadata": {},
     "execution_count": 4
    }
   ],
   "metadata": {}
  },
  {
   "cell_type": "markdown",
   "source": [
    "Note that the data do not necessarily form a complete hypercube - this summary lists all the values for each 'dimension', but it is not necessarily the case that, for example, all the steps exist for all the levels. "
   ],
   "metadata": {}
  },
  {
   "cell_type": "markdown",
   "source": [
    "We can also specify the parameter via its numeric paramId, for example, total precipitation:"
   ],
   "metadata": {}
  },
  {
   "cell_type": "code",
   "execution_count": 5,
   "source": [
    "fs.describe(param=228)"
   ],
   "outputs": [
    {
     "output_type": "execute_result",
     "data": {
      "text/plain": [
       "<IPython.core.display.HTML object>"
      ],
      "text/html": [
       "  \n",
       "                <table>\n",
       "                <tr></tr>\n",
       "                <tr><th style='text-align: right;'>shortName</th><td style='text-align: left;'>tp</td></tr><tr><th style='text-align: right;'>paramId</th><td style='text-align: left;'>228</td></tr><tr><th style='text-align: right;'>typeOfLevel</th><td style='text-align: left;'>surface</td></tr><tr><th style='text-align: right;'>level</th><td style='text-align: left;'>0</td></tr><tr><th style='text-align: right;'>date</th><td style='text-align: left;'>20111215</td></tr><tr><th style='text-align: right;'>time</th><td style='text-align: left;'>0</td></tr><tr><th style='text-align: right;'>step</th><td style='text-align: left;'>0,6,12,18,24,30,36,42</td></tr><tr><th style='text-align: right;'>class</th><td style='text-align: left;'>od</td></tr><tr><th style='text-align: right;'>stream</th><td style='text-align: left;'>oper</td></tr><tr><th style='text-align: right;'>type</th><td style='text-align: left;'>fc</td></tr><tr><th style='text-align: right;'>experimentVersionNumber</th><td style='text-align: left;'>0001</td></tr>\n",
       "                </table>"
      ]
     },
     "metadata": {},
     "execution_count": 5
    }
   ],
   "metadata": {}
  },
  {
   "cell_type": "markdown",
   "source": [
    "## Data table"
   ],
   "metadata": {}
  },
  {
   "cell_type": "markdown",
   "source": [
    "`fs` is a Fieldset object representing the GRIB file. It is essentially a list of GRIB messages.\n",
    "The [ls()](../api/functions/ls.rst) method displays information on a per-message basis. We can call it with the whole Fieldset, but that gives us a very long listing! So let's call it on the first 10 fields using Python's 'slice' operator:"
   ],
   "metadata": {}
  },
  {
   "cell_type": "code",
   "execution_count": 6,
   "source": [
    "fs[:10].ls()"
   ],
   "outputs": [
    {
     "output_type": "execute_result",
     "data": {
      "text/plain": [
       "        centre shortName  typeOfLevel    level  dataDate  dataTime stepRange  \\\n",
       "Message                                                                        \n",
       "0        ecmf       t     isobaricInhPa  1000   20111215      0         0      \n",
       "1        ecmf       z     isobaricInhPa  1000   20111215      0         0      \n",
       "2        ecmf       u     isobaricInhPa  1000   20111215      0         0      \n",
       "3        ecmf       v     isobaricInhPa  1000   20111215      0         0      \n",
       "4        ecmf       q     isobaricInhPa  1000   20111215      0         0      \n",
       "5        ecmf       t     isobaricInhPa   850   20111215      0         0      \n",
       "6        ecmf       z     isobaricInhPa   850   20111215      0         0      \n",
       "7        ecmf       u     isobaricInhPa   850   20111215      0         0      \n",
       "8        ecmf       v     isobaricInhPa   850   20111215      0         0      \n",
       "9        ecmf       q     isobaricInhPa   850   20111215      0         0      \n",
       "\n",
       "        dataType   gridType   \n",
       "Message                       \n",
       "0          fc     regular_ll  \n",
       "1          fc     regular_ll  \n",
       "2          fc     regular_ll  \n",
       "3          fc     regular_ll  \n",
       "4          fc     regular_ll  \n",
       "5          fc     regular_ll  \n",
       "6          fc     regular_ll  \n",
       "7          fc     regular_ll  \n",
       "8          fc     regular_ll  \n",
       "9          fc     regular_ll  "
      ],
      "text/html": [
       "<div>\n",
       "<style scoped>\n",
       "    .dataframe tbody tr th:only-of-type {\n",
       "        vertical-align: middle;\n",
       "    }\n",
       "\n",
       "    .dataframe tbody tr th {\n",
       "        vertical-align: top;\n",
       "    }\n",
       "\n",
       "    .dataframe thead th {\n",
       "        text-align: right;\n",
       "    }\n",
       "</style>\n",
       "<table border=\"1\" class=\"dataframe\">\n",
       "  <thead>\n",
       "    <tr style=\"text-align: center;\">\n",
       "      <th></th>\n",
       "      <th>centre</th>\n",
       "      <th>shortName</th>\n",
       "      <th>typeOfLevel</th>\n",
       "      <th>level</th>\n",
       "      <th>dataDate</th>\n",
       "      <th>dataTime</th>\n",
       "      <th>stepRange</th>\n",
       "      <th>dataType</th>\n",
       "      <th>gridType</th>\n",
       "    </tr>\n",
       "    <tr>\n",
       "      <th>Message</th>\n",
       "      <th></th>\n",
       "      <th></th>\n",
       "      <th></th>\n",
       "      <th></th>\n",
       "      <th></th>\n",
       "      <th></th>\n",
       "      <th></th>\n",
       "      <th></th>\n",
       "      <th></th>\n",
       "    </tr>\n",
       "  </thead>\n",
       "  <tbody>\n",
       "    <tr>\n",
       "      <th>0</th>\n",
       "      <td>ecmf</td>\n",
       "      <td>t</td>\n",
       "      <td>isobaricInhPa</td>\n",
       "      <td>1000</td>\n",
       "      <td>20111215</td>\n",
       "      <td>0</td>\n",
       "      <td>0</td>\n",
       "      <td>fc</td>\n",
       "      <td>regular_ll</td>\n",
       "    </tr>\n",
       "    <tr>\n",
       "      <th>1</th>\n",
       "      <td>ecmf</td>\n",
       "      <td>z</td>\n",
       "      <td>isobaricInhPa</td>\n",
       "      <td>1000</td>\n",
       "      <td>20111215</td>\n",
       "      <td>0</td>\n",
       "      <td>0</td>\n",
       "      <td>fc</td>\n",
       "      <td>regular_ll</td>\n",
       "    </tr>\n",
       "    <tr>\n",
       "      <th>2</th>\n",
       "      <td>ecmf</td>\n",
       "      <td>u</td>\n",
       "      <td>isobaricInhPa</td>\n",
       "      <td>1000</td>\n",
       "      <td>20111215</td>\n",
       "      <td>0</td>\n",
       "      <td>0</td>\n",
       "      <td>fc</td>\n",
       "      <td>regular_ll</td>\n",
       "    </tr>\n",
       "    <tr>\n",
       "      <th>3</th>\n",
       "      <td>ecmf</td>\n",
       "      <td>v</td>\n",
       "      <td>isobaricInhPa</td>\n",
       "      <td>1000</td>\n",
       "      <td>20111215</td>\n",
       "      <td>0</td>\n",
       "      <td>0</td>\n",
       "      <td>fc</td>\n",
       "      <td>regular_ll</td>\n",
       "    </tr>\n",
       "    <tr>\n",
       "      <th>4</th>\n",
       "      <td>ecmf</td>\n",
       "      <td>q</td>\n",
       "      <td>isobaricInhPa</td>\n",
       "      <td>1000</td>\n",
       "      <td>20111215</td>\n",
       "      <td>0</td>\n",
       "      <td>0</td>\n",
       "      <td>fc</td>\n",
       "      <td>regular_ll</td>\n",
       "    </tr>\n",
       "    <tr>\n",
       "      <th>5</th>\n",
       "      <td>ecmf</td>\n",
       "      <td>t</td>\n",
       "      <td>isobaricInhPa</td>\n",
       "      <td>850</td>\n",
       "      <td>20111215</td>\n",
       "      <td>0</td>\n",
       "      <td>0</td>\n",
       "      <td>fc</td>\n",
       "      <td>regular_ll</td>\n",
       "    </tr>\n",
       "    <tr>\n",
       "      <th>6</th>\n",
       "      <td>ecmf</td>\n",
       "      <td>z</td>\n",
       "      <td>isobaricInhPa</td>\n",
       "      <td>850</td>\n",
       "      <td>20111215</td>\n",
       "      <td>0</td>\n",
       "      <td>0</td>\n",
       "      <td>fc</td>\n",
       "      <td>regular_ll</td>\n",
       "    </tr>\n",
       "    <tr>\n",
       "      <th>7</th>\n",
       "      <td>ecmf</td>\n",
       "      <td>u</td>\n",
       "      <td>isobaricInhPa</td>\n",
       "      <td>850</td>\n",
       "      <td>20111215</td>\n",
       "      <td>0</td>\n",
       "      <td>0</td>\n",
       "      <td>fc</td>\n",
       "      <td>regular_ll</td>\n",
       "    </tr>\n",
       "    <tr>\n",
       "      <th>8</th>\n",
       "      <td>ecmf</td>\n",
       "      <td>v</td>\n",
       "      <td>isobaricInhPa</td>\n",
       "      <td>850</td>\n",
       "      <td>20111215</td>\n",
       "      <td>0</td>\n",
       "      <td>0</td>\n",
       "      <td>fc</td>\n",
       "      <td>regular_ll</td>\n",
       "    </tr>\n",
       "    <tr>\n",
       "      <th>9</th>\n",
       "      <td>ecmf</td>\n",
       "      <td>q</td>\n",
       "      <td>isobaricInhPa</td>\n",
       "      <td>850</td>\n",
       "      <td>20111215</td>\n",
       "      <td>0</td>\n",
       "      <td>0</td>\n",
       "      <td>fc</td>\n",
       "      <td>regular_ll</td>\n",
       "    </tr>\n",
       "  </tbody>\n",
       "</table>\n",
       "</div>"
      ]
     },
     "metadata": {},
     "execution_count": 6
    }
   ],
   "metadata": {}
  },
  {
   "cell_type": "markdown",
   "source": [
    "We can select a different range of fields and add extra ecCodes keys to get more information:"
   ],
   "metadata": {}
  },
  {
   "cell_type": "code",
   "execution_count": 7,
   "source": [
    "fs[210:220].ls(extra_keys=['name', 'units'])"
   ],
   "outputs": [
    {
     "output_type": "execute_result",
     "data": {
      "text/plain": [
       "        centre shortName  typeOfLevel    level  dataDate  dataTime stepRange  \\\n",
       "Message                                                                        \n",
       "0        ecmf       t     isobaricInhPa  1000   20111215      0        36      \n",
       "1        ecmf       z     isobaricInhPa  1000   20111215      0        36      \n",
       "2        ecmf       u     isobaricInhPa  1000   20111215      0        36      \n",
       "3        ecmf       v     isobaricInhPa  1000   20111215      0        36      \n",
       "4        ecmf       q     isobaricInhPa  1000   20111215      0        36      \n",
       "5        ecmf       t     isobaricInhPa   850   20111215      0        36      \n",
       "6        ecmf       z     isobaricInhPa   850   20111215      0        36      \n",
       "7        ecmf       u     isobaricInhPa   850   20111215      0        36      \n",
       "8        ecmf       v     isobaricInhPa   850   20111215      0        36      \n",
       "9        ecmf       q     isobaricInhPa   850   20111215      0        36      \n",
       "\n",
       "        dataType   gridType          name            units     \n",
       "Message                                                        \n",
       "0          fc     regular_ll          Temperature           K  \n",
       "1          fc     regular_ll         Geopotential  m**2 s**-2  \n",
       "2          fc     regular_ll  U component of wind     m s**-1  \n",
       "3          fc     regular_ll  V component of wind     m s**-1  \n",
       "4          fc     regular_ll    Specific humidity   kg kg**-1  \n",
       "5          fc     regular_ll          Temperature           K  \n",
       "6          fc     regular_ll         Geopotential  m**2 s**-2  \n",
       "7          fc     regular_ll  U component of wind     m s**-1  \n",
       "8          fc     regular_ll  V component of wind     m s**-1  \n",
       "9          fc     regular_ll    Specific humidity   kg kg**-1  "
      ],
      "text/html": [
       "<div>\n",
       "<style scoped>\n",
       "    .dataframe tbody tr th:only-of-type {\n",
       "        vertical-align: middle;\n",
       "    }\n",
       "\n",
       "    .dataframe tbody tr th {\n",
       "        vertical-align: top;\n",
       "    }\n",
       "\n",
       "    .dataframe thead th {\n",
       "        text-align: right;\n",
       "    }\n",
       "</style>\n",
       "<table border=\"1\" class=\"dataframe\">\n",
       "  <thead>\n",
       "    <tr style=\"text-align: center;\">\n",
       "      <th></th>\n",
       "      <th>centre</th>\n",
       "      <th>shortName</th>\n",
       "      <th>typeOfLevel</th>\n",
       "      <th>level</th>\n",
       "      <th>dataDate</th>\n",
       "      <th>dataTime</th>\n",
       "      <th>stepRange</th>\n",
       "      <th>dataType</th>\n",
       "      <th>gridType</th>\n",
       "      <th>name</th>\n",
       "      <th>units</th>\n",
       "    </tr>\n",
       "    <tr>\n",
       "      <th>Message</th>\n",
       "      <th></th>\n",
       "      <th></th>\n",
       "      <th></th>\n",
       "      <th></th>\n",
       "      <th></th>\n",
       "      <th></th>\n",
       "      <th></th>\n",
       "      <th></th>\n",
       "      <th></th>\n",
       "      <th></th>\n",
       "      <th></th>\n",
       "    </tr>\n",
       "  </thead>\n",
       "  <tbody>\n",
       "    <tr>\n",
       "      <th>0</th>\n",
       "      <td>ecmf</td>\n",
       "      <td>t</td>\n",
       "      <td>isobaricInhPa</td>\n",
       "      <td>1000</td>\n",
       "      <td>20111215</td>\n",
       "      <td>0</td>\n",
       "      <td>36</td>\n",
       "      <td>fc</td>\n",
       "      <td>regular_ll</td>\n",
       "      <td>Temperature</td>\n",
       "      <td>K</td>\n",
       "    </tr>\n",
       "    <tr>\n",
       "      <th>1</th>\n",
       "      <td>ecmf</td>\n",
       "      <td>z</td>\n",
       "      <td>isobaricInhPa</td>\n",
       "      <td>1000</td>\n",
       "      <td>20111215</td>\n",
       "      <td>0</td>\n",
       "      <td>36</td>\n",
       "      <td>fc</td>\n",
       "      <td>regular_ll</td>\n",
       "      <td>Geopotential</td>\n",
       "      <td>m**2 s**-2</td>\n",
       "    </tr>\n",
       "    <tr>\n",
       "      <th>2</th>\n",
       "      <td>ecmf</td>\n",
       "      <td>u</td>\n",
       "      <td>isobaricInhPa</td>\n",
       "      <td>1000</td>\n",
       "      <td>20111215</td>\n",
       "      <td>0</td>\n",
       "      <td>36</td>\n",
       "      <td>fc</td>\n",
       "      <td>regular_ll</td>\n",
       "      <td>U component of wind</td>\n",
       "      <td>m s**-1</td>\n",
       "    </tr>\n",
       "    <tr>\n",
       "      <th>3</th>\n",
       "      <td>ecmf</td>\n",
       "      <td>v</td>\n",
       "      <td>isobaricInhPa</td>\n",
       "      <td>1000</td>\n",
       "      <td>20111215</td>\n",
       "      <td>0</td>\n",
       "      <td>36</td>\n",
       "      <td>fc</td>\n",
       "      <td>regular_ll</td>\n",
       "      <td>V component of wind</td>\n",
       "      <td>m s**-1</td>\n",
       "    </tr>\n",
       "    <tr>\n",
       "      <th>4</th>\n",
       "      <td>ecmf</td>\n",
       "      <td>q</td>\n",
       "      <td>isobaricInhPa</td>\n",
       "      <td>1000</td>\n",
       "      <td>20111215</td>\n",
       "      <td>0</td>\n",
       "      <td>36</td>\n",
       "      <td>fc</td>\n",
       "      <td>regular_ll</td>\n",
       "      <td>Specific humidity</td>\n",
       "      <td>kg kg**-1</td>\n",
       "    </tr>\n",
       "    <tr>\n",
       "      <th>5</th>\n",
       "      <td>ecmf</td>\n",
       "      <td>t</td>\n",
       "      <td>isobaricInhPa</td>\n",
       "      <td>850</td>\n",
       "      <td>20111215</td>\n",
       "      <td>0</td>\n",
       "      <td>36</td>\n",
       "      <td>fc</td>\n",
       "      <td>regular_ll</td>\n",
       "      <td>Temperature</td>\n",
       "      <td>K</td>\n",
       "    </tr>\n",
       "    <tr>\n",
       "      <th>6</th>\n",
       "      <td>ecmf</td>\n",
       "      <td>z</td>\n",
       "      <td>isobaricInhPa</td>\n",
       "      <td>850</td>\n",
       "      <td>20111215</td>\n",
       "      <td>0</td>\n",
       "      <td>36</td>\n",
       "      <td>fc</td>\n",
       "      <td>regular_ll</td>\n",
       "      <td>Geopotential</td>\n",
       "      <td>m**2 s**-2</td>\n",
       "    </tr>\n",
       "    <tr>\n",
       "      <th>7</th>\n",
       "      <td>ecmf</td>\n",
       "      <td>u</td>\n",
       "      <td>isobaricInhPa</td>\n",
       "      <td>850</td>\n",
       "      <td>20111215</td>\n",
       "      <td>0</td>\n",
       "      <td>36</td>\n",
       "      <td>fc</td>\n",
       "      <td>regular_ll</td>\n",
       "      <td>U component of wind</td>\n",
       "      <td>m s**-1</td>\n",
       "    </tr>\n",
       "    <tr>\n",
       "      <th>8</th>\n",
       "      <td>ecmf</td>\n",
       "      <td>v</td>\n",
       "      <td>isobaricInhPa</td>\n",
       "      <td>850</td>\n",
       "      <td>20111215</td>\n",
       "      <td>0</td>\n",
       "      <td>36</td>\n",
       "      <td>fc</td>\n",
       "      <td>regular_ll</td>\n",
       "      <td>V component of wind</td>\n",
       "      <td>m s**-1</td>\n",
       "    </tr>\n",
       "    <tr>\n",
       "      <th>9</th>\n",
       "      <td>ecmf</td>\n",
       "      <td>q</td>\n",
       "      <td>isobaricInhPa</td>\n",
       "      <td>850</td>\n",
       "      <td>20111215</td>\n",
       "      <td>0</td>\n",
       "      <td>36</td>\n",
       "      <td>fc</td>\n",
       "      <td>regular_ll</td>\n",
       "      <td>Specific humidity</td>\n",
       "      <td>kg kg**-1</td>\n",
       "    </tr>\n",
       "  </tbody>\n",
       "</table>\n",
       "</div>"
      ]
     },
     "metadata": {},
     "execution_count": 7
    }
   ],
   "metadata": {}
  },
  {
   "cell_type": "markdown",
   "source": [
    "We can add some keys that compute statistics per field (this will take longer, as the values will be decoded and the statistics computed - they are not stored in the GRIB header)."
   ],
   "metadata": {}
  },
  {
   "cell_type": "code",
   "execution_count": 8,
   "source": [
    "fs[210:220].ls(extra_keys=['min', 'max'])"
   ],
   "outputs": [
    {
     "output_type": "execute_result",
     "data": {
      "text/plain": [
       "        centre shortName  typeOfLevel    level  dataDate  dataTime stepRange  \\\n",
       "Message                                                                        \n",
       "0        ecmf       t     isobaricInhPa  1000   20111215      0        36      \n",
       "1        ecmf       z     isobaricInhPa  1000   20111215      0        36      \n",
       "2        ecmf       u     isobaricInhPa  1000   20111215      0        36      \n",
       "3        ecmf       v     isobaricInhPa  1000   20111215      0        36      \n",
       "4        ecmf       q     isobaricInhPa  1000   20111215      0        36      \n",
       "5        ecmf       t     isobaricInhPa   850   20111215      0        36      \n",
       "6        ecmf       z     isobaricInhPa   850   20111215      0        36      \n",
       "7        ecmf       u     isobaricInhPa   850   20111215      0        36      \n",
       "8        ecmf       v     isobaricInhPa   850   20111215      0        36      \n",
       "9        ecmf       q     isobaricInhPa   850   20111215      0        36      \n",
       "\n",
       "        dataType   gridType      min         max      \n",
       "Message                                               \n",
       "0          fc     regular_ll      250.973    312.973  \n",
       "1          fc     regular_ll     -2506.38    3061.62  \n",
       "2          fc     regular_ll     -14.0416    19.7084  \n",
       "3          fc     regular_ll     -16.6044    19.3956  \n",
       "4          fc     regular_ll  8.95455e-05  0.0198649  \n",
       "5          fc     regular_ll      245.139    302.639  \n",
       "6          fc     regular_ll      10344.5    16136.5  \n",
       "7          fc     regular_ll     -16.2513    26.9987  \n",
       "8          fc     regular_ll     -21.4716    25.5284  \n",
       "9          fc     regular_ll  8.98526e-05  0.0155317  "
      ],
      "text/html": [
       "<div>\n",
       "<style scoped>\n",
       "    .dataframe tbody tr th:only-of-type {\n",
       "        vertical-align: middle;\n",
       "    }\n",
       "\n",
       "    .dataframe tbody tr th {\n",
       "        vertical-align: top;\n",
       "    }\n",
       "\n",
       "    .dataframe thead th {\n",
       "        text-align: right;\n",
       "    }\n",
       "</style>\n",
       "<table border=\"1\" class=\"dataframe\">\n",
       "  <thead>\n",
       "    <tr style=\"text-align: center;\">\n",
       "      <th></th>\n",
       "      <th>centre</th>\n",
       "      <th>shortName</th>\n",
       "      <th>typeOfLevel</th>\n",
       "      <th>level</th>\n",
       "      <th>dataDate</th>\n",
       "      <th>dataTime</th>\n",
       "      <th>stepRange</th>\n",
       "      <th>dataType</th>\n",
       "      <th>gridType</th>\n",
       "      <th>min</th>\n",
       "      <th>max</th>\n",
       "    </tr>\n",
       "    <tr>\n",
       "      <th>Message</th>\n",
       "      <th></th>\n",
       "      <th></th>\n",
       "      <th></th>\n",
       "      <th></th>\n",
       "      <th></th>\n",
       "      <th></th>\n",
       "      <th></th>\n",
       "      <th></th>\n",
       "      <th></th>\n",
       "      <th></th>\n",
       "      <th></th>\n",
       "    </tr>\n",
       "  </thead>\n",
       "  <tbody>\n",
       "    <tr>\n",
       "      <th>0</th>\n",
       "      <td>ecmf</td>\n",
       "      <td>t</td>\n",
       "      <td>isobaricInhPa</td>\n",
       "      <td>1000</td>\n",
       "      <td>20111215</td>\n",
       "      <td>0</td>\n",
       "      <td>36</td>\n",
       "      <td>fc</td>\n",
       "      <td>regular_ll</td>\n",
       "      <td>250.973</td>\n",
       "      <td>312.973</td>\n",
       "    </tr>\n",
       "    <tr>\n",
       "      <th>1</th>\n",
       "      <td>ecmf</td>\n",
       "      <td>z</td>\n",
       "      <td>isobaricInhPa</td>\n",
       "      <td>1000</td>\n",
       "      <td>20111215</td>\n",
       "      <td>0</td>\n",
       "      <td>36</td>\n",
       "      <td>fc</td>\n",
       "      <td>regular_ll</td>\n",
       "      <td>-2506.38</td>\n",
       "      <td>3061.62</td>\n",
       "    </tr>\n",
       "    <tr>\n",
       "      <th>2</th>\n",
       "      <td>ecmf</td>\n",
       "      <td>u</td>\n",
       "      <td>isobaricInhPa</td>\n",
       "      <td>1000</td>\n",
       "      <td>20111215</td>\n",
       "      <td>0</td>\n",
       "      <td>36</td>\n",
       "      <td>fc</td>\n",
       "      <td>regular_ll</td>\n",
       "      <td>-14.0416</td>\n",
       "      <td>19.7084</td>\n",
       "    </tr>\n",
       "    <tr>\n",
       "      <th>3</th>\n",
       "      <td>ecmf</td>\n",
       "      <td>v</td>\n",
       "      <td>isobaricInhPa</td>\n",
       "      <td>1000</td>\n",
       "      <td>20111215</td>\n",
       "      <td>0</td>\n",
       "      <td>36</td>\n",
       "      <td>fc</td>\n",
       "      <td>regular_ll</td>\n",
       "      <td>-16.6044</td>\n",
       "      <td>19.3956</td>\n",
       "    </tr>\n",
       "    <tr>\n",
       "      <th>4</th>\n",
       "      <td>ecmf</td>\n",
       "      <td>q</td>\n",
       "      <td>isobaricInhPa</td>\n",
       "      <td>1000</td>\n",
       "      <td>20111215</td>\n",
       "      <td>0</td>\n",
       "      <td>36</td>\n",
       "      <td>fc</td>\n",
       "      <td>regular_ll</td>\n",
       "      <td>8.95455e-05</td>\n",
       "      <td>0.0198649</td>\n",
       "    </tr>\n",
       "    <tr>\n",
       "      <th>5</th>\n",
       "      <td>ecmf</td>\n",
       "      <td>t</td>\n",
       "      <td>isobaricInhPa</td>\n",
       "      <td>850</td>\n",
       "      <td>20111215</td>\n",
       "      <td>0</td>\n",
       "      <td>36</td>\n",
       "      <td>fc</td>\n",
       "      <td>regular_ll</td>\n",
       "      <td>245.139</td>\n",
       "      <td>302.639</td>\n",
       "    </tr>\n",
       "    <tr>\n",
       "      <th>6</th>\n",
       "      <td>ecmf</td>\n",
       "      <td>z</td>\n",
       "      <td>isobaricInhPa</td>\n",
       "      <td>850</td>\n",
       "      <td>20111215</td>\n",
       "      <td>0</td>\n",
       "      <td>36</td>\n",
       "      <td>fc</td>\n",
       "      <td>regular_ll</td>\n",
       "      <td>10344.5</td>\n",
       "      <td>16136.5</td>\n",
       "    </tr>\n",
       "    <tr>\n",
       "      <th>7</th>\n",
       "      <td>ecmf</td>\n",
       "      <td>u</td>\n",
       "      <td>isobaricInhPa</td>\n",
       "      <td>850</td>\n",
       "      <td>20111215</td>\n",
       "      <td>0</td>\n",
       "      <td>36</td>\n",
       "      <td>fc</td>\n",
       "      <td>regular_ll</td>\n",
       "      <td>-16.2513</td>\n",
       "      <td>26.9987</td>\n",
       "    </tr>\n",
       "    <tr>\n",
       "      <th>8</th>\n",
       "      <td>ecmf</td>\n",
       "      <td>v</td>\n",
       "      <td>isobaricInhPa</td>\n",
       "      <td>850</td>\n",
       "      <td>20111215</td>\n",
       "      <td>0</td>\n",
       "      <td>36</td>\n",
       "      <td>fc</td>\n",
       "      <td>regular_ll</td>\n",
       "      <td>-21.4716</td>\n",
       "      <td>25.5284</td>\n",
       "    </tr>\n",
       "    <tr>\n",
       "      <th>9</th>\n",
       "      <td>ecmf</td>\n",
       "      <td>q</td>\n",
       "      <td>isobaricInhPa</td>\n",
       "      <td>850</td>\n",
       "      <td>20111215</td>\n",
       "      <td>0</td>\n",
       "      <td>36</td>\n",
       "      <td>fc</td>\n",
       "      <td>regular_ll</td>\n",
       "      <td>8.98526e-05</td>\n",
       "      <td>0.0155317</td>\n",
       "    </tr>\n",
       "  </tbody>\n",
       "</table>\n",
       "</div>"
      ]
     },
     "metadata": {},
     "execution_count": 8
    }
   ],
   "metadata": {}
  },
  {
   "cell_type": "markdown",
   "source": [
    "We can also use type qualifiers (s=string, l=long, d=double) to give more control over how the keys are displayed:"
   ],
   "metadata": {}
  },
  {
   "cell_type": "code",
   "execution_count": 10,
   "source": [
    "fs[210:220].ls(extra_keys=['centre:l'])"
   ],
   "outputs": [
    {
     "output_type": "execute_result",
     "data": {
      "text/plain": [
       "        centre shortName  typeOfLevel    level  dataDate  dataTime stepRange  \\\n",
       "Message                                                                        \n",
       "0        ecmf       t     isobaricInhPa  1000   20111215      0        36      \n",
       "1        ecmf       z     isobaricInhPa  1000   20111215      0        36      \n",
       "2        ecmf       u     isobaricInhPa  1000   20111215      0        36      \n",
       "3        ecmf       v     isobaricInhPa  1000   20111215      0        36      \n",
       "4        ecmf       q     isobaricInhPa  1000   20111215      0        36      \n",
       "5        ecmf       t     isobaricInhPa   850   20111215      0        36      \n",
       "6        ecmf       z     isobaricInhPa   850   20111215      0        36      \n",
       "7        ecmf       u     isobaricInhPa   850   20111215      0        36      \n",
       "8        ecmf       v     isobaricInhPa   850   20111215      0        36      \n",
       "9        ecmf       q     isobaricInhPa   850   20111215      0        36      \n",
       "\n",
       "        dataType   gridType  centre:l  \n",
       "Message                                \n",
       "0          fc     regular_ll   98.0    \n",
       "1          fc     regular_ll   98.0    \n",
       "2          fc     regular_ll   98.0    \n",
       "3          fc     regular_ll   98.0    \n",
       "4          fc     regular_ll   98.0    \n",
       "5          fc     regular_ll   98.0    \n",
       "6          fc     regular_ll   98.0    \n",
       "7          fc     regular_ll   98.0    \n",
       "8          fc     regular_ll   98.0    \n",
       "9          fc     regular_ll   98.0    "
      ],
      "text/html": [
       "<div>\n",
       "<style scoped>\n",
       "    .dataframe tbody tr th:only-of-type {\n",
       "        vertical-align: middle;\n",
       "    }\n",
       "\n",
       "    .dataframe tbody tr th {\n",
       "        vertical-align: top;\n",
       "    }\n",
       "\n",
       "    .dataframe thead th {\n",
       "        text-align: right;\n",
       "    }\n",
       "</style>\n",
       "<table border=\"1\" class=\"dataframe\">\n",
       "  <thead>\n",
       "    <tr style=\"text-align: center;\">\n",
       "      <th></th>\n",
       "      <th>centre</th>\n",
       "      <th>shortName</th>\n",
       "      <th>typeOfLevel</th>\n",
       "      <th>level</th>\n",
       "      <th>dataDate</th>\n",
       "      <th>dataTime</th>\n",
       "      <th>stepRange</th>\n",
       "      <th>dataType</th>\n",
       "      <th>gridType</th>\n",
       "      <th>centre:l</th>\n",
       "    </tr>\n",
       "    <tr>\n",
       "      <th>Message</th>\n",
       "      <th></th>\n",
       "      <th></th>\n",
       "      <th></th>\n",
       "      <th></th>\n",
       "      <th></th>\n",
       "      <th></th>\n",
       "      <th></th>\n",
       "      <th></th>\n",
       "      <th></th>\n",
       "      <th></th>\n",
       "    </tr>\n",
       "  </thead>\n",
       "  <tbody>\n",
       "    <tr>\n",
       "      <th>0</th>\n",
       "      <td>ecmf</td>\n",
       "      <td>t</td>\n",
       "      <td>isobaricInhPa</td>\n",
       "      <td>1000</td>\n",
       "      <td>20111215</td>\n",
       "      <td>0</td>\n",
       "      <td>36</td>\n",
       "      <td>fc</td>\n",
       "      <td>regular_ll</td>\n",
       "      <td>98.0</td>\n",
       "    </tr>\n",
       "    <tr>\n",
       "      <th>1</th>\n",
       "      <td>ecmf</td>\n",
       "      <td>z</td>\n",
       "      <td>isobaricInhPa</td>\n",
       "      <td>1000</td>\n",
       "      <td>20111215</td>\n",
       "      <td>0</td>\n",
       "      <td>36</td>\n",
       "      <td>fc</td>\n",
       "      <td>regular_ll</td>\n",
       "      <td>98.0</td>\n",
       "    </tr>\n",
       "    <tr>\n",
       "      <th>2</th>\n",
       "      <td>ecmf</td>\n",
       "      <td>u</td>\n",
       "      <td>isobaricInhPa</td>\n",
       "      <td>1000</td>\n",
       "      <td>20111215</td>\n",
       "      <td>0</td>\n",
       "      <td>36</td>\n",
       "      <td>fc</td>\n",
       "      <td>regular_ll</td>\n",
       "      <td>98.0</td>\n",
       "    </tr>\n",
       "    <tr>\n",
       "      <th>3</th>\n",
       "      <td>ecmf</td>\n",
       "      <td>v</td>\n",
       "      <td>isobaricInhPa</td>\n",
       "      <td>1000</td>\n",
       "      <td>20111215</td>\n",
       "      <td>0</td>\n",
       "      <td>36</td>\n",
       "      <td>fc</td>\n",
       "      <td>regular_ll</td>\n",
       "      <td>98.0</td>\n",
       "    </tr>\n",
       "    <tr>\n",
       "      <th>4</th>\n",
       "      <td>ecmf</td>\n",
       "      <td>q</td>\n",
       "      <td>isobaricInhPa</td>\n",
       "      <td>1000</td>\n",
       "      <td>20111215</td>\n",
       "      <td>0</td>\n",
       "      <td>36</td>\n",
       "      <td>fc</td>\n",
       "      <td>regular_ll</td>\n",
       "      <td>98.0</td>\n",
       "    </tr>\n",
       "    <tr>\n",
       "      <th>5</th>\n",
       "      <td>ecmf</td>\n",
       "      <td>t</td>\n",
       "      <td>isobaricInhPa</td>\n",
       "      <td>850</td>\n",
       "      <td>20111215</td>\n",
       "      <td>0</td>\n",
       "      <td>36</td>\n",
       "      <td>fc</td>\n",
       "      <td>regular_ll</td>\n",
       "      <td>98.0</td>\n",
       "    </tr>\n",
       "    <tr>\n",
       "      <th>6</th>\n",
       "      <td>ecmf</td>\n",
       "      <td>z</td>\n",
       "      <td>isobaricInhPa</td>\n",
       "      <td>850</td>\n",
       "      <td>20111215</td>\n",
       "      <td>0</td>\n",
       "      <td>36</td>\n",
       "      <td>fc</td>\n",
       "      <td>regular_ll</td>\n",
       "      <td>98.0</td>\n",
       "    </tr>\n",
       "    <tr>\n",
       "      <th>7</th>\n",
       "      <td>ecmf</td>\n",
       "      <td>u</td>\n",
       "      <td>isobaricInhPa</td>\n",
       "      <td>850</td>\n",
       "      <td>20111215</td>\n",
       "      <td>0</td>\n",
       "      <td>36</td>\n",
       "      <td>fc</td>\n",
       "      <td>regular_ll</td>\n",
       "      <td>98.0</td>\n",
       "    </tr>\n",
       "    <tr>\n",
       "      <th>8</th>\n",
       "      <td>ecmf</td>\n",
       "      <td>v</td>\n",
       "      <td>isobaricInhPa</td>\n",
       "      <td>850</td>\n",
       "      <td>20111215</td>\n",
       "      <td>0</td>\n",
       "      <td>36</td>\n",
       "      <td>fc</td>\n",
       "      <td>regular_ll</td>\n",
       "      <td>98.0</td>\n",
       "    </tr>\n",
       "    <tr>\n",
       "      <th>9</th>\n",
       "      <td>ecmf</td>\n",
       "      <td>q</td>\n",
       "      <td>isobaricInhPa</td>\n",
       "      <td>850</td>\n",
       "      <td>20111215</td>\n",
       "      <td>0</td>\n",
       "      <td>36</td>\n",
       "      <td>fc</td>\n",
       "      <td>regular_ll</td>\n",
       "      <td>98.0</td>\n",
       "    </tr>\n",
       "  </tbody>\n",
       "</table>\n",
       "</div>"
      ]
     },
     "metadata": {},
     "execution_count": 10
    }
   ],
   "metadata": {}
  },
  {
   "cell_type": "markdown",
   "source": [
    "We can add a filter to show only those messages whose keys match all the given conditions. Note that these must be valid ecCodes keys - 'shortName' or 'paramId' can be used for the parameter, but 'param' cannot, since it is not a key. Keys do not need to be displayed in order to be used as a filter."
   ],
   "metadata": {}
  },
  {
   "cell_type": "code",
   "execution_count": 27,
   "source": [
    "fs.ls(filter={'shortName':'t', 'step':6, 'centre:s':'ecmf'})"
   ],
   "outputs": [
    {
     "output_type": "execute_result",
     "data": {
      "text/plain": [
       "        centre shortName  typeOfLevel    level  dataDate  dataTime stepRange  \\\n",
       "Message                                                                        \n",
       "35       ecmf       t     isobaricInhPa  1000   20111215      0         6      \n",
       "40       ecmf       t     isobaricInhPa   850   20111215      0         6      \n",
       "45       ecmf       t     isobaricInhPa   700   20111215      0         6      \n",
       "50       ecmf       t     isobaricInhPa   500   20111215      0         6      \n",
       "55       ecmf       t     isobaricInhPa   300   20111215      0         6      \n",
       "60       ecmf       t     isobaricInhPa   250   20111215      0         6      \n",
       "65       ecmf       t     isobaricInhPa   100   20111215      0         6      \n",
       "\n",
       "        dataType   gridType   \n",
       "Message                       \n",
       "35         fc     regular_ll  \n",
       "40         fc     regular_ll  \n",
       "45         fc     regular_ll  \n",
       "50         fc     regular_ll  \n",
       "55         fc     regular_ll  \n",
       "60         fc     regular_ll  \n",
       "65         fc     regular_ll  "
      ],
      "text/html": [
       "<div>\n",
       "<style scoped>\n",
       "    .dataframe tbody tr th:only-of-type {\n",
       "        vertical-align: middle;\n",
       "    }\n",
       "\n",
       "    .dataframe tbody tr th {\n",
       "        vertical-align: top;\n",
       "    }\n",
       "\n",
       "    .dataframe thead th {\n",
       "        text-align: right;\n",
       "    }\n",
       "</style>\n",
       "<table border=\"1\" class=\"dataframe\">\n",
       "  <thead>\n",
       "    <tr style=\"text-align: center;\">\n",
       "      <th></th>\n",
       "      <th>centre</th>\n",
       "      <th>shortName</th>\n",
       "      <th>typeOfLevel</th>\n",
       "      <th>level</th>\n",
       "      <th>dataDate</th>\n",
       "      <th>dataTime</th>\n",
       "      <th>stepRange</th>\n",
       "      <th>dataType</th>\n",
       "      <th>gridType</th>\n",
       "    </tr>\n",
       "    <tr>\n",
       "      <th>Message</th>\n",
       "      <th></th>\n",
       "      <th></th>\n",
       "      <th></th>\n",
       "      <th></th>\n",
       "      <th></th>\n",
       "      <th></th>\n",
       "      <th></th>\n",
       "      <th></th>\n",
       "      <th></th>\n",
       "    </tr>\n",
       "  </thead>\n",
       "  <tbody>\n",
       "    <tr>\n",
       "      <th>35</th>\n",
       "      <td>ecmf</td>\n",
       "      <td>t</td>\n",
       "      <td>isobaricInhPa</td>\n",
       "      <td>1000</td>\n",
       "      <td>20111215</td>\n",
       "      <td>0</td>\n",
       "      <td>6</td>\n",
       "      <td>fc</td>\n",
       "      <td>regular_ll</td>\n",
       "    </tr>\n",
       "    <tr>\n",
       "      <th>40</th>\n",
       "      <td>ecmf</td>\n",
       "      <td>t</td>\n",
       "      <td>isobaricInhPa</td>\n",
       "      <td>850</td>\n",
       "      <td>20111215</td>\n",
       "      <td>0</td>\n",
       "      <td>6</td>\n",
       "      <td>fc</td>\n",
       "      <td>regular_ll</td>\n",
       "    </tr>\n",
       "    <tr>\n",
       "      <th>45</th>\n",
       "      <td>ecmf</td>\n",
       "      <td>t</td>\n",
       "      <td>isobaricInhPa</td>\n",
       "      <td>700</td>\n",
       "      <td>20111215</td>\n",
       "      <td>0</td>\n",
       "      <td>6</td>\n",
       "      <td>fc</td>\n",
       "      <td>regular_ll</td>\n",
       "    </tr>\n",
       "    <tr>\n",
       "      <th>50</th>\n",
       "      <td>ecmf</td>\n",
       "      <td>t</td>\n",
       "      <td>isobaricInhPa</td>\n",
       "      <td>500</td>\n",
       "      <td>20111215</td>\n",
       "      <td>0</td>\n",
       "      <td>6</td>\n",
       "      <td>fc</td>\n",
       "      <td>regular_ll</td>\n",
       "    </tr>\n",
       "    <tr>\n",
       "      <th>55</th>\n",
       "      <td>ecmf</td>\n",
       "      <td>t</td>\n",
       "      <td>isobaricInhPa</td>\n",
       "      <td>300</td>\n",
       "      <td>20111215</td>\n",
       "      <td>0</td>\n",
       "      <td>6</td>\n",
       "      <td>fc</td>\n",
       "      <td>regular_ll</td>\n",
       "    </tr>\n",
       "    <tr>\n",
       "      <th>60</th>\n",
       "      <td>ecmf</td>\n",
       "      <td>t</td>\n",
       "      <td>isobaricInhPa</td>\n",
       "      <td>250</td>\n",
       "      <td>20111215</td>\n",
       "      <td>0</td>\n",
       "      <td>6</td>\n",
       "      <td>fc</td>\n",
       "      <td>regular_ll</td>\n",
       "    </tr>\n",
       "    <tr>\n",
       "      <th>65</th>\n",
       "      <td>ecmf</td>\n",
       "      <td>t</td>\n",
       "      <td>isobaricInhPa</td>\n",
       "      <td>100</td>\n",
       "      <td>20111215</td>\n",
       "      <td>0</td>\n",
       "      <td>6</td>\n",
       "      <td>fc</td>\n",
       "      <td>regular_ll</td>\n",
       "    </tr>\n",
       "  </tbody>\n",
       "</table>\n",
       "</div>"
      ]
     },
     "metadata": {},
     "execution_count": 27
    }
   ],
   "metadata": {}
  },
  {
   "cell_type": "markdown",
   "source": [
    "Note that the output from [ls()](../api/functions/ls.rst) is a pandas dataframe, allowing further manipulation:"
   ],
   "metadata": {}
  },
  {
   "cell_type": "code",
   "execution_count": 12,
   "source": [
    "p = fs[:10].ls()\n",
    "print(type(p))\n",
    "print(p.columns)\n",
    "print(p['shortName'])"
   ],
   "outputs": [
    {
     "output_type": "stream",
     "name": "stdout",
     "text": [
      "<class 'pandas.core.frame.DataFrame'>\n",
      "Index(['centre', 'shortName', 'typeOfLevel', 'level', 'dataDate', 'dataTime',\n",
      "       'stepRange', 'dataType', 'gridType'],\n",
      "      dtype='object')\n",
      "Message\n",
      "0    t\n",
      "1    z\n",
      "2    u\n",
      "3    v\n",
      "4    q\n",
      "5    t\n",
      "6    z\n",
      "7    u\n",
      "8    v\n",
      "9    q\n",
      "Name: shortName, dtype: object\n"
     ]
    }
   ],
   "metadata": {}
  },
  {
   "cell_type": "markdown",
   "source": [
    "## Getting more specific keys"
   ],
   "metadata": {}
  },
  {
   "cell_type": "markdown",
   "source": [
    "To extract just the keys you want from the GRIB fields, use [grib_get_long()](../api/functions/grib_get.rst#grib_get_long), [grib_get_double()](../api/functions/grib_get.rst#grib_get_double) and [grib_get_string()](../api/functions/grib_get.rst#grib_get_string) to extract single keys, and [grib_get()](../api/functions/grib_get.rst) for multiple keys. These examples show how."
   ],
   "metadata": {}
  },
  {
   "cell_type": "code",
   "execution_count": 13,
   "source": [
    "fs[:5].grib_get_string('centre')"
   ],
   "outputs": [
    {
     "output_type": "execute_result",
     "data": {
      "text/plain": [
       "['ecmf', 'ecmf', 'ecmf', 'ecmf', 'ecmf']"
      ]
     },
     "metadata": {},
     "execution_count": 13
    }
   ],
   "metadata": {}
  },
  {
   "cell_type": "code",
   "execution_count": 15,
   "source": [
    "fs[:5].grib_get_long('centre')"
   ],
   "outputs": [
    {
     "output_type": "execute_result",
     "data": {
      "text/plain": [
       "[98.0, 98.0, 98.0, 98.0, 98.0]"
      ]
     },
     "metadata": {},
     "execution_count": 15
    }
   ],
   "metadata": {}
  },
  {
   "cell_type": "code",
   "execution_count": 20,
   "source": [
    "fs[43:48].grib_get_double('level')"
   ],
   "outputs": [
    {
     "output_type": "execute_result",
     "data": {
      "text/plain": [
       "[850.0, 850.0, 700.0, 700.0, 700.0]"
      ]
     },
     "metadata": {},
     "execution_count": 20
    }
   ],
   "metadata": {}
  },
  {
   "cell_type": "markdown",
   "source": [
    "When extracting mutliple keys, it is more efficient to use [grib_get()](../api/functions/grib_get.rst) to get them all in one go:"
   ],
   "metadata": {}
  },
  {
   "cell_type": "code",
   "execution_count": 23,
   "source": [
    "fs[43:48].grib_get(['centre', 'step', 'level'])"
   ],
   "outputs": [
    {
     "output_type": "execute_result",
     "data": {
      "text/plain": [
       "[['ecmf', '6', '850'],\n",
       " ['ecmf', '6', '850'],\n",
       " ['ecmf', '6', '700'],\n",
       " ['ecmf', '6', '700'],\n",
       " ['ecmf', '6', '700']]"
      ]
     },
     "metadata": {},
     "execution_count": 23
    }
   ],
   "metadata": {}
  },
  {
   "cell_type": "markdown",
   "source": [
    "Since the [grib_get()](../api/functions/grib_get.rst) method does not specify a type for each key, we can add `:l`, `:d` or `:s` to each one:"
   ],
   "metadata": {}
  },
  {
   "cell_type": "code",
   "execution_count": 25,
   "source": [
    "fs[43:48].grib_get(['centre:l', 'step', 'level'])"
   ],
   "outputs": [
    {
     "output_type": "execute_result",
     "data": {
      "text/plain": [
       "[[98.0, '6', '850'],\n",
       " [98.0, '6', '850'],\n",
       " [98.0, '6', '700'],\n",
       " [98.0, '6', '700'],\n",
       " [98.0, '6', '700']]"
      ]
     },
     "metadata": {},
     "execution_count": 25
    }
   ],
   "metadata": {}
  },
  {
   "cell_type": "markdown",
   "source": [
    "The above command will return a list per field. We can instead tell it to group the results by key:"
   ],
   "metadata": {}
  },
  {
   "cell_type": "code",
   "execution_count": 26,
   "source": [
    "fs[43:48].grib_get(['centre:l', 'step', 'level'], 'key')"
   ],
   "outputs": [
    {
     "output_type": "execute_result",
     "data": {
      "text/plain": [
       "[[98.0, 98.0, 98.0, 98.0, 98.0],\n",
       " ['6', '6', '6', '6', '6'],\n",
       " ['850', '850', '700', '700', '700']]"
      ]
     },
     "metadata": {},
     "execution_count": 26
    }
   ],
   "metadata": {}
  },
  {
   "cell_type": "markdown",
   "source": [
    "## Quick plot\n",
    "Let's plot the first field to see the geographic extents of the data:"
   ],
   "metadata": {}
  },
  {
   "cell_type": "code",
   "execution_count": 34,
   "source": [
    "mv.setoutput('jupyter')\n",
    "mv.plot(fs[0], mv.mcont(contour_automatic_setting='ecmwf'))"
   ],
   "outputs": [
    {
     "output_type": "execute_result",
     "data": {
      "text/plain": [
       "<IPython.core.display.Image object>"
      ],
      "image/png": "[encoded data removed]"
     },
     "metadata": {},
     "execution_count": 34
    }
   ],
   "metadata": {
    "tags": [
     "nbsphinx-thumbnail"
    ]
   }
  },
  {
   "cell_type": "code",
   "execution_count": null,
   "source": [],
   "outputs": [],
   "metadata": {}
  }
 ],
 "metadata": {
  "celltoolbar": "Tags",
  "kernelspec": {
   "display_name": "Python 3",
   "language": "python",
   "name": "python3"
  },
  "language_info": {
   "codemirror_mode": {
    "name": "ipython",
    "version": 3
   },
   "file_extension": ".py",
   "mimetype": "text/x-python",
   "name": "python",
   "nbconvert_exporter": "python",
   "pygments_lexer": "ipython3",
   "version": "3.7.4"
  }
 },
 "nbformat": 4,
 "nbformat_minor": 4
}