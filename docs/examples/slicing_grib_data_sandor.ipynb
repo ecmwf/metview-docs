{
 "cells": [
  {
   "cell_type": "markdown",
   "id": "74c021c8",
   "metadata": {},
   "source": [
    "# Slicing and dicing GRIB data"
   ]
  },
  {
   "cell_type": "markdown",
   "id": "57f67698",
   "metadata": {},
   "source": [
    "## Terminology"
   ]
  },
  {
   "cell_type": "markdown",
   "id": "9087e85f",
   "metadata": {},
   "source": [
    "A GRIB file consists of a sequence of self-contained GRIB *messages*. A GRIB file is represented as a *Fieldset* object in Metview. Each message contains the data for a single *field*, e.g. a single parameter generated at a single time for a single forecast step. A field contains a set of *gridpoints* geographically distributed in some way, plus metadata such as the parameter, the generation time, the forecast step and the centre that generated the data. A field may be plotted on a map, and a Fieldset may be plotted as an animation on a map."
   ]
  },
  {
   "cell_type": "markdown",
   "id": "15d2c76f",
   "metadata": {},
   "source": [
    "## Setting up"
   ]
  },
  {
   "cell_type": "code",
   "execution_count": 226,
   "id": "92b61b84",
   "metadata": {},
   "outputs": [],
   "source": [
    "import numpy as np\n",
    "import xarray as xr\n",
    "import metview as mv"
   ]
  },
  {
   "cell_type": "code",
   "execution_count": 227,
   "id": "e93a623c",
   "metadata": {},
   "outputs": [],
   "source": [
    "# not strictly necessary to tell Metview that we're running in a Jupyter notebook,\n",
    "# but we will call this function so that we can specify a larger font size\n",
    "mv.setoutput('jupyter', output_font_scale=1.5, output_width=600)"
   ]
  },
  {
   "cell_type": "markdown",
   "id": "207249af",
   "metadata": {},
   "source": [
    "## Reading and inspecting the data"
   ]
  },
  {
   "cell_type": "code",
   "execution_count": 228,
   "id": "fdf8dd7f",
   "metadata": {},
   "outputs": [
    {
     "name": "stdout",
     "output_type": "stream",
     "text": [
      "Fieldset (191 fields)\n"
     ]
    }
   ],
   "source": [
    "data = mv.read('grib_to_be_sliced.grib')\n",
    "print(data)"
   ]
  },
  {
   "cell_type": "code",
   "execution_count": 229,
   "id": "ad4f3d4a",
   "metadata": {},
   "outputs": [
    {
     "data": {
      "text/html": [
       "  \n",
       "                <table>\n",
       "                <tr><th>parameter</th><th>typeOfLevel</th><th>level</th><th>date</th><th>time</th><th>step</th><th>number</th><th>paramId</th><th>class</th><th>stream</th><th>type</th><th>experimentVersionNumber</th></tr>\n",
       "                <tr><th style='text-align: right;'>2t</th><td style='text-align: left;'>surface</td><td style='text-align: left;'>0</td><td style='text-align: left;'>20220608</td><td style='text-align: left;'>1200</td><td style='text-align: left;'>0,6,...</td><td style='text-align: left;'>0</td><td style='text-align: left;'>167</td><td style='text-align: left;'>od</td><td style='text-align: left;'>oper</td><td style='text-align: left;'>fc</td><td style='text-align: left;'>0001</td></tr><tr><th style='text-align: right;'>lsm</th><td style='text-align: left;'>surface</td><td style='text-align: left;'>0</td><td style='text-align: left;'>20220608</td><td style='text-align: left;'>1200</td><td style='text-align: left;'>0</td><td style='text-align: left;'>0</td><td style='text-align: left;'>172</td><td style='text-align: left;'>od</td><td style='text-align: left;'>oper</td><td style='text-align: left;'>fc</td><td style='text-align: left;'>0001</td></tr><tr><th style='text-align: right;'>q</th><td style='text-align: left;'>isobaricInhPa</td><td style='text-align: left;'>100,150,...</td><td style='text-align: left;'>20220608</td><td style='text-align: left;'>1200</td><td style='text-align: left;'>0</td><td style='text-align: left;'>0</td><td style='text-align: left;'>133</td><td style='text-align: left;'>od</td><td style='text-align: left;'>oper</td><td style='text-align: left;'>fc</td><td style='text-align: left;'>0001</td></tr><tr><th style='text-align: right;'>r</th><td style='text-align: left;'>isobaricInhPa</td><td style='text-align: left;'>100,150,...</td><td style='text-align: left;'>20220608</td><td style='text-align: left;'>1200</td><td style='text-align: left;'>0</td><td style='text-align: left;'>0</td><td style='text-align: left;'>157</td><td style='text-align: left;'>od</td><td style='text-align: left;'>oper</td><td style='text-align: left;'>fc</td><td style='text-align: left;'>0001</td></tr><tr><th style='text-align: right;'>t</th><td style='text-align: left;'>isobaricInhPa</td><td style='text-align: left;'>100,150,...</td><td style='text-align: left;'>20220608</td><td style='text-align: left;'>1200</td><td style='text-align: left;'>0,6,...</td><td style='text-align: left;'>0</td><td style='text-align: left;'>130</td><td style='text-align: left;'>od</td><td style='text-align: left;'>oper</td><td style='text-align: left;'>fc</td><td style='text-align: left;'>0001</td></tr><tr><th style='text-align: right;'>trpp</th><td style='text-align: left;'>tropopause</td><td style='text-align: left;'>0</td><td style='text-align: left;'>20220608</td><td style='text-align: left;'>1200</td><td style='text-align: left;'>0</td><td style='text-align: left;'>None</td><td style='text-align: left;'>228045</td><td style='text-align: left;'>od</td><td style='text-align: left;'>oper</td><td style='text-align: left;'>fc</td><td style='text-align: left;'>0001</td></tr><tr><th style='text-align: right;'>z</th><td style='text-align: left;'>isobaricInhPa</td><td style='text-align: left;'>100,150,...</td><td style='text-align: left;'>20220608</td><td style='text-align: left;'>1200</td><td style='text-align: left;'>0</td><td style='text-align: left;'>0</td><td style='text-align: left;'>129</td><td style='text-align: left;'>od</td><td style='text-align: left;'>oper</td><td style='text-align: left;'>fc</td><td style='text-align: left;'>0001</td></tr>\n",
       "                </table>"
      ],
      "text/plain": [
       "<IPython.core.display.HTML object>"
      ]
     },
     "execution_count": 229,
     "metadata": {},
     "output_type": "execute_result"
    }
   ],
   "source": [
    "data.describe()"
   ]
  },
  {
   "cell_type": "code",
   "execution_count": 230,
   "id": "ef423bee",
   "metadata": {},
   "outputs": [
    {
     "data": {
      "text/html": [
       "  \n",
       "                <table>\n",
       "                <tr></tr>\n",
       "                <tr><th style='text-align: right;'>shortName</th><td style='text-align: left;'>r</td></tr><tr><th style='text-align: right;'>name</th><td style='text-align: left;'>Relative humidity</td></tr><tr><th style='text-align: right;'>paramId</th><td style='text-align: left;'>157</td></tr><tr><th style='text-align: right;'>units</th><td style='text-align: left;'>%</td></tr><tr><th style='text-align: right;'>typeOfLevel</th><td style='text-align: left;'>isobaricInhPa</td></tr><tr><th style='text-align: right;'>level</th><td style='text-align: left;'>100,150,200,250,300,400,500,700,850,925,1000</td></tr><tr><th style='text-align: right;'>date</th><td style='text-align: left;'>20220608</td></tr><tr><th style='text-align: right;'>time</th><td style='text-align: left;'>1200</td></tr><tr><th style='text-align: right;'>step</th><td style='text-align: left;'>0</td></tr><tr><th style='text-align: right;'>class</th><td style='text-align: left;'>od</td></tr><tr><th style='text-align: right;'>stream</th><td style='text-align: left;'>oper</td></tr><tr><th style='text-align: right;'>type</th><td style='text-align: left;'>fc</td></tr><tr><th style='text-align: right;'>experimentVersionNumber</th><td style='text-align: left;'>0001</td></tr>\n",
       "                </table>"
      ],
      "text/plain": [
       "<IPython.core.display.HTML object>"
      ]
     },
     "execution_count": 230,
     "metadata": {},
     "output_type": "execute_result"
    }
   ],
   "source": [
    "data.describe('r')"
   ]
  },
  {
   "cell_type": "code",
   "execution_count": 231,
   "id": "1b68e47d",
   "metadata": {},
   "outputs": [
    {
     "data": {
      "text/html": [
       "  \n",
       "                <table>\n",
       "                <tr></tr>\n",
       "                <tr><th style='text-align: right;'>shortName</th><td style='text-align: left;'>z</td></tr><tr><th style='text-align: right;'>name</th><td style='text-align: left;'>Geopotential</td></tr><tr><th style='text-align: right;'>paramId</th><td style='text-align: left;'>129</td></tr><tr><th style='text-align: right;'>units</th><td style='text-align: left;'>m**2 s**-2</td></tr><tr><th style='text-align: right;'>typeOfLevel</th><td style='text-align: left;'>isobaricInhPa</td></tr><tr><th style='text-align: right;'>level</th><td style='text-align: left;'>100,150,200,250,300,400,500,700,850,925,1000</td></tr><tr><th style='text-align: right;'>date</th><td style='text-align: left;'>20220608</td></tr><tr><th style='text-align: right;'>time</th><td style='text-align: left;'>1200</td></tr><tr><th style='text-align: right;'>step</th><td style='text-align: left;'>0</td></tr><tr><th style='text-align: right;'>class</th><td style='text-align: left;'>od</td></tr><tr><th style='text-align: right;'>stream</th><td style='text-align: left;'>oper</td></tr><tr><th style='text-align: right;'>type</th><td style='text-align: left;'>fc</td></tr><tr><th style='text-align: right;'>experimentVersionNumber</th><td style='text-align: left;'>0001</td></tr>\n",
       "                </table>"
      ],
      "text/plain": [
       "<IPython.core.display.HTML object>"
      ]
     },
     "execution_count": 231,
     "metadata": {},
     "output_type": "execute_result"
    }
   ],
   "source": [
    "data.describe('z')"
   ]
  },
  {
   "cell_type": "code",
   "execution_count": 232,
   "id": "c0758dc7",
   "metadata": {},
   "outputs": [
    {
     "data": {
      "text/html": [
       "  \n",
       "                <table>\n",
       "                <tr></tr>\n",
       "                <tr><th style='text-align: right;'>shortName</th><td style='text-align: left;'>t</td></tr><tr><th style='text-align: right;'>name</th><td style='text-align: left;'>Temperature</td></tr><tr><th style='text-align: right;'>paramId</th><td style='text-align: left;'>130</td></tr><tr><th style='text-align: right;'>units</th><td style='text-align: left;'>K</td></tr><tr><th style='text-align: right;'>typeOfLevel</th><td style='text-align: left;'>isobaricInhPa</td></tr><tr><th style='text-align: right;'>level</th><td style='text-align: left;'>100,150,200,250,300,400,500,700,850,925,1000</td></tr><tr><th style='text-align: right;'>date</th><td style='text-align: left;'>20220608</td></tr><tr><th style='text-align: right;'>time</th><td style='text-align: left;'>1200</td></tr><tr><th style='text-align: right;'>step</th><td style='text-align: left;'>0,6,12,18,24,30,36,42,48,54,60,66,72</td></tr><tr><th style='text-align: right;'>class</th><td style='text-align: left;'>od</td></tr><tr><th style='text-align: right;'>stream</th><td style='text-align: left;'>oper</td></tr><tr><th style='text-align: right;'>type</th><td style='text-align: left;'>fc</td></tr><tr><th style='text-align: right;'>experimentVersionNumber</th><td style='text-align: left;'>0001</td></tr>\n",
       "                </table>"
      ],
      "text/plain": [
       "<IPython.core.display.HTML object>"
      ]
     },
     "execution_count": 232,
     "metadata": {},
     "output_type": "execute_result"
    }
   ],
   "source": [
    "data.describe('t')"
   ]
  },
  {
   "cell_type": "code",
   "execution_count": 233,
   "id": "e388b502",
   "metadata": {},
   "outputs": [
    {
     "data": {
      "text/html": [
       "<div>\n",
       "<style scoped>\n",
       "    .dataframe tbody tr th:only-of-type {\n",
       "        vertical-align: middle;\n",
       "    }\n",
       "\n",
       "    .dataframe tbody tr th {\n",
       "        vertical-align: top;\n",
       "    }\n",
       "\n",
       "    .dataframe thead th {\n",
       "        text-align: right;\n",
       "    }\n",
       "</style>\n",
       "<table border=\"1\" class=\"dataframe\">\n",
       "  <thead>\n",
       "    <tr style=\"text-align: center;\">\n",
       "      <th></th>\n",
       "      <th>centre</th>\n",
       "      <th>shortName</th>\n",
       "      <th>typeOfLevel</th>\n",
       "      <th>level</th>\n",
       "      <th>dataDate</th>\n",
       "      <th>dataTime</th>\n",
       "      <th>stepRange</th>\n",
       "      <th>dataType</th>\n",
       "      <th>number</th>\n",
       "      <th>gridType</th>\n",
       "    </tr>\n",
       "    <tr>\n",
       "      <th>Message</th>\n",
       "      <th></th>\n",
       "      <th></th>\n",
       "      <th></th>\n",
       "      <th></th>\n",
       "      <th></th>\n",
       "      <th></th>\n",
       "      <th></th>\n",
       "      <th></th>\n",
       "      <th></th>\n",
       "      <th></th>\n",
       "    </tr>\n",
       "  </thead>\n",
       "  <tbody>\n",
       "    <tr>\n",
       "      <th>0</th>\n",
       "      <td>ecmf</td>\n",
       "      <td>2t</td>\n",
       "      <td>surface</td>\n",
       "      <td>0</td>\n",
       "      <td>20220608</td>\n",
       "      <td>1200</td>\n",
       "      <td>0</td>\n",
       "      <td>fc</td>\n",
       "      <td>0</td>\n",
       "      <td>reduced_gg</td>\n",
       "    </tr>\n",
       "    <tr>\n",
       "      <th>1</th>\n",
       "      <td>ecmf</td>\n",
       "      <td>2t</td>\n",
       "      <td>surface</td>\n",
       "      <td>0</td>\n",
       "      <td>20220608</td>\n",
       "      <td>1200</td>\n",
       "      <td>6</td>\n",
       "      <td>fc</td>\n",
       "      <td>0</td>\n",
       "      <td>reduced_gg</td>\n",
       "    </tr>\n",
       "    <tr>\n",
       "      <th>2</th>\n",
       "      <td>ecmf</td>\n",
       "      <td>2t</td>\n",
       "      <td>surface</td>\n",
       "      <td>0</td>\n",
       "      <td>20220608</td>\n",
       "      <td>1200</td>\n",
       "      <td>12</td>\n",
       "      <td>fc</td>\n",
       "      <td>0</td>\n",
       "      <td>reduced_gg</td>\n",
       "    </tr>\n",
       "    <tr>\n",
       "      <th>3</th>\n",
       "      <td>ecmf</td>\n",
       "      <td>2t</td>\n",
       "      <td>surface</td>\n",
       "      <td>0</td>\n",
       "      <td>20220608</td>\n",
       "      <td>1200</td>\n",
       "      <td>18</td>\n",
       "      <td>fc</td>\n",
       "      <td>0</td>\n",
       "      <td>reduced_gg</td>\n",
       "    </tr>\n",
       "    <tr>\n",
       "      <th>4</th>\n",
       "      <td>ecmf</td>\n",
       "      <td>2t</td>\n",
       "      <td>surface</td>\n",
       "      <td>0</td>\n",
       "      <td>20220608</td>\n",
       "      <td>1200</td>\n",
       "      <td>24</td>\n",
       "      <td>fc</td>\n",
       "      <td>0</td>\n",
       "      <td>reduced_gg</td>\n",
       "    </tr>\n",
       "    <tr>\n",
       "      <th>5</th>\n",
       "      <td>ecmf</td>\n",
       "      <td>2t</td>\n",
       "      <td>surface</td>\n",
       "      <td>0</td>\n",
       "      <td>20220608</td>\n",
       "      <td>1200</td>\n",
       "      <td>30</td>\n",
       "      <td>fc</td>\n",
       "      <td>0</td>\n",
       "      <td>reduced_gg</td>\n",
       "    </tr>\n",
       "    <tr>\n",
       "      <th>6</th>\n",
       "      <td>ecmf</td>\n",
       "      <td>2t</td>\n",
       "      <td>surface</td>\n",
       "      <td>0</td>\n",
       "      <td>20220608</td>\n",
       "      <td>1200</td>\n",
       "      <td>36</td>\n",
       "      <td>fc</td>\n",
       "      <td>0</td>\n",
       "      <td>reduced_gg</td>\n",
       "    </tr>\n",
       "    <tr>\n",
       "      <th>7</th>\n",
       "      <td>ecmf</td>\n",
       "      <td>2t</td>\n",
       "      <td>surface</td>\n",
       "      <td>0</td>\n",
       "      <td>20220608</td>\n",
       "      <td>1200</td>\n",
       "      <td>42</td>\n",
       "      <td>fc</td>\n",
       "      <td>0</td>\n",
       "      <td>reduced_gg</td>\n",
       "    </tr>\n",
       "    <tr>\n",
       "      <th>8</th>\n",
       "      <td>ecmf</td>\n",
       "      <td>2t</td>\n",
       "      <td>surface</td>\n",
       "      <td>0</td>\n",
       "      <td>20220608</td>\n",
       "      <td>1200</td>\n",
       "      <td>48</td>\n",
       "      <td>fc</td>\n",
       "      <td>0</td>\n",
       "      <td>reduced_gg</td>\n",
       "    </tr>\n",
       "    <tr>\n",
       "      <th>9</th>\n",
       "      <td>ecmf</td>\n",
       "      <td>2t</td>\n",
       "      <td>surface</td>\n",
       "      <td>0</td>\n",
       "      <td>20220608</td>\n",
       "      <td>1200</td>\n",
       "      <td>54</td>\n",
       "      <td>fc</td>\n",
       "      <td>0</td>\n",
       "      <td>reduced_gg</td>\n",
       "    </tr>\n",
       "  </tbody>\n",
       "</table>\n",
       "</div>"
      ],
      "text/plain": [
       "        centre shortName typeOfLevel  level  dataDate  dataTime stepRange  \\\n",
       "Message                                                                     \n",
       "0        ecmf      2t       surface     0    20220608    1200        0      \n",
       "1        ecmf      2t       surface     0    20220608    1200        6      \n",
       "2        ecmf      2t       surface     0    20220608    1200       12      \n",
       "3        ecmf      2t       surface     0    20220608    1200       18      \n",
       "4        ecmf      2t       surface     0    20220608    1200       24      \n",
       "5        ecmf      2t       surface     0    20220608    1200       30      \n",
       "6        ecmf      2t       surface     0    20220608    1200       36      \n",
       "7        ecmf      2t       surface     0    20220608    1200       42      \n",
       "8        ecmf      2t       surface     0    20220608    1200       48      \n",
       "9        ecmf      2t       surface     0    20220608    1200       54      \n",
       "\n",
       "        dataType number   gridType   \n",
       "Message                              \n",
       "0          fc       0    reduced_gg  \n",
       "1          fc       0    reduced_gg  \n",
       "2          fc       0    reduced_gg  \n",
       "3          fc       0    reduced_gg  \n",
       "4          fc       0    reduced_gg  \n",
       "5          fc       0    reduced_gg  \n",
       "6          fc       0    reduced_gg  \n",
       "7          fc       0    reduced_gg  \n",
       "8          fc       0    reduced_gg  \n",
       "9          fc       0    reduced_gg  "
      ]
     },
     "execution_count": 233,
     "metadata": {},
     "output_type": "execute_result"
    }
   ],
   "source": [
    "data.ls()[:10]"
   ]
  },
  {
   "cell_type": "markdown",
   "id": "0dd4e15f",
   "metadata": {},
   "source": [
    "# Field selection"
   ]
  },
  {
   "cell_type": "markdown",
   "id": "967dbb5c",
   "metadata": {},
   "source": [
    "## Field selection through indexing"
   ]
  },
  {
   "cell_type": "code",
   "execution_count": 234,
   "id": "39cbe87f",
   "metadata": {},
   "outputs": [
    {
     "name": "stdout",
     "output_type": "stream",
     "text": [
      "Fieldset (1 field)\n"
     ]
    },
    {
     "data": {
      "text/html": [
       "<div>\n",
       "<style scoped>\n",
       "    .dataframe tbody tr th:only-of-type {\n",
       "        vertical-align: middle;\n",
       "    }\n",
       "\n",
       "    .dataframe tbody tr th {\n",
       "        vertical-align: top;\n",
       "    }\n",
       "\n",
       "    .dataframe thead th {\n",
       "        text-align: right;\n",
       "    }\n",
       "</style>\n",
       "<table border=\"1\" class=\"dataframe\">\n",
       "  <thead>\n",
       "    <tr style=\"text-align: center;\">\n",
       "      <th></th>\n",
       "      <th>centre</th>\n",
       "      <th>shortName</th>\n",
       "      <th>typeOfLevel</th>\n",
       "      <th>level</th>\n",
       "      <th>dataDate</th>\n",
       "      <th>dataTime</th>\n",
       "      <th>stepRange</th>\n",
       "      <th>dataType</th>\n",
       "      <th>gridType</th>\n",
       "    </tr>\n",
       "    <tr>\n",
       "      <th>Message</th>\n",
       "      <th></th>\n",
       "      <th></th>\n",
       "      <th></th>\n",
       "      <th></th>\n",
       "      <th></th>\n",
       "      <th></th>\n",
       "      <th></th>\n",
       "      <th></th>\n",
       "      <th></th>\n",
       "    </tr>\n",
       "  </thead>\n",
       "  <tbody>\n",
       "    <tr>\n",
       "      <th>0</th>\n",
       "      <td>ecmf</td>\n",
       "      <td>2t</td>\n",
       "      <td>surface</td>\n",
       "      <td>0</td>\n",
       "      <td>20220608</td>\n",
       "      <td>1200</td>\n",
       "      <td>0</td>\n",
       "      <td>fc</td>\n",
       "      <td>reduced_gg</td>\n",
       "    </tr>\n",
       "  </tbody>\n",
       "</table>\n",
       "</div>"
      ],
      "text/plain": [
       "        centre shortName typeOfLevel  level  dataDate  dataTime stepRange  \\\n",
       "Message                                                                     \n",
       "0        ecmf      2t       surface     0    20220608    1200        0      \n",
       "\n",
       "        dataType   gridType   \n",
       "Message                       \n",
       "0          fc     reduced_gg  "
      ]
     },
     "execution_count": 234,
     "metadata": {},
     "output_type": "execute_result"
    }
   ],
   "source": [
    "# select the first field (0-based indexing)\n",
    "print(data[0])\n",
    "data[0].ls()"
   ]
  },
  {
   "cell_type": "code",
   "execution_count": 235,
   "id": "96c8eaf8",
   "metadata": {},
   "outputs": [
    {
     "data": {
      "text/html": [
       "<div>\n",
       "<style scoped>\n",
       "    .dataframe tbody tr th:only-of-type {\n",
       "        vertical-align: middle;\n",
       "    }\n",
       "\n",
       "    .dataframe tbody tr th {\n",
       "        vertical-align: top;\n",
       "    }\n",
       "\n",
       "    .dataframe thead th {\n",
       "        text-align: right;\n",
       "    }\n",
       "</style>\n",
       "<table border=\"1\" class=\"dataframe\">\n",
       "  <thead>\n",
       "    <tr style=\"text-align: center;\">\n",
       "      <th></th>\n",
       "      <th>centre</th>\n",
       "      <th>shortName</th>\n",
       "      <th>typeOfLevel</th>\n",
       "      <th>level</th>\n",
       "      <th>dataDate</th>\n",
       "      <th>dataTime</th>\n",
       "      <th>stepRange</th>\n",
       "      <th>dataType</th>\n",
       "      <th>gridType</th>\n",
       "    </tr>\n",
       "    <tr>\n",
       "      <th>Message</th>\n",
       "      <th></th>\n",
       "      <th></th>\n",
       "      <th></th>\n",
       "      <th></th>\n",
       "      <th></th>\n",
       "      <th></th>\n",
       "      <th></th>\n",
       "      <th></th>\n",
       "      <th></th>\n",
       "    </tr>\n",
       "  </thead>\n",
       "  <tbody>\n",
       "    <tr>\n",
       "      <th>0</th>\n",
       "      <td>ecmf</td>\n",
       "      <td>2t</td>\n",
       "      <td>surface</td>\n",
       "      <td>0</td>\n",
       "      <td>20220608</td>\n",
       "      <td>1200</td>\n",
       "      <td>18</td>\n",
       "      <td>fc</td>\n",
       "      <td>reduced_gg</td>\n",
       "    </tr>\n",
       "  </tbody>\n",
       "</table>\n",
       "</div>"
      ],
      "text/plain": [
       "        centre shortName typeOfLevel  level  dataDate  dataTime stepRange  \\\n",
       "Message                                                                     \n",
       "0        ecmf      2t       surface     0    20220608    1200       18      \n",
       "\n",
       "        dataType   gridType   \n",
       "Message                       \n",
       "0          fc     reduced_gg  "
      ]
     },
     "execution_count": 235,
     "metadata": {},
     "output_type": "execute_result"
    }
   ],
   "source": [
    "# select the fourth field (0-based indexing)\n",
    "data[3].ls()"
   ]
  },
  {
   "cell_type": "code",
   "execution_count": 236,
   "id": "7476bd1b",
   "metadata": {},
   "outputs": [
    {
     "data": {
      "text/html": [
       "<div>\n",
       "<style scoped>\n",
       "    .dataframe tbody tr th:only-of-type {\n",
       "        vertical-align: middle;\n",
       "    }\n",
       "\n",
       "    .dataframe tbody tr th {\n",
       "        vertical-align: top;\n",
       "    }\n",
       "\n",
       "    .dataframe thead th {\n",
       "        text-align: right;\n",
       "    }\n",
       "</style>\n",
       "<table border=\"1\" class=\"dataframe\">\n",
       "  <thead>\n",
       "    <tr style=\"text-align: center;\">\n",
       "      <th></th>\n",
       "      <th>centre</th>\n",
       "      <th>shortName</th>\n",
       "      <th>typeOfLevel</th>\n",
       "      <th>level</th>\n",
       "      <th>dataDate</th>\n",
       "      <th>dataTime</th>\n",
       "      <th>stepRange</th>\n",
       "      <th>dataType</th>\n",
       "      <th>gridType</th>\n",
       "    </tr>\n",
       "    <tr>\n",
       "      <th>Message</th>\n",
       "      <th></th>\n",
       "      <th></th>\n",
       "      <th></th>\n",
       "      <th></th>\n",
       "      <th></th>\n",
       "      <th></th>\n",
       "      <th></th>\n",
       "      <th></th>\n",
       "      <th></th>\n",
       "    </tr>\n",
       "  </thead>\n",
       "  <tbody>\n",
       "    <tr>\n",
       "      <th>0</th>\n",
       "      <td>ecmf</td>\n",
       "      <td>t</td>\n",
       "      <td>isobaricInhPa</td>\n",
       "      <td>100</td>\n",
       "      <td>20220608</td>\n",
       "      <td>1200</td>\n",
       "      <td>72</td>\n",
       "      <td>fc</td>\n",
       "      <td>reduced_gg</td>\n",
       "    </tr>\n",
       "  </tbody>\n",
       "</table>\n",
       "</div>"
      ],
      "text/plain": [
       "        centre shortName  typeOfLevel    level  dataDate  dataTime stepRange  \\\n",
       "Message                                                                        \n",
       "0        ecmf       t     isobaricInhPa   100   20220608    1200       72      \n",
       "\n",
       "        dataType   gridType   \n",
       "Message                       \n",
       "0          fc     reduced_gg  "
      ]
     },
     "execution_count": 236,
     "metadata": {},
     "output_type": "execute_result"
    }
   ],
   "source": [
    "# select the last field\n",
    "data[-1].ls()"
   ]
  },
  {
   "cell_type": "code",
   "execution_count": 237,
   "id": "7622acea",
   "metadata": {},
   "outputs": [
    {
     "data": {
      "text/html": [
       "<div>\n",
       "<style scoped>\n",
       "    .dataframe tbody tr th:only-of-type {\n",
       "        vertical-align: middle;\n",
       "    }\n",
       "\n",
       "    .dataframe tbody tr th {\n",
       "        vertical-align: top;\n",
       "    }\n",
       "\n",
       "    .dataframe thead th {\n",
       "        text-align: right;\n",
       "    }\n",
       "</style>\n",
       "<table border=\"1\" class=\"dataframe\">\n",
       "  <thead>\n",
       "    <tr style=\"text-align: center;\">\n",
       "      <th></th>\n",
       "      <th>centre</th>\n",
       "      <th>shortName</th>\n",
       "      <th>typeOfLevel</th>\n",
       "      <th>level</th>\n",
       "      <th>dataDate</th>\n",
       "      <th>dataTime</th>\n",
       "      <th>stepRange</th>\n",
       "      <th>dataType</th>\n",
       "      <th>gridType</th>\n",
       "    </tr>\n",
       "    <tr>\n",
       "      <th>Message</th>\n",
       "      <th></th>\n",
       "      <th></th>\n",
       "      <th></th>\n",
       "      <th></th>\n",
       "      <th></th>\n",
       "      <th></th>\n",
       "      <th></th>\n",
       "      <th></th>\n",
       "      <th></th>\n",
       "    </tr>\n",
       "  </thead>\n",
       "  <tbody>\n",
       "    <tr>\n",
       "      <th>0</th>\n",
       "      <td>ecmf</td>\n",
       "      <td>2t</td>\n",
       "      <td>surface</td>\n",
       "      <td>0</td>\n",
       "      <td>20220608</td>\n",
       "      <td>1200</td>\n",
       "      <td>6</td>\n",
       "      <td>fc</td>\n",
       "      <td>reduced_gg</td>\n",
       "    </tr>\n",
       "    <tr>\n",
       "      <th>1</th>\n",
       "      <td>ecmf</td>\n",
       "      <td>2t</td>\n",
       "      <td>surface</td>\n",
       "      <td>0</td>\n",
       "      <td>20220608</td>\n",
       "      <td>1200</td>\n",
       "      <td>12</td>\n",
       "      <td>fc</td>\n",
       "      <td>reduced_gg</td>\n",
       "    </tr>\n",
       "    <tr>\n",
       "      <th>2</th>\n",
       "      <td>ecmf</td>\n",
       "      <td>2t</td>\n",
       "      <td>surface</td>\n",
       "      <td>0</td>\n",
       "      <td>20220608</td>\n",
       "      <td>1200</td>\n",
       "      <td>0</td>\n",
       "      <td>fc</td>\n",
       "      <td>reduced_gg</td>\n",
       "    </tr>\n",
       "    <tr>\n",
       "      <th>3</th>\n",
       "      <td>ecmf</td>\n",
       "      <td>z</td>\n",
       "      <td>isobaricInhPa</td>\n",
       "      <td>1000</td>\n",
       "      <td>20220608</td>\n",
       "      <td>1200</td>\n",
       "      <td>0</td>\n",
       "      <td>fc</td>\n",
       "      <td>reduced_gg</td>\n",
       "    </tr>\n",
       "  </tbody>\n",
       "</table>\n",
       "</div>"
      ],
      "text/plain": [
       "        centre shortName  typeOfLevel    level  dataDate  dataTime stepRange  \\\n",
       "Message                                                                        \n",
       "0        ecmf      2t           surface     0   20220608    1200        6      \n",
       "1        ecmf      2t           surface     0   20220608    1200       12      \n",
       "2        ecmf      2t           surface     0   20220608    1200        0      \n",
       "3        ecmf       z     isobaricInhPa  1000   20220608    1200        0      \n",
       "\n",
       "        dataType   gridType   \n",
       "Message                       \n",
       "0          fc     reduced_gg  \n",
       "1          fc     reduced_gg  \n",
       "2          fc     reduced_gg  \n",
       "3          fc     reduced_gg  "
      ]
     },
     "execution_count": 237,
     "metadata": {},
     "output_type": "execute_result"
    }
   ],
   "source": [
    "# index with numpy array\n",
    "indices = np.array([1, 2, 0, 15])\n",
    "data[indices].ls()"
   ]
  },
  {
   "cell_type": "markdown",
   "id": "538498db",
   "metadata": {},
   "source": [
    "## Field selection through slicing"
   ]
  },
  {
   "cell_type": "code",
   "execution_count": 238,
   "id": "a1bb166e",
   "metadata": {},
   "outputs": [
    {
     "data": {
      "text/html": [
       "<div>\n",
       "<style scoped>\n",
       "    .dataframe tbody tr th:only-of-type {\n",
       "        vertical-align: middle;\n",
       "    }\n",
       "\n",
       "    .dataframe tbody tr th {\n",
       "        vertical-align: top;\n",
       "    }\n",
       "\n",
       "    .dataframe thead th {\n",
       "        text-align: right;\n",
       "    }\n",
       "</style>\n",
       "<table border=\"1\" class=\"dataframe\">\n",
       "  <thead>\n",
       "    <tr style=\"text-align: center;\">\n",
       "      <th></th>\n",
       "      <th>centre</th>\n",
       "      <th>shortName</th>\n",
       "      <th>typeOfLevel</th>\n",
       "      <th>level</th>\n",
       "      <th>dataDate</th>\n",
       "      <th>dataTime</th>\n",
       "      <th>stepRange</th>\n",
       "      <th>dataType</th>\n",
       "      <th>gridType</th>\n",
       "    </tr>\n",
       "    <tr>\n",
       "      <th>Message</th>\n",
       "      <th></th>\n",
       "      <th></th>\n",
       "      <th></th>\n",
       "      <th></th>\n",
       "      <th></th>\n",
       "      <th></th>\n",
       "      <th></th>\n",
       "      <th></th>\n",
       "      <th></th>\n",
       "    </tr>\n",
       "  </thead>\n",
       "  <tbody>\n",
       "    <tr>\n",
       "      <th>0</th>\n",
       "      <td>ecmf</td>\n",
       "      <td>2t</td>\n",
       "      <td>surface</td>\n",
       "      <td>0</td>\n",
       "      <td>20220608</td>\n",
       "      <td>1200</td>\n",
       "      <td>24</td>\n",
       "      <td>fc</td>\n",
       "      <td>reduced_gg</td>\n",
       "    </tr>\n",
       "    <tr>\n",
       "      <th>1</th>\n",
       "      <td>ecmf</td>\n",
       "      <td>2t</td>\n",
       "      <td>surface</td>\n",
       "      <td>0</td>\n",
       "      <td>20220608</td>\n",
       "      <td>1200</td>\n",
       "      <td>30</td>\n",
       "      <td>fc</td>\n",
       "      <td>reduced_gg</td>\n",
       "    </tr>\n",
       "    <tr>\n",
       "      <th>2</th>\n",
       "      <td>ecmf</td>\n",
       "      <td>2t</td>\n",
       "      <td>surface</td>\n",
       "      <td>0</td>\n",
       "      <td>20220608</td>\n",
       "      <td>1200</td>\n",
       "      <td>36</td>\n",
       "      <td>fc</td>\n",
       "      <td>reduced_gg</td>\n",
       "    </tr>\n",
       "    <tr>\n",
       "      <th>3</th>\n",
       "      <td>ecmf</td>\n",
       "      <td>2t</td>\n",
       "      <td>surface</td>\n",
       "      <td>0</td>\n",
       "      <td>20220608</td>\n",
       "      <td>1200</td>\n",
       "      <td>42</td>\n",
       "      <td>fc</td>\n",
       "      <td>reduced_gg</td>\n",
       "    </tr>\n",
       "  </tbody>\n",
       "</table>\n",
       "</div>"
      ],
      "text/plain": [
       "        centre shortName typeOfLevel  level  dataDate  dataTime stepRange  \\\n",
       "Message                                                                     \n",
       "0        ecmf      2t       surface     0    20220608    1200       24      \n",
       "1        ecmf      2t       surface     0    20220608    1200       30      \n",
       "2        ecmf      2t       surface     0    20220608    1200       36      \n",
       "3        ecmf      2t       surface     0    20220608    1200       42      \n",
       "\n",
       "        dataType   gridType   \n",
       "Message                       \n",
       "0          fc     reduced_gg  \n",
       "1          fc     reduced_gg  \n",
       "2          fc     reduced_gg  \n",
       "3          fc     reduced_gg  "
      ]
     },
     "execution_count": 238,
     "metadata": {},
     "output_type": "execute_result"
    }
   ],
   "source": [
    "# select fields 4 to 7\n",
    "data[4:8].ls()"
   ]
  },
  {
   "cell_type": "code",
   "execution_count": 239,
   "id": "7d8a7769",
   "metadata": {},
   "outputs": [
    {
     "data": {
      "text/html": [
       "<div>\n",
       "<style scoped>\n",
       "    .dataframe tbody tr th:only-of-type {\n",
       "        vertical-align: middle;\n",
       "    }\n",
       "\n",
       "    .dataframe tbody tr th {\n",
       "        vertical-align: top;\n",
       "    }\n",
       "\n",
       "    .dataframe thead th {\n",
       "        text-align: right;\n",
       "    }\n",
       "</style>\n",
       "<table border=\"1\" class=\"dataframe\">\n",
       "  <thead>\n",
       "    <tr style=\"text-align: center;\">\n",
       "      <th></th>\n",
       "      <th>centre</th>\n",
       "      <th>shortName</th>\n",
       "      <th>typeOfLevel</th>\n",
       "      <th>level</th>\n",
       "      <th>dataDate</th>\n",
       "      <th>dataTime</th>\n",
       "      <th>stepRange</th>\n",
       "      <th>dataType</th>\n",
       "      <th>gridType</th>\n",
       "    </tr>\n",
       "    <tr>\n",
       "      <th>Message</th>\n",
       "      <th></th>\n",
       "      <th></th>\n",
       "      <th></th>\n",
       "      <th></th>\n",
       "      <th></th>\n",
       "      <th></th>\n",
       "      <th></th>\n",
       "      <th></th>\n",
       "      <th></th>\n",
       "    </tr>\n",
       "  </thead>\n",
       "  <tbody>\n",
       "    <tr>\n",
       "      <th>0</th>\n",
       "      <td>ecmf</td>\n",
       "      <td>2t</td>\n",
       "      <td>surface</td>\n",
       "      <td>0</td>\n",
       "      <td>20220608</td>\n",
       "      <td>1200</td>\n",
       "      <td>24</td>\n",
       "      <td>fc</td>\n",
       "      <td>reduced_gg</td>\n",
       "    </tr>\n",
       "    <tr>\n",
       "      <th>1</th>\n",
       "      <td>ecmf</td>\n",
       "      <td>2t</td>\n",
       "      <td>surface</td>\n",
       "      <td>0</td>\n",
       "      <td>20220608</td>\n",
       "      <td>1200</td>\n",
       "      <td>36</td>\n",
       "      <td>fc</td>\n",
       "      <td>reduced_gg</td>\n",
       "    </tr>\n",
       "  </tbody>\n",
       "</table>\n",
       "</div>"
      ],
      "text/plain": [
       "        centre shortName typeOfLevel  level  dataDate  dataTime stepRange  \\\n",
       "Message                                                                     \n",
       "0        ecmf      2t       surface     0    20220608    1200       24      \n",
       "1        ecmf      2t       surface     0    20220608    1200       36      \n",
       "\n",
       "        dataType   gridType   \n",
       "Message                       \n",
       "0          fc     reduced_gg  \n",
       "1          fc     reduced_gg  "
      ]
     },
     "execution_count": 239,
     "metadata": {},
     "output_type": "execute_result"
    }
   ],
   "source": [
    "# select fields 4 to 7, step 2\n",
    "data[4:8:2].ls()"
   ]
  },
  {
   "cell_type": "code",
   "execution_count": 240,
   "id": "0a1e6bf1",
   "metadata": {},
   "outputs": [
    {
     "data": {
      "text/html": [
       "<div>\n",
       "<style scoped>\n",
       "    .dataframe tbody tr th:only-of-type {\n",
       "        vertical-align: middle;\n",
       "    }\n",
       "\n",
       "    .dataframe tbody tr th {\n",
       "        vertical-align: top;\n",
       "    }\n",
       "\n",
       "    .dataframe thead th {\n",
       "        text-align: right;\n",
       "    }\n",
       "</style>\n",
       "<table border=\"1\" class=\"dataframe\">\n",
       "  <thead>\n",
       "    <tr style=\"text-align: center;\">\n",
       "      <th></th>\n",
       "      <th>centre</th>\n",
       "      <th>shortName</th>\n",
       "      <th>typeOfLevel</th>\n",
       "      <th>level</th>\n",
       "      <th>dataDate</th>\n",
       "      <th>dataTime</th>\n",
       "      <th>stepRange</th>\n",
       "      <th>dataType</th>\n",
       "      <th>gridType</th>\n",
       "    </tr>\n",
       "    <tr>\n",
       "      <th>Message</th>\n",
       "      <th></th>\n",
       "      <th></th>\n",
       "      <th></th>\n",
       "      <th></th>\n",
       "      <th></th>\n",
       "      <th></th>\n",
       "      <th></th>\n",
       "      <th></th>\n",
       "      <th></th>\n",
       "    </tr>\n",
       "  </thead>\n",
       "  <tbody>\n",
       "    <tr>\n",
       "      <th>0</th>\n",
       "      <td>ecmf</td>\n",
       "      <td>t</td>\n",
       "      <td>isobaricInhPa</td>\n",
       "      <td>300</td>\n",
       "      <td>20220608</td>\n",
       "      <td>1200</td>\n",
       "      <td>72</td>\n",
       "      <td>fc</td>\n",
       "      <td>reduced_gg</td>\n",
       "    </tr>\n",
       "    <tr>\n",
       "      <th>1</th>\n",
       "      <td>ecmf</td>\n",
       "      <td>t</td>\n",
       "      <td>isobaricInhPa</td>\n",
       "      <td>250</td>\n",
       "      <td>20220608</td>\n",
       "      <td>1200</td>\n",
       "      <td>72</td>\n",
       "      <td>fc</td>\n",
       "      <td>reduced_gg</td>\n",
       "    </tr>\n",
       "    <tr>\n",
       "      <th>2</th>\n",
       "      <td>ecmf</td>\n",
       "      <td>t</td>\n",
       "      <td>isobaricInhPa</td>\n",
       "      <td>200</td>\n",
       "      <td>20220608</td>\n",
       "      <td>1200</td>\n",
       "      <td>72</td>\n",
       "      <td>fc</td>\n",
       "      <td>reduced_gg</td>\n",
       "    </tr>\n",
       "    <tr>\n",
       "      <th>3</th>\n",
       "      <td>ecmf</td>\n",
       "      <td>t</td>\n",
       "      <td>isobaricInhPa</td>\n",
       "      <td>150</td>\n",
       "      <td>20220608</td>\n",
       "      <td>1200</td>\n",
       "      <td>72</td>\n",
       "      <td>fc</td>\n",
       "      <td>reduced_gg</td>\n",
       "    </tr>\n",
       "    <tr>\n",
       "      <th>4</th>\n",
       "      <td>ecmf</td>\n",
       "      <td>t</td>\n",
       "      <td>isobaricInhPa</td>\n",
       "      <td>100</td>\n",
       "      <td>20220608</td>\n",
       "      <td>1200</td>\n",
       "      <td>72</td>\n",
       "      <td>fc</td>\n",
       "      <td>reduced_gg</td>\n",
       "    </tr>\n",
       "  </tbody>\n",
       "</table>\n",
       "</div>"
      ],
      "text/plain": [
       "        centre shortName  typeOfLevel    level  dataDate  dataTime stepRange  \\\n",
       "Message                                                                        \n",
       "0        ecmf       t     isobaricInhPa   300   20220608    1200       72      \n",
       "1        ecmf       t     isobaricInhPa   250   20220608    1200       72      \n",
       "2        ecmf       t     isobaricInhPa   200   20220608    1200       72      \n",
       "3        ecmf       t     isobaricInhPa   150   20220608    1200       72      \n",
       "4        ecmf       t     isobaricInhPa   100   20220608    1200       72      \n",
       "\n",
       "        dataType   gridType   \n",
       "Message                       \n",
       "0          fc     reduced_gg  \n",
       "1          fc     reduced_gg  \n",
       "2          fc     reduced_gg  \n",
       "3          fc     reduced_gg  \n",
       "4          fc     reduced_gg  "
      ]
     },
     "execution_count": 240,
     "metadata": {},
     "output_type": "execute_result"
    }
   ],
   "source": [
    "# select the last 5 fields\n",
    "data[-5:].ls()"
   ]
  },
  {
   "cell_type": "code",
   "execution_count": 241,
   "id": "2b127034",
   "metadata": {},
   "outputs": [
    {
     "data": {
      "text/html": [
       "<div>\n",
       "<style scoped>\n",
       "    .dataframe tbody tr th:only-of-type {\n",
       "        vertical-align: middle;\n",
       "    }\n",
       "\n",
       "    .dataframe tbody tr th {\n",
       "        vertical-align: top;\n",
       "    }\n",
       "\n",
       "    .dataframe thead th {\n",
       "        text-align: right;\n",
       "    }\n",
       "</style>\n",
       "<table border=\"1\" class=\"dataframe\">\n",
       "  <thead>\n",
       "    <tr style=\"text-align: center;\">\n",
       "      <th></th>\n",
       "      <th>centre</th>\n",
       "      <th>shortName</th>\n",
       "      <th>typeOfLevel</th>\n",
       "      <th>level</th>\n",
       "      <th>dataDate</th>\n",
       "      <th>dataTime</th>\n",
       "      <th>stepRange</th>\n",
       "      <th>dataType</th>\n",
       "      <th>number</th>\n",
       "      <th>gridType</th>\n",
       "    </tr>\n",
       "    <tr>\n",
       "      <th>Message</th>\n",
       "      <th></th>\n",
       "      <th></th>\n",
       "      <th></th>\n",
       "      <th></th>\n",
       "      <th></th>\n",
       "      <th></th>\n",
       "      <th></th>\n",
       "      <th></th>\n",
       "      <th></th>\n",
       "      <th></th>\n",
       "    </tr>\n",
       "  </thead>\n",
       "  <tbody>\n",
       "    <tr>\n",
       "      <th>0</th>\n",
       "      <td>ecmf</td>\n",
       "      <td>t</td>\n",
       "      <td>isobaricInhPa</td>\n",
       "      <td>100</td>\n",
       "      <td>20220608</td>\n",
       "      <td>1200</td>\n",
       "      <td>72</td>\n",
       "      <td>fc</td>\n",
       "      <td>0</td>\n",
       "      <td>reduced_gg</td>\n",
       "    </tr>\n",
       "    <tr>\n",
       "      <th>1</th>\n",
       "      <td>ecmf</td>\n",
       "      <td>t</td>\n",
       "      <td>isobaricInhPa</td>\n",
       "      <td>150</td>\n",
       "      <td>20220608</td>\n",
       "      <td>1200</td>\n",
       "      <td>72</td>\n",
       "      <td>fc</td>\n",
       "      <td>0</td>\n",
       "      <td>reduced_gg</td>\n",
       "    </tr>\n",
       "    <tr>\n",
       "      <th>2</th>\n",
       "      <td>ecmf</td>\n",
       "      <td>t</td>\n",
       "      <td>isobaricInhPa</td>\n",
       "      <td>200</td>\n",
       "      <td>20220608</td>\n",
       "      <td>1200</td>\n",
       "      <td>72</td>\n",
       "      <td>fc</td>\n",
       "      <td>0</td>\n",
       "      <td>reduced_gg</td>\n",
       "    </tr>\n",
       "    <tr>\n",
       "      <th>3</th>\n",
       "      <td>ecmf</td>\n",
       "      <td>t</td>\n",
       "      <td>isobaricInhPa</td>\n",
       "      <td>250</td>\n",
       "      <td>20220608</td>\n",
       "      <td>1200</td>\n",
       "      <td>72</td>\n",
       "      <td>fc</td>\n",
       "      <td>0</td>\n",
       "      <td>reduced_gg</td>\n",
       "    </tr>\n",
       "    <tr>\n",
       "      <th>4</th>\n",
       "      <td>ecmf</td>\n",
       "      <td>t</td>\n",
       "      <td>isobaricInhPa</td>\n",
       "      <td>300</td>\n",
       "      <td>20220608</td>\n",
       "      <td>1200</td>\n",
       "      <td>72</td>\n",
       "      <td>fc</td>\n",
       "      <td>0</td>\n",
       "      <td>reduced_gg</td>\n",
       "    </tr>\n",
       "    <tr>\n",
       "      <th>5</th>\n",
       "      <td>ecmf</td>\n",
       "      <td>t</td>\n",
       "      <td>isobaricInhPa</td>\n",
       "      <td>400</td>\n",
       "      <td>20220608</td>\n",
       "      <td>1200</td>\n",
       "      <td>72</td>\n",
       "      <td>fc</td>\n",
       "      <td>0</td>\n",
       "      <td>reduced_gg</td>\n",
       "    </tr>\n",
       "    <tr>\n",
       "      <th>6</th>\n",
       "      <td>ecmf</td>\n",
       "      <td>t</td>\n",
       "      <td>isobaricInhPa</td>\n",
       "      <td>500</td>\n",
       "      <td>20220608</td>\n",
       "      <td>1200</td>\n",
       "      <td>72</td>\n",
       "      <td>fc</td>\n",
       "      <td>0</td>\n",
       "      <td>reduced_gg</td>\n",
       "    </tr>\n",
       "    <tr>\n",
       "      <th>7</th>\n",
       "      <td>ecmf</td>\n",
       "      <td>t</td>\n",
       "      <td>isobaricInhPa</td>\n",
       "      <td>700</td>\n",
       "      <td>20220608</td>\n",
       "      <td>1200</td>\n",
       "      <td>72</td>\n",
       "      <td>fc</td>\n",
       "      <td>0</td>\n",
       "      <td>reduced_gg</td>\n",
       "    </tr>\n",
       "    <tr>\n",
       "      <th>8</th>\n",
       "      <td>ecmf</td>\n",
       "      <td>t</td>\n",
       "      <td>isobaricInhPa</td>\n",
       "      <td>850</td>\n",
       "      <td>20220608</td>\n",
       "      <td>1200</td>\n",
       "      <td>72</td>\n",
       "      <td>fc</td>\n",
       "      <td>0</td>\n",
       "      <td>reduced_gg</td>\n",
       "    </tr>\n",
       "    <tr>\n",
       "      <th>9</th>\n",
       "      <td>ecmf</td>\n",
       "      <td>t</td>\n",
       "      <td>isobaricInhPa</td>\n",
       "      <td>925</td>\n",
       "      <td>20220608</td>\n",
       "      <td>1200</td>\n",
       "      <td>72</td>\n",
       "      <td>fc</td>\n",
       "      <td>0</td>\n",
       "      <td>reduced_gg</td>\n",
       "    </tr>\n",
       "  </tbody>\n",
       "</table>\n",
       "</div>"
      ],
      "text/plain": [
       "        centre shortName  typeOfLevel    level  dataDate  dataTime stepRange  \\\n",
       "Message                                                                        \n",
       "0        ecmf       t     isobaricInhPa   100   20220608    1200       72      \n",
       "1        ecmf       t     isobaricInhPa   150   20220608    1200       72      \n",
       "2        ecmf       t     isobaricInhPa   200   20220608    1200       72      \n",
       "3        ecmf       t     isobaricInhPa   250   20220608    1200       72      \n",
       "4        ecmf       t     isobaricInhPa   300   20220608    1200       72      \n",
       "5        ecmf       t     isobaricInhPa   400   20220608    1200       72      \n",
       "6        ecmf       t     isobaricInhPa   500   20220608    1200       72      \n",
       "7        ecmf       t     isobaricInhPa   700   20220608    1200       72      \n",
       "8        ecmf       t     isobaricInhPa   850   20220608    1200       72      \n",
       "9        ecmf       t     isobaricInhPa   925   20220608    1200       72      \n",
       "\n",
       "        dataType number   gridType   \n",
       "Message                              \n",
       "0          fc       0    reduced_gg  \n",
       "1          fc       0    reduced_gg  \n",
       "2          fc       0    reduced_gg  \n",
       "3          fc       0    reduced_gg  \n",
       "4          fc       0    reduced_gg  \n",
       "5          fc       0    reduced_gg  \n",
       "6          fc       0    reduced_gg  \n",
       "7          fc       0    reduced_gg  \n",
       "8          fc       0    reduced_gg  \n",
       "9          fc       0    reduced_gg  "
      ]
     },
     "execution_count": 241,
     "metadata": {},
     "output_type": "execute_result"
    }
   ],
   "source": [
    "# reverse the fields' order\n",
    "data[::-1].ls()[:10]"
   ]
  },
  {
   "cell_type": "code",
   "execution_count": 242,
   "id": "c3ac9878",
   "metadata": {},
   "outputs": [
    {
     "name": "stdout",
     "output_type": "stream",
     "text": [
      "Fieldset (191 fields)\n"
     ]
    }
   ],
   "source": [
    "# assign this to a variable and write to disk\n",
    "rev = data[::-1]\n",
    "rev.write('reversed.grib')\n",
    "print(rev)"
   ]
  },
  {
   "cell_type": "markdown",
   "id": "2163f749",
   "metadata": {},
   "source": [
    "## Field selection through metadata"
   ]
  },
  {
   "cell_type": "code",
   "execution_count": 243,
   "id": "e18ee0ad",
   "metadata": {},
   "outputs": [
    {
     "data": {
      "text/html": [
       "<div>\n",
       "<style scoped>\n",
       "    .dataframe tbody tr th:only-of-type {\n",
       "        vertical-align: middle;\n",
       "    }\n",
       "\n",
       "    .dataframe tbody tr th {\n",
       "        vertical-align: top;\n",
       "    }\n",
       "\n",
       "    .dataframe thead th {\n",
       "        text-align: right;\n",
       "    }\n",
       "</style>\n",
       "<table border=\"1\" class=\"dataframe\">\n",
       "  <thead>\n",
       "    <tr style=\"text-align: center;\">\n",
       "      <th></th>\n",
       "      <th>centre</th>\n",
       "      <th>shortName</th>\n",
       "      <th>typeOfLevel</th>\n",
       "      <th>level</th>\n",
       "      <th>dataDate</th>\n",
       "      <th>dataTime</th>\n",
       "      <th>stepRange</th>\n",
       "      <th>dataType</th>\n",
       "      <th>gridType</th>\n",
       "    </tr>\n",
       "    <tr>\n",
       "      <th>Message</th>\n",
       "      <th></th>\n",
       "      <th></th>\n",
       "      <th></th>\n",
       "      <th></th>\n",
       "      <th></th>\n",
       "      <th></th>\n",
       "      <th></th>\n",
       "      <th></th>\n",
       "      <th></th>\n",
       "    </tr>\n",
       "  </thead>\n",
       "  <tbody>\n",
       "    <tr>\n",
       "      <th>0</th>\n",
       "      <td>ecmf</td>\n",
       "      <td>r</td>\n",
       "      <td>isobaricInhPa</td>\n",
       "      <td>1000</td>\n",
       "      <td>20220608</td>\n",
       "      <td>1200</td>\n",
       "      <td>0</td>\n",
       "      <td>fc</td>\n",
       "      <td>reduced_gg</td>\n",
       "    </tr>\n",
       "    <tr>\n",
       "      <th>1</th>\n",
       "      <td>ecmf</td>\n",
       "      <td>r</td>\n",
       "      <td>isobaricInhPa</td>\n",
       "      <td>925</td>\n",
       "      <td>20220608</td>\n",
       "      <td>1200</td>\n",
       "      <td>0</td>\n",
       "      <td>fc</td>\n",
       "      <td>reduced_gg</td>\n",
       "    </tr>\n",
       "    <tr>\n",
       "      <th>2</th>\n",
       "      <td>ecmf</td>\n",
       "      <td>r</td>\n",
       "      <td>isobaricInhPa</td>\n",
       "      <td>850</td>\n",
       "      <td>20220608</td>\n",
       "      <td>1200</td>\n",
       "      <td>0</td>\n",
       "      <td>fc</td>\n",
       "      <td>reduced_gg</td>\n",
       "    </tr>\n",
       "    <tr>\n",
       "      <th>3</th>\n",
       "      <td>ecmf</td>\n",
       "      <td>r</td>\n",
       "      <td>isobaricInhPa</td>\n",
       "      <td>700</td>\n",
       "      <td>20220608</td>\n",
       "      <td>1200</td>\n",
       "      <td>0</td>\n",
       "      <td>fc</td>\n",
       "      <td>reduced_gg</td>\n",
       "    </tr>\n",
       "    <tr>\n",
       "      <th>4</th>\n",
       "      <td>ecmf</td>\n",
       "      <td>r</td>\n",
       "      <td>isobaricInhPa</td>\n",
       "      <td>500</td>\n",
       "      <td>20220608</td>\n",
       "      <td>1200</td>\n",
       "      <td>0</td>\n",
       "      <td>fc</td>\n",
       "      <td>reduced_gg</td>\n",
       "    </tr>\n",
       "    <tr>\n",
       "      <th>5</th>\n",
       "      <td>ecmf</td>\n",
       "      <td>r</td>\n",
       "      <td>isobaricInhPa</td>\n",
       "      <td>400</td>\n",
       "      <td>20220608</td>\n",
       "      <td>1200</td>\n",
       "      <td>0</td>\n",
       "      <td>fc</td>\n",
       "      <td>reduced_gg</td>\n",
       "    </tr>\n",
       "    <tr>\n",
       "      <th>6</th>\n",
       "      <td>ecmf</td>\n",
       "      <td>r</td>\n",
       "      <td>isobaricInhPa</td>\n",
       "      <td>300</td>\n",
       "      <td>20220608</td>\n",
       "      <td>1200</td>\n",
       "      <td>0</td>\n",
       "      <td>fc</td>\n",
       "      <td>reduced_gg</td>\n",
       "    </tr>\n",
       "    <tr>\n",
       "      <th>7</th>\n",
       "      <td>ecmf</td>\n",
       "      <td>r</td>\n",
       "      <td>isobaricInhPa</td>\n",
       "      <td>250</td>\n",
       "      <td>20220608</td>\n",
       "      <td>1200</td>\n",
       "      <td>0</td>\n",
       "      <td>fc</td>\n",
       "      <td>reduced_gg</td>\n",
       "    </tr>\n",
       "    <tr>\n",
       "      <th>8</th>\n",
       "      <td>ecmf</td>\n",
       "      <td>r</td>\n",
       "      <td>isobaricInhPa</td>\n",
       "      <td>200</td>\n",
       "      <td>20220608</td>\n",
       "      <td>1200</td>\n",
       "      <td>0</td>\n",
       "      <td>fc</td>\n",
       "      <td>reduced_gg</td>\n",
       "    </tr>\n",
       "    <tr>\n",
       "      <th>9</th>\n",
       "      <td>ecmf</td>\n",
       "      <td>r</td>\n",
       "      <td>isobaricInhPa</td>\n",
       "      <td>150</td>\n",
       "      <td>20220608</td>\n",
       "      <td>1200</td>\n",
       "      <td>0</td>\n",
       "      <td>fc</td>\n",
       "      <td>reduced_gg</td>\n",
       "    </tr>\n",
       "    <tr>\n",
       "      <th>10</th>\n",
       "      <td>ecmf</td>\n",
       "      <td>r</td>\n",
       "      <td>isobaricInhPa</td>\n",
       "      <td>100</td>\n",
       "      <td>20220608</td>\n",
       "      <td>1200</td>\n",
       "      <td>0</td>\n",
       "      <td>fc</td>\n",
       "      <td>reduced_gg</td>\n",
       "    </tr>\n",
       "  </tbody>\n",
       "</table>\n",
       "</div>"
      ],
      "text/plain": [
       "        centre shortName  typeOfLevel    level  dataDate  dataTime stepRange  \\\n",
       "Message                                                                        \n",
       "0        ecmf       r     isobaricInhPa  1000   20220608    1200        0      \n",
       "1        ecmf       r     isobaricInhPa   925   20220608    1200        0      \n",
       "2        ecmf       r     isobaricInhPa   850   20220608    1200        0      \n",
       "3        ecmf       r     isobaricInhPa   700   20220608    1200        0      \n",
       "4        ecmf       r     isobaricInhPa   500   20220608    1200        0      \n",
       "5        ecmf       r     isobaricInhPa   400   20220608    1200        0      \n",
       "6        ecmf       r     isobaricInhPa   300   20220608    1200        0      \n",
       "7        ecmf       r     isobaricInhPa   250   20220608    1200        0      \n",
       "8        ecmf       r     isobaricInhPa   200   20220608    1200        0      \n",
       "9        ecmf       r     isobaricInhPa   150   20220608    1200        0      \n",
       "10       ecmf       r     isobaricInhPa   100   20220608    1200        0      \n",
       "\n",
       "        dataType   gridType   \n",
       "Message                       \n",
       "0          fc     reduced_gg  \n",
       "1          fc     reduced_gg  \n",
       "2          fc     reduced_gg  \n",
       "3          fc     reduced_gg  \n",
       "4          fc     reduced_gg  \n",
       "5          fc     reduced_gg  \n",
       "6          fc     reduced_gg  \n",
       "7          fc     reduced_gg  \n",
       "8          fc     reduced_gg  \n",
       "9          fc     reduced_gg  \n",
       "10         fc     reduced_gg  "
      ]
     },
     "execution_count": 243,
     "metadata": {},
     "output_type": "execute_result"
    }
   ],
   "source": [
    "# select() method, various ways\n",
    "data.select(shortName='r').ls()"
   ]
  },
  {
   "cell_type": "code",
   "execution_count": 244,
   "id": "21a72d94",
   "metadata": {},
   "outputs": [
    {
     "data": {
      "text/html": [
       "<div>\n",
       "<style scoped>\n",
       "    .dataframe tbody tr th:only-of-type {\n",
       "        vertical-align: middle;\n",
       "    }\n",
       "\n",
       "    .dataframe tbody tr th {\n",
       "        vertical-align: top;\n",
       "    }\n",
       "\n",
       "    .dataframe thead th {\n",
       "        text-align: right;\n",
       "    }\n",
       "</style>\n",
       "<table border=\"1\" class=\"dataframe\">\n",
       "  <thead>\n",
       "    <tr style=\"text-align: center;\">\n",
       "      <th></th>\n",
       "      <th>centre</th>\n",
       "      <th>shortName</th>\n",
       "      <th>typeOfLevel</th>\n",
       "      <th>level</th>\n",
       "      <th>dataDate</th>\n",
       "      <th>dataTime</th>\n",
       "      <th>stepRange</th>\n",
       "      <th>dataType</th>\n",
       "      <th>gridType</th>\n",
       "    </tr>\n",
       "    <tr>\n",
       "      <th>Message</th>\n",
       "      <th></th>\n",
       "      <th></th>\n",
       "      <th></th>\n",
       "      <th></th>\n",
       "      <th></th>\n",
       "      <th></th>\n",
       "      <th></th>\n",
       "      <th></th>\n",
       "      <th></th>\n",
       "    </tr>\n",
       "  </thead>\n",
       "  <tbody>\n",
       "    <tr>\n",
       "      <th>0</th>\n",
       "      <td>ecmf</td>\n",
       "      <td>r</td>\n",
       "      <td>isobaricInhPa</td>\n",
       "      <td>850</td>\n",
       "      <td>20220608</td>\n",
       "      <td>1200</td>\n",
       "      <td>0</td>\n",
       "      <td>fc</td>\n",
       "      <td>reduced_gg</td>\n",
       "    </tr>\n",
       "  </tbody>\n",
       "</table>\n",
       "</div>"
      ],
      "text/plain": [
       "        centre shortName  typeOfLevel    level  dataDate  dataTime stepRange  \\\n",
       "Message                                                                        \n",
       "0        ecmf       r     isobaricInhPa   850   20220608    1200        0      \n",
       "\n",
       "        dataType   gridType   \n",
       "Message                       \n",
       "0          fc     reduced_gg  "
      ]
     },
     "execution_count": 244,
     "metadata": {},
     "output_type": "execute_result"
    }
   ],
   "source": [
    "data.select(shortName='r', level=850).ls()"
   ]
  },
  {
   "cell_type": "code",
   "execution_count": 245,
   "id": "375b2ee5",
   "metadata": {},
   "outputs": [
    {
     "data": {
      "text/html": [
       "<div>\n",
       "<style scoped>\n",
       "    .dataframe tbody tr th:only-of-type {\n",
       "        vertical-align: middle;\n",
       "    }\n",
       "\n",
       "    .dataframe tbody tr th {\n",
       "        vertical-align: top;\n",
       "    }\n",
       "\n",
       "    .dataframe thead th {\n",
       "        text-align: right;\n",
       "    }\n",
       "</style>\n",
       "<table border=\"1\" class=\"dataframe\">\n",
       "  <thead>\n",
       "    <tr style=\"text-align: center;\">\n",
       "      <th></th>\n",
       "      <th>centre</th>\n",
       "      <th>shortName</th>\n",
       "      <th>typeOfLevel</th>\n",
       "      <th>level</th>\n",
       "      <th>dataDate</th>\n",
       "      <th>dataTime</th>\n",
       "      <th>stepRange</th>\n",
       "      <th>dataType</th>\n",
       "      <th>gridType</th>\n",
       "    </tr>\n",
       "    <tr>\n",
       "      <th>Message</th>\n",
       "      <th></th>\n",
       "      <th></th>\n",
       "      <th></th>\n",
       "      <th></th>\n",
       "      <th></th>\n",
       "      <th></th>\n",
       "      <th></th>\n",
       "      <th></th>\n",
       "      <th></th>\n",
       "    </tr>\n",
       "  </thead>\n",
       "  <tbody>\n",
       "    <tr>\n",
       "      <th>0</th>\n",
       "      <td>ecmf</td>\n",
       "      <td>r</td>\n",
       "      <td>isobaricInhPa</td>\n",
       "      <td>500</td>\n",
       "      <td>20220608</td>\n",
       "      <td>1200</td>\n",
       "      <td>0</td>\n",
       "      <td>fc</td>\n",
       "      <td>reduced_gg</td>\n",
       "    </tr>\n",
       "  </tbody>\n",
       "</table>\n",
       "</div>"
      ],
      "text/plain": [
       "        centre shortName  typeOfLevel    level  dataDate  dataTime stepRange  \\\n",
       "Message                                                                        \n",
       "0        ecmf       r     isobaricInhPa   500   20220608    1200        0      \n",
       "\n",
       "        dataType   gridType   \n",
       "Message                       \n",
       "0          fc     reduced_gg  "
      ]
     },
     "execution_count": 245,
     "metadata": {},
     "output_type": "execute_result"
    }
   ],
   "source": [
    "# put the selection criteria into a dict, then modify it before using\n",
    "criteria = {\"shortName\": \"r\", \"level\": 850}\n",
    "criteria.update({\"level\": 500})\n",
    "data.select(criteria).ls()"
   ]
  },
  {
   "cell_type": "code",
   "execution_count": 246,
   "id": "21a0d919",
   "metadata": {},
   "outputs": [
    {
     "data": {
      "text/html": [
       "<div>\n",
       "<style scoped>\n",
       "    .dataframe tbody tr th:only-of-type {\n",
       "        vertical-align: middle;\n",
       "    }\n",
       "\n",
       "    .dataframe tbody tr th {\n",
       "        vertical-align: top;\n",
       "    }\n",
       "\n",
       "    .dataframe thead th {\n",
       "        text-align: right;\n",
       "    }\n",
       "</style>\n",
       "<table border=\"1\" class=\"dataframe\">\n",
       "  <thead>\n",
       "    <tr style=\"text-align: center;\">\n",
       "      <th></th>\n",
       "      <th>centre</th>\n",
       "      <th>shortName</th>\n",
       "      <th>typeOfLevel</th>\n",
       "      <th>level</th>\n",
       "      <th>dataDate</th>\n",
       "      <th>dataTime</th>\n",
       "      <th>stepRange</th>\n",
       "      <th>dataType</th>\n",
       "      <th>gridType</th>\n",
       "    </tr>\n",
       "    <tr>\n",
       "      <th>Message</th>\n",
       "      <th></th>\n",
       "      <th></th>\n",
       "      <th></th>\n",
       "      <th></th>\n",
       "      <th></th>\n",
       "      <th></th>\n",
       "      <th></th>\n",
       "      <th></th>\n",
       "      <th></th>\n",
       "    </tr>\n",
       "  </thead>\n",
       "  <tbody>\n",
       "    <tr>\n",
       "      <th>0</th>\n",
       "      <td>ecmf</td>\n",
       "      <td>r</td>\n",
       "      <td>isobaricInhPa</td>\n",
       "      <td>500</td>\n",
       "      <td>20220608</td>\n",
       "      <td>1200</td>\n",
       "      <td>0</td>\n",
       "      <td>fc</td>\n",
       "      <td>reduced_gg</td>\n",
       "    </tr>\n",
       "  </tbody>\n",
       "</table>\n",
       "</div>"
      ],
      "text/plain": [
       "        centre shortName  typeOfLevel    level  dataDate  dataTime stepRange  \\\n",
       "Message                                                                        \n",
       "0        ecmf       r     isobaricInhPa   500   20220608    1200        0      \n",
       "\n",
       "        dataType   gridType   \n",
       "Message                       \n",
       "0          fc     reduced_gg  "
      ]
     },
     "execution_count": 246,
     "metadata": {},
     "output_type": "execute_result"
    }
   ],
   "source": [
    "# shorthand way of expressing parameters and levels\n",
    "data['r500'].ls()"
   ]
  },
  {
   "cell_type": "code",
   "execution_count": 247,
   "id": "f04559be",
   "metadata": {},
   "outputs": [
    {
     "data": {
      "text/html": [
       "<div>\n",
       "<style scoped>\n",
       "    .dataframe tbody tr th:only-of-type {\n",
       "        vertical-align: middle;\n",
       "    }\n",
       "\n",
       "    .dataframe tbody tr th {\n",
       "        vertical-align: top;\n",
       "    }\n",
       "\n",
       "    .dataframe thead th {\n",
       "        text-align: right;\n",
       "    }\n",
       "</style>\n",
       "<table border=\"1\" class=\"dataframe\">\n",
       "  <thead>\n",
       "    <tr style=\"text-align: center;\">\n",
       "      <th></th>\n",
       "      <th>centre</th>\n",
       "      <th>shortName</th>\n",
       "      <th>typeOfLevel</th>\n",
       "      <th>level</th>\n",
       "      <th>dataDate</th>\n",
       "      <th>dataTime</th>\n",
       "      <th>stepRange</th>\n",
       "      <th>dataType</th>\n",
       "      <th>gridType</th>\n",
       "    </tr>\n",
       "    <tr>\n",
       "      <th>Message</th>\n",
       "      <th></th>\n",
       "      <th></th>\n",
       "      <th></th>\n",
       "      <th></th>\n",
       "      <th></th>\n",
       "      <th></th>\n",
       "      <th></th>\n",
       "      <th></th>\n",
       "      <th></th>\n",
       "    </tr>\n",
       "  </thead>\n",
       "  <tbody>\n",
       "    <tr>\n",
       "      <th>0</th>\n",
       "      <td>ecmf</td>\n",
       "      <td>r</td>\n",
       "      <td>isobaricInhPa</td>\n",
       "      <td>300</td>\n",
       "      <td>20220608</td>\n",
       "      <td>1200</td>\n",
       "      <td>0</td>\n",
       "      <td>fc</td>\n",
       "      <td>reduced_gg</td>\n",
       "    </tr>\n",
       "  </tbody>\n",
       "</table>\n",
       "</div>"
      ],
      "text/plain": [
       "        centre shortName  typeOfLevel    level  dataDate  dataTime stepRange  \\\n",
       "Message                                                                        \n",
       "0        ecmf       r     isobaricInhPa   300   20220608    1200        0      \n",
       "\n",
       "        dataType   gridType   \n",
       "Message                       \n",
       "0          fc     reduced_gg  "
      ]
     },
     "execution_count": 247,
     "metadata": {},
     "output_type": "execute_result"
    }
   ],
   "source": [
    "# specify units - useful if different level types in the same fieldset\n",
    "data['r300hPa'].ls()"
   ]
  },
  {
   "cell_type": "markdown",
   "id": "82572357",
   "metadata": {},
   "source": [
    "## Combining fields"
   ]
  },
  {
   "cell_type": "code",
   "execution_count": 248,
   "id": "1abd3008",
   "metadata": {},
   "outputs": [
    {
     "name": "stdout",
     "output_type": "stream",
     "text": [
      "Fieldset (1 field) Fieldset (2 fields) Fieldset (11 fields) Fieldset (1 field)\n"
     ]
    }
   ],
   "source": [
    "# generate 4 fieldsets - one will be from another GRIB file to show that we can\n",
    "# combine fields from any number of different files\n",
    "\n",
    "a = data[5]\n",
    "b = data[78:80]\n",
    "c = data['z']\n",
    "d = mv.read('reversed.grib')[0]\n",
    "print(a, b, c, d)"
   ]
  },
  {
   "cell_type": "code",
   "execution_count": 249,
   "id": "97c12536",
   "metadata": {},
   "outputs": [
    {
     "data": {
      "text/html": [
       "<div>\n",
       "<style scoped>\n",
       "    .dataframe tbody tr th:only-of-type {\n",
       "        vertical-align: middle;\n",
       "    }\n",
       "\n",
       "    .dataframe tbody tr th {\n",
       "        vertical-align: top;\n",
       "    }\n",
       "\n",
       "    .dataframe thead th {\n",
       "        text-align: right;\n",
       "    }\n",
       "</style>\n",
       "<table border=\"1\" class=\"dataframe\">\n",
       "  <thead>\n",
       "    <tr style=\"text-align: center;\">\n",
       "      <th></th>\n",
       "      <th>centre</th>\n",
       "      <th>shortName</th>\n",
       "      <th>typeOfLevel</th>\n",
       "      <th>level</th>\n",
       "      <th>dataDate</th>\n",
       "      <th>dataTime</th>\n",
       "      <th>stepRange</th>\n",
       "      <th>dataType</th>\n",
       "      <th>gridType</th>\n",
       "    </tr>\n",
       "    <tr>\n",
       "      <th>Message</th>\n",
       "      <th></th>\n",
       "      <th></th>\n",
       "      <th></th>\n",
       "      <th></th>\n",
       "      <th></th>\n",
       "      <th></th>\n",
       "      <th></th>\n",
       "      <th></th>\n",
       "      <th></th>\n",
       "    </tr>\n",
       "  </thead>\n",
       "  <tbody>\n",
       "    <tr>\n",
       "      <th>0</th>\n",
       "      <td>ecmf</td>\n",
       "      <td>2t</td>\n",
       "      <td>surface</td>\n",
       "      <td>0</td>\n",
       "      <td>20220608</td>\n",
       "      <td>1200</td>\n",
       "      <td>30</td>\n",
       "      <td>fc</td>\n",
       "      <td>reduced_gg</td>\n",
       "    </tr>\n",
       "    <tr>\n",
       "      <th>1</th>\n",
       "      <td>ecmf</td>\n",
       "      <td>t</td>\n",
       "      <td>isobaricInhPa</td>\n",
       "      <td>200</td>\n",
       "      <td>20220608</td>\n",
       "      <td>1200</td>\n",
       "      <td>12</td>\n",
       "      <td>fc</td>\n",
       "      <td>reduced_gg</td>\n",
       "    </tr>\n",
       "    <tr>\n",
       "      <th>2</th>\n",
       "      <td>ecmf</td>\n",
       "      <td>t</td>\n",
       "      <td>isobaricInhPa</td>\n",
       "      <td>150</td>\n",
       "      <td>20220608</td>\n",
       "      <td>1200</td>\n",
       "      <td>12</td>\n",
       "      <td>fc</td>\n",
       "      <td>reduced_gg</td>\n",
       "    </tr>\n",
       "    <tr>\n",
       "      <th>3</th>\n",
       "      <td>ecmf</td>\n",
       "      <td>z</td>\n",
       "      <td>isobaricInhPa</td>\n",
       "      <td>1000</td>\n",
       "      <td>20220608</td>\n",
       "      <td>1200</td>\n",
       "      <td>0</td>\n",
       "      <td>fc</td>\n",
       "      <td>reduced_gg</td>\n",
       "    </tr>\n",
       "    <tr>\n",
       "      <th>4</th>\n",
       "      <td>ecmf</td>\n",
       "      <td>z</td>\n",
       "      <td>isobaricInhPa</td>\n",
       "      <td>925</td>\n",
       "      <td>20220608</td>\n",
       "      <td>1200</td>\n",
       "      <td>0</td>\n",
       "      <td>fc</td>\n",
       "      <td>reduced_gg</td>\n",
       "    </tr>\n",
       "    <tr>\n",
       "      <th>5</th>\n",
       "      <td>ecmf</td>\n",
       "      <td>z</td>\n",
       "      <td>isobaricInhPa</td>\n",
       "      <td>850</td>\n",
       "      <td>20220608</td>\n",
       "      <td>1200</td>\n",
       "      <td>0</td>\n",
       "      <td>fc</td>\n",
       "      <td>reduced_gg</td>\n",
       "    </tr>\n",
       "    <tr>\n",
       "      <th>6</th>\n",
       "      <td>ecmf</td>\n",
       "      <td>z</td>\n",
       "      <td>isobaricInhPa</td>\n",
       "      <td>700</td>\n",
       "      <td>20220608</td>\n",
       "      <td>1200</td>\n",
       "      <td>0</td>\n",
       "      <td>fc</td>\n",
       "      <td>reduced_gg</td>\n",
       "    </tr>\n",
       "    <tr>\n",
       "      <th>7</th>\n",
       "      <td>ecmf</td>\n",
       "      <td>z</td>\n",
       "      <td>isobaricInhPa</td>\n",
       "      <td>500</td>\n",
       "      <td>20220608</td>\n",
       "      <td>1200</td>\n",
       "      <td>0</td>\n",
       "      <td>fc</td>\n",
       "      <td>reduced_gg</td>\n",
       "    </tr>\n",
       "    <tr>\n",
       "      <th>8</th>\n",
       "      <td>ecmf</td>\n",
       "      <td>z</td>\n",
       "      <td>isobaricInhPa</td>\n",
       "      <td>400</td>\n",
       "      <td>20220608</td>\n",
       "      <td>1200</td>\n",
       "      <td>0</td>\n",
       "      <td>fc</td>\n",
       "      <td>reduced_gg</td>\n",
       "    </tr>\n",
       "    <tr>\n",
       "      <th>9</th>\n",
       "      <td>ecmf</td>\n",
       "      <td>z</td>\n",
       "      <td>isobaricInhPa</td>\n",
       "      <td>300</td>\n",
       "      <td>20220608</td>\n",
       "      <td>1200</td>\n",
       "      <td>0</td>\n",
       "      <td>fc</td>\n",
       "      <td>reduced_gg</td>\n",
       "    </tr>\n",
       "    <tr>\n",
       "      <th>10</th>\n",
       "      <td>ecmf</td>\n",
       "      <td>z</td>\n",
       "      <td>isobaricInhPa</td>\n",
       "      <td>250</td>\n",
       "      <td>20220608</td>\n",
       "      <td>1200</td>\n",
       "      <td>0</td>\n",
       "      <td>fc</td>\n",
       "      <td>reduced_gg</td>\n",
       "    </tr>\n",
       "    <tr>\n",
       "      <th>11</th>\n",
       "      <td>ecmf</td>\n",
       "      <td>z</td>\n",
       "      <td>isobaricInhPa</td>\n",
       "      <td>200</td>\n",
       "      <td>20220608</td>\n",
       "      <td>1200</td>\n",
       "      <td>0</td>\n",
       "      <td>fc</td>\n",
       "      <td>reduced_gg</td>\n",
       "    </tr>\n",
       "    <tr>\n",
       "      <th>12</th>\n",
       "      <td>ecmf</td>\n",
       "      <td>z</td>\n",
       "      <td>isobaricInhPa</td>\n",
       "      <td>150</td>\n",
       "      <td>20220608</td>\n",
       "      <td>1200</td>\n",
       "      <td>0</td>\n",
       "      <td>fc</td>\n",
       "      <td>reduced_gg</td>\n",
       "    </tr>\n",
       "    <tr>\n",
       "      <th>13</th>\n",
       "      <td>ecmf</td>\n",
       "      <td>z</td>\n",
       "      <td>isobaricInhPa</td>\n",
       "      <td>100</td>\n",
       "      <td>20220608</td>\n",
       "      <td>1200</td>\n",
       "      <td>0</td>\n",
       "      <td>fc</td>\n",
       "      <td>reduced_gg</td>\n",
       "    </tr>\n",
       "    <tr>\n",
       "      <th>14</th>\n",
       "      <td>ecmf</td>\n",
       "      <td>t</td>\n",
       "      <td>isobaricInhPa</td>\n",
       "      <td>100</td>\n",
       "      <td>20220608</td>\n",
       "      <td>1200</td>\n",
       "      <td>72</td>\n",
       "      <td>fc</td>\n",
       "      <td>reduced_gg</td>\n",
       "    </tr>\n",
       "  </tbody>\n",
       "</table>\n",
       "</div>"
      ],
      "text/plain": [
       "        centre shortName  typeOfLevel    level  dataDate  dataTime stepRange  \\\n",
       "Message                                                                        \n",
       "0        ecmf      2t           surface     0   20220608    1200       30      \n",
       "1        ecmf       t     isobaricInhPa   200   20220608    1200       12      \n",
       "2        ecmf       t     isobaricInhPa   150   20220608    1200       12      \n",
       "3        ecmf       z     isobaricInhPa  1000   20220608    1200        0      \n",
       "4        ecmf       z     isobaricInhPa   925   20220608    1200        0      \n",
       "5        ecmf       z     isobaricInhPa   850   20220608    1200        0      \n",
       "6        ecmf       z     isobaricInhPa   700   20220608    1200        0      \n",
       "7        ecmf       z     isobaricInhPa   500   20220608    1200        0      \n",
       "8        ecmf       z     isobaricInhPa   400   20220608    1200        0      \n",
       "9        ecmf       z     isobaricInhPa   300   20220608    1200        0      \n",
       "10       ecmf       z     isobaricInhPa   250   20220608    1200        0      \n",
       "11       ecmf       z     isobaricInhPa   200   20220608    1200        0      \n",
       "12       ecmf       z     isobaricInhPa   150   20220608    1200        0      \n",
       "13       ecmf       z     isobaricInhPa   100   20220608    1200        0      \n",
       "14       ecmf       t     isobaricInhPa   100   20220608    1200       72      \n",
       "\n",
       "        dataType   gridType   \n",
       "Message                       \n",
       "0          fc     reduced_gg  \n",
       "1          fc     reduced_gg  \n",
       "2          fc     reduced_gg  \n",
       "3          fc     reduced_gg  \n",
       "4          fc     reduced_gg  \n",
       "5          fc     reduced_gg  \n",
       "6          fc     reduced_gg  \n",
       "7          fc     reduced_gg  \n",
       "8          fc     reduced_gg  \n",
       "9          fc     reduced_gg  \n",
       "10         fc     reduced_gg  \n",
       "11         fc     reduced_gg  \n",
       "12         fc     reduced_gg  \n",
       "13         fc     reduced_gg  \n",
       "14         fc     reduced_gg  "
      ]
     },
     "execution_count": 249,
     "metadata": {},
     "output_type": "execute_result"
    }
   ],
   "source": [
    "# create a new Fieldset out of existing ones\n",
    "combined = mv.merge(a, b, c, d)\n",
    "combined.ls()"
   ]
  },
  {
   "cell_type": "code",
   "execution_count": 250,
   "id": "7c8005b7",
   "metadata": {},
   "outputs": [
    {
     "data": {
      "text/html": [
       "<div>\n",
       "<style scoped>\n",
       "    .dataframe tbody tr th:only-of-type {\n",
       "        vertical-align: middle;\n",
       "    }\n",
       "\n",
       "    .dataframe tbody tr th {\n",
       "        vertical-align: top;\n",
       "    }\n",
       "\n",
       "    .dataframe thead th {\n",
       "        text-align: right;\n",
       "    }\n",
       "</style>\n",
       "<table border=\"1\" class=\"dataframe\">\n",
       "  <thead>\n",
       "    <tr style=\"text-align: center;\">\n",
       "      <th></th>\n",
       "      <th>centre</th>\n",
       "      <th>shortName</th>\n",
       "      <th>typeOfLevel</th>\n",
       "      <th>level</th>\n",
       "      <th>dataDate</th>\n",
       "      <th>dataTime</th>\n",
       "      <th>stepRange</th>\n",
       "      <th>dataType</th>\n",
       "      <th>gridType</th>\n",
       "    </tr>\n",
       "    <tr>\n",
       "      <th>Message</th>\n",
       "      <th></th>\n",
       "      <th></th>\n",
       "      <th></th>\n",
       "      <th></th>\n",
       "      <th></th>\n",
       "      <th></th>\n",
       "      <th></th>\n",
       "      <th></th>\n",
       "      <th></th>\n",
       "    </tr>\n",
       "  </thead>\n",
       "  <tbody>\n",
       "    <tr>\n",
       "      <th>0</th>\n",
       "      <td>ecmf</td>\n",
       "      <td>2t</td>\n",
       "      <td>surface</td>\n",
       "      <td>0</td>\n",
       "      <td>20220608</td>\n",
       "      <td>1200</td>\n",
       "      <td>30</td>\n",
       "      <td>fc</td>\n",
       "      <td>reduced_gg</td>\n",
       "    </tr>\n",
       "    <tr>\n",
       "      <th>1</th>\n",
       "      <td>ecmf</td>\n",
       "      <td>t</td>\n",
       "      <td>isobaricInhPa</td>\n",
       "      <td>200</td>\n",
       "      <td>20220608</td>\n",
       "      <td>1200</td>\n",
       "      <td>12</td>\n",
       "      <td>fc</td>\n",
       "      <td>reduced_gg</td>\n",
       "    </tr>\n",
       "    <tr>\n",
       "      <th>2</th>\n",
       "      <td>ecmf</td>\n",
       "      <td>t</td>\n",
       "      <td>isobaricInhPa</td>\n",
       "      <td>150</td>\n",
       "      <td>20220608</td>\n",
       "      <td>1200</td>\n",
       "      <td>12</td>\n",
       "      <td>fc</td>\n",
       "      <td>reduced_gg</td>\n",
       "    </tr>\n",
       "    <tr>\n",
       "      <th>3</th>\n",
       "      <td>ecmf</td>\n",
       "      <td>z</td>\n",
       "      <td>isobaricInhPa</td>\n",
       "      <td>1000</td>\n",
       "      <td>20220608</td>\n",
       "      <td>1200</td>\n",
       "      <td>0</td>\n",
       "      <td>fc</td>\n",
       "      <td>reduced_gg</td>\n",
       "    </tr>\n",
       "    <tr>\n",
       "      <th>4</th>\n",
       "      <td>ecmf</td>\n",
       "      <td>z</td>\n",
       "      <td>isobaricInhPa</td>\n",
       "      <td>925</td>\n",
       "      <td>20220608</td>\n",
       "      <td>1200</td>\n",
       "      <td>0</td>\n",
       "      <td>fc</td>\n",
       "      <td>reduced_gg</td>\n",
       "    </tr>\n",
       "    <tr>\n",
       "      <th>5</th>\n",
       "      <td>ecmf</td>\n",
       "      <td>z</td>\n",
       "      <td>isobaricInhPa</td>\n",
       "      <td>850</td>\n",
       "      <td>20220608</td>\n",
       "      <td>1200</td>\n",
       "      <td>0</td>\n",
       "      <td>fc</td>\n",
       "      <td>reduced_gg</td>\n",
       "    </tr>\n",
       "    <tr>\n",
       "      <th>6</th>\n",
       "      <td>ecmf</td>\n",
       "      <td>z</td>\n",
       "      <td>isobaricInhPa</td>\n",
       "      <td>700</td>\n",
       "      <td>20220608</td>\n",
       "      <td>1200</td>\n",
       "      <td>0</td>\n",
       "      <td>fc</td>\n",
       "      <td>reduced_gg</td>\n",
       "    </tr>\n",
       "    <tr>\n",
       "      <th>7</th>\n",
       "      <td>ecmf</td>\n",
       "      <td>z</td>\n",
       "      <td>isobaricInhPa</td>\n",
       "      <td>500</td>\n",
       "      <td>20220608</td>\n",
       "      <td>1200</td>\n",
       "      <td>0</td>\n",
       "      <td>fc</td>\n",
       "      <td>reduced_gg</td>\n",
       "    </tr>\n",
       "    <tr>\n",
       "      <th>8</th>\n",
       "      <td>ecmf</td>\n",
       "      <td>z</td>\n",
       "      <td>isobaricInhPa</td>\n",
       "      <td>400</td>\n",
       "      <td>20220608</td>\n",
       "      <td>1200</td>\n",
       "      <td>0</td>\n",
       "      <td>fc</td>\n",
       "      <td>reduced_gg</td>\n",
       "    </tr>\n",
       "    <tr>\n",
       "      <th>9</th>\n",
       "      <td>ecmf</td>\n",
       "      <td>z</td>\n",
       "      <td>isobaricInhPa</td>\n",
       "      <td>300</td>\n",
       "      <td>20220608</td>\n",
       "      <td>1200</td>\n",
       "      <td>0</td>\n",
       "      <td>fc</td>\n",
       "      <td>reduced_gg</td>\n",
       "    </tr>\n",
       "    <tr>\n",
       "      <th>10</th>\n",
       "      <td>ecmf</td>\n",
       "      <td>z</td>\n",
       "      <td>isobaricInhPa</td>\n",
       "      <td>250</td>\n",
       "      <td>20220608</td>\n",
       "      <td>1200</td>\n",
       "      <td>0</td>\n",
       "      <td>fc</td>\n",
       "      <td>reduced_gg</td>\n",
       "    </tr>\n",
       "    <tr>\n",
       "      <th>11</th>\n",
       "      <td>ecmf</td>\n",
       "      <td>z</td>\n",
       "      <td>isobaricInhPa</td>\n",
       "      <td>200</td>\n",
       "      <td>20220608</td>\n",
       "      <td>1200</td>\n",
       "      <td>0</td>\n",
       "      <td>fc</td>\n",
       "      <td>reduced_gg</td>\n",
       "    </tr>\n",
       "    <tr>\n",
       "      <th>12</th>\n",
       "      <td>ecmf</td>\n",
       "      <td>z</td>\n",
       "      <td>isobaricInhPa</td>\n",
       "      <td>150</td>\n",
       "      <td>20220608</td>\n",
       "      <td>1200</td>\n",
       "      <td>0</td>\n",
       "      <td>fc</td>\n",
       "      <td>reduced_gg</td>\n",
       "    </tr>\n",
       "    <tr>\n",
       "      <th>13</th>\n",
       "      <td>ecmf</td>\n",
       "      <td>z</td>\n",
       "      <td>isobaricInhPa</td>\n",
       "      <td>100</td>\n",
       "      <td>20220608</td>\n",
       "      <td>1200</td>\n",
       "      <td>0</td>\n",
       "      <td>fc</td>\n",
       "      <td>reduced_gg</td>\n",
       "    </tr>\n",
       "    <tr>\n",
       "      <th>14</th>\n",
       "      <td>ecmf</td>\n",
       "      <td>t</td>\n",
       "      <td>isobaricInhPa</td>\n",
       "      <td>100</td>\n",
       "      <td>20220608</td>\n",
       "      <td>1200</td>\n",
       "      <td>72</td>\n",
       "      <td>fc</td>\n",
       "      <td>reduced_gg</td>\n",
       "    </tr>\n",
       "  </tbody>\n",
       "</table>\n",
       "</div>"
      ],
      "text/plain": [
       "        centre shortName  typeOfLevel    level  dataDate  dataTime stepRange  \\\n",
       "Message                                                                        \n",
       "0        ecmf      2t           surface     0   20220608    1200       30      \n",
       "1        ecmf       t     isobaricInhPa   200   20220608    1200       12      \n",
       "2        ecmf       t     isobaricInhPa   150   20220608    1200       12      \n",
       "3        ecmf       z     isobaricInhPa  1000   20220608    1200        0      \n",
       "4        ecmf       z     isobaricInhPa   925   20220608    1200        0      \n",
       "5        ecmf       z     isobaricInhPa   850   20220608    1200        0      \n",
       "6        ecmf       z     isobaricInhPa   700   20220608    1200        0      \n",
       "7        ecmf       z     isobaricInhPa   500   20220608    1200        0      \n",
       "8        ecmf       z     isobaricInhPa   400   20220608    1200        0      \n",
       "9        ecmf       z     isobaricInhPa   300   20220608    1200        0      \n",
       "10       ecmf       z     isobaricInhPa   250   20220608    1200        0      \n",
       "11       ecmf       z     isobaricInhPa   200   20220608    1200        0      \n",
       "12       ecmf       z     isobaricInhPa   150   20220608    1200        0      \n",
       "13       ecmf       z     isobaricInhPa   100   20220608    1200        0      \n",
       "14       ecmf       t     isobaricInhPa   100   20220608    1200       72      \n",
       "\n",
       "        dataType   gridType   \n",
       "Message                       \n",
       "0          fc     reduced_gg  \n",
       "1          fc     reduced_gg  \n",
       "2          fc     reduced_gg  \n",
       "3          fc     reduced_gg  \n",
       "4          fc     reduced_gg  \n",
       "5          fc     reduced_gg  \n",
       "6          fc     reduced_gg  \n",
       "7          fc     reduced_gg  \n",
       "8          fc     reduced_gg  \n",
       "9          fc     reduced_gg  \n",
       "10         fc     reduced_gg  \n",
       "11         fc     reduced_gg  \n",
       "12         fc     reduced_gg  \n",
       "13         fc     reduced_gg  \n",
       "14         fc     reduced_gg  "
      ]
     },
     "execution_count": 250,
     "metadata": {},
     "output_type": "execute_result"
    }
   ],
   "source": [
    "# use the Fieldset constructor to do the same thing from a\n",
    "# list of Fieldsets\n",
    "combined = mv.Fieldset(fields=[a, b, c, d])\n",
    "combined.ls()"
   ]
  },
  {
   "cell_type": "code",
   "execution_count": 251,
   "id": "a5f8da09",
   "metadata": {},
   "outputs": [
    {
     "name": "stdout",
     "output_type": "stream",
     "text": [
      "Fieldset (15 fields)\n",
      "Fieldset (17 fields)\n"
     ]
    }
   ],
   "source": [
    "# append to an existing Fieldset\n",
    "print(combined)\n",
    "combined.append(b)\n",
    "print(combined)"
   ]
  },
  {
   "cell_type": "markdown",
   "id": "d2ce9ea4",
   "metadata": {},
   "source": [
    "# Point selection"
   ]
  },
  {
   "cell_type": "markdown",
   "id": "3cf88d5d",
   "metadata": {},
   "source": [
    "## Area cropping"
   ]
  },
  {
   "cell_type": "code",
   "execution_count": 252,
   "id": "edf79db3",
   "metadata": {},
   "outputs": [
    {
     "data": {
      "application/vnd.jupyter.widget-view+json": {
       "model_id": "5c354a859ed142a7af737e2c8a656dbe",
       "version_major": 2,
       "version_minor": 0
      },
      "text/plain": [
       "Image(value=b'', layout=\"Layout(visibility='hidden')\")"
      ]
     },
     "metadata": {},
     "output_type": "display_data"
    },
    {
     "data": {
      "application/vnd.jupyter.widget-view+json": {
       "model_id": "8cc4b6ac9e2e400eaec8c3553282c8ea",
       "version_major": 2,
       "version_minor": 0
      },
      "text/plain": [
       "Label(value='Generating plots....')"
      ]
     },
     "metadata": {},
     "output_type": "display_data"
    },
    {
     "data": {
      "application/vnd.jupyter.widget-view+json": {
       "model_id": "7e444737a10f438aa094ddb24d998948",
       "version_major": 2,
       "version_minor": 0
      },
      "text/plain": [
       "VBox(children=(IntSlider(value=1, description='Frame:', layout=Layout(width='800px'), max=1, min=1), HBox(chil…"
      ]
     },
     "metadata": {},
     "output_type": "display_data"
    }
   ],
   "source": [
    "# first plot the data (first 5 fields) to see what we've got\n",
    "few_fields = data[9:14]\n",
    "mv.plot(few_fields)"
   ]
  },
  {
   "cell_type": "code",
   "execution_count": 253,
   "id": "0d6047ff",
   "metadata": {},
   "outputs": [],
   "source": [
    "# select an area [N,W,S,E]\n",
    "data_area = [70, -25, 28, 45]\n",
    "data_on_subarea = mv.read(data=few_fields, area=data_area)"
   ]
  },
  {
   "cell_type": "code",
   "execution_count": 254,
   "id": "64b24373",
   "metadata": {},
   "outputs": [
    {
     "data": {
      "application/vnd.jupyter.widget-view+json": {
       "model_id": "5ca83fa108a44cbea821d9944c47079e",
       "version_major": 2,
       "version_minor": 0
      },
      "text/plain": [
       "Image(value=b'', layout=\"Layout(visibility='hidden')\")"
      ]
     },
     "metadata": {},
     "output_type": "display_data"
    },
    {
     "data": {
      "application/vnd.jupyter.widget-view+json": {
       "model_id": "5a1f924a25f741d8a25ae5db8fb302ef",
       "version_major": 2,
       "version_minor": 0
      },
      "text/plain": [
       "Label(value='Generating plots....')"
      ]
     },
     "metadata": {},
     "output_type": "display_data"
    },
    {
     "data": {
      "application/vnd.jupyter.widget-view+json": {
       "model_id": "ab6320083d9d453d923dc2b7ea03e1ec",
       "version_major": 2,
       "version_minor": 0
      },
      "text/plain": [
       "VBox(children=(IntSlider(value=1, description='Frame:', layout=Layout(width='800px'), max=1, min=1), HBox(chil…"
      ]
     },
     "metadata": {},
     "output_type": "display_data"
    }
   ],
   "source": [
    "# plot the filelds to see\n",
    "mv.plot(data_on_subarea)"
   ]
  },
  {
   "cell_type": "code",
   "execution_count": 255,
   "id": "dccac302",
   "metadata": {},
   "outputs": [
    {
     "data": {
      "application/vnd.jupyter.widget-view+json": {
       "model_id": "d3bb4857b528478d8c8f5c3f9cdd41eb",
       "version_major": 2,
       "version_minor": 0
      },
      "text/plain": [
       "Image(value=b'', layout=\"Layout(visibility='hidden')\")"
      ]
     },
     "metadata": {},
     "output_type": "display_data"
    },
    {
     "data": {
      "application/vnd.jupyter.widget-view+json": {
       "model_id": "968dc2b734c4497c835fae366a22d0c1",
       "version_major": 2,
       "version_minor": 0
      },
      "text/plain": [
       "Label(value='Generating plots....')"
      ]
     },
     "metadata": {},
     "output_type": "display_data"
    },
    {
     "data": {
      "application/vnd.jupyter.widget-view+json": {
       "model_id": "381a041e041b42338a3a1c29e90210a6",
       "version_major": 2,
       "version_minor": 0
      },
      "text/plain": [
       "VBox(children=(IntSlider(value=1, description='Frame:', layout=Layout(width='800px'), max=1, min=1), HBox(chil…"
      ]
     },
     "metadata": {},
     "output_type": "display_data"
    }
   ],
   "source": [
    "# add some automatic styling and zoom into the area\n",
    "view = mv.geoview(map_area_definition=\"corners\", area=data_area)\n",
    "cont_auto = mv.mcont(legend=True, contour_automatic_setting=\"ecmwf\", grib_scaling_of_derived_fields=True)\n",
    "mv.plot(view, data_on_subarea, cont_auto)"
   ]
  },
  {
   "cell_type": "markdown",
   "id": "fc35f91a",
   "metadata": {},
   "source": [
    "## Point reduction with regridding"
   ]
  },
  {
   "cell_type": "code",
   "execution_count": 256,
   "id": "5ce32b37",
   "metadata": {},
   "outputs": [
    {
     "data": {
      "application/vnd.jupyter.widget-view+json": {
       "model_id": "93b7b4b1ab3a436eabc5e3e39ad494ef",
       "version_major": 2,
       "version_minor": 0
      },
      "text/plain": [
       "Image(value=b'', layout=\"Layout(visibility='hidden')\")"
      ]
     },
     "metadata": {},
     "output_type": "display_data"
    },
    {
     "data": {
      "application/vnd.jupyter.widget-view+json": {
       "model_id": "887af99fe42549a99b9b56878c6452ad",
       "version_major": 2,
       "version_minor": 0
      },
      "text/plain": [
       "Label(value='Generating plots....')"
      ]
     },
     "metadata": {},
     "output_type": "display_data"
    }
   ],
   "source": [
    "# let's plot the data points to see what the grid looks like\n",
    "gridpoint_markers = mv.mcont(\n",
    "    contour                          = \"off\",\n",
    "    contour_grid_value_plot          = \"on\",\n",
    "    contour_grid_value_plot_type     = \"marker\",\n",
    "    )\n",
    "mv.plot(view, data_on_subarea[0], gridpoint_markers)"
   ]
  },
  {
   "cell_type": "code",
   "execution_count": 257,
   "id": "b028c290",
   "metadata": {},
   "outputs": [
    {
     "data": {
      "application/vnd.jupyter.widget-view+json": {
       "model_id": "d316ae00e4b04b86a7f9564932de3c1a",
       "version_major": 2,
       "version_minor": 0
      },
      "text/plain": [
       "Image(value=b'', layout=\"Layout(visibility='hidden')\")"
      ]
     },
     "metadata": {},
     "output_type": "display_data"
    },
    {
     "data": {
      "application/vnd.jupyter.widget-view+json": {
       "model_id": "b9a4a830496a4370b859f6b7cbb58802",
       "version_major": 2,
       "version_minor": 0
      },
      "text/plain": [
       "Label(value='Generating plots....')"
      ]
     },
     "metadata": {},
     "output_type": "display_data"
    }
   ],
   "source": [
    "# regrid to a lower-resolution octahedral reduced Gaussian grid\n",
    "lowres_data = mv.read(data=data_on_subarea, grid=\"O80\")\n",
    "mv.plot(view, lowres_data[0], gridpoint_markers)"
   ]
  },
  {
   "cell_type": "code",
   "execution_count": 258,
   "id": "3ac779ae",
   "metadata": {},
   "outputs": [
    {
     "data": {
      "application/vnd.jupyter.widget-view+json": {
       "model_id": "dad6a950d921422e8ec7e1c5e87e8bbb",
       "version_major": 2,
       "version_minor": 0
      },
      "text/plain": [
       "Image(value=b'', layout=\"Layout(visibility='hidden')\")"
      ]
     },
     "metadata": {},
     "output_type": "display_data"
    },
    {
     "data": {
      "application/vnd.jupyter.widget-view+json": {
       "model_id": "8d5cbef80df9452ab49fd588c87cae3e",
       "version_major": 2,
       "version_minor": 0
      },
      "text/plain": [
       "Label(value='Generating plots....')"
      ]
     },
     "metadata": {},
     "output_type": "display_data"
    }
   ],
   "source": [
    "# regrid to a regular lat/lon grid\n",
    "lowres_data = mv.read(data=data_on_subarea, grid=[3, 3]) # 3 degrees\n",
    "mv.plot(view, lowres_data[0], gridpoint_markers)"
   ]
  },
  {
   "cell_type": "markdown",
   "id": "1b9b9b53",
   "metadata": {},
   "source": [
    "## Masking"
   ]
  },
  {
   "cell_type": "code",
   "execution_count": 259,
   "id": "68e9d977",
   "metadata": {},
   "outputs": [],
   "source": [
    "# masking in Metview means defining an area and either:\n",
    "#   creating a field with 1s inside the area and 0s outside (missing=False)\n",
    "#   or\n",
    "#   turning the values outside the area into missing values (missing=True)"
   ]
  },
  {
   "cell_type": "code",
   "execution_count": 260,
   "id": "3985df1f",
   "metadata": {},
   "outputs": [],
   "source": [
    "# we will use temperature data at step 0 to be masked\n",
    "t0 = data.select(shortName='t', step=0)"
   ]
  },
  {
   "cell_type": "markdown",
   "id": "bbacd0a1",
   "metadata": {},
   "source": [
    "### Direct masking\n",
    "This is where we define regions of a field to be preserved, while the points outside those regions are filled with missing values."
   ]
  },
  {
   "cell_type": "code",
   "execution_count": 261,
   "id": "d3a81d49",
   "metadata": {},
   "outputs": [
    {
     "name": "stdout",
     "output_type": "stream",
     "text": [
      "Mean val for first field: 291.17134988096336\n"
     ]
    }
   ],
   "source": [
    "print('Mean val for first field:', t0[0].average())"
   ]
  },
  {
   "cell_type": "code",
   "execution_count": 262,
   "id": "e0bf8837",
   "metadata": {},
   "outputs": [
    {
     "name": "stdout",
     "output_type": "stream",
     "text": [
      "Mean val for first field: 285.994193761489\n"
     ]
    },
    {
     "data": {
      "application/vnd.jupyter.widget-view+json": {
       "model_id": "35aa2b621aba4591974867f229e7abbf",
       "version_major": 2,
       "version_minor": 0
      },
      "text/plain": [
       "Image(value=b'', layout=\"Layout(visibility='hidden')\")"
      ]
     },
     "metadata": {},
     "output_type": "display_data"
    },
    {
     "data": {
      "application/vnd.jupyter.widget-view+json": {
       "model_id": "60e0ea88b47b46dcb1dd4c8635d7606b",
       "version_major": 2,
       "version_minor": 0
      },
      "text/plain": [
       "Label(value='Generating plots....')"
      ]
     },
     "metadata": {},
     "output_type": "display_data"
    },
    {
     "data": {
      "application/vnd.jupyter.widget-view+json": {
       "model_id": "999b0e64e5b149c89b606069fa07e6a2",
       "version_major": 2,
       "version_minor": 0
      },
      "text/plain": [
       "VBox(children=(IntSlider(value=1, description='Frame:', layout=Layout(width='800px'), max=1, min=1), HBox(chil…"
      ]
     },
     "metadata": {},
     "output_type": "display_data"
    }
   ],
   "source": [
    "# define a rectangular mask\n",
    "rect_masked_data = mv.mask(t0, [48, -12, 63, 5], missing=True) # [N,W,S,E]\n",
    "print('Mean val for first field:', rect_masked_data[0].average())\n",
    "mv.plot(view, rect_masked_data, cont_auto)"
   ]
  },
  {
   "cell_type": "code",
   "execution_count": 263,
   "id": "a7db54ac",
   "metadata": {},
   "outputs": [
    {
     "name": "stdout",
     "output_type": "stream",
     "text": [
      "Mean val for first field: 286.1307097507587\n"
     ]
    },
    {
     "data": {
      "application/vnd.jupyter.widget-view+json": {
       "model_id": "7c40990f68944ae9824c4b34fa85d876",
       "version_major": 2,
       "version_minor": 0
      },
      "text/plain": [
       "Image(value=b'', layout=\"Layout(visibility='hidden')\")"
      ]
     },
     "metadata": {},
     "output_type": "display_data"
    },
    {
     "data": {
      "application/vnd.jupyter.widget-view+json": {
       "model_id": "f61cda093ac94ff6a3a3a28f225696ac",
       "version_major": 2,
       "version_minor": 0
      },
      "text/plain": [
       "Label(value='Generating plots....')"
      ]
     },
     "metadata": {},
     "output_type": "display_data"
    },
    {
     "data": {
      "application/vnd.jupyter.widget-view+json": {
       "model_id": "77c72ed86ba14247a4c65e4cf86ef028",
       "version_major": 2,
       "version_minor": 0
      },
      "text/plain": [
       "VBox(children=(IntSlider(value=1, description='Frame:', layout=Layout(width='800px'), max=1, min=1), HBox(chil…"
      ]
     },
     "metadata": {},
     "output_type": "display_data"
    }
   ],
   "source": [
    "# define a circular mask - centre in lat/lon, radius in m\n",
    "circ_masked_data = mv.rmask(t0, [55, -4, 800*1000], missing=True) # [N,W,S,E]\n",
    "print('Mean val for first field:', circ_masked_data[0].average())\n",
    "mv.plot(view, circ_masked_data, cont_auto)"
   ]
  },
  {
   "cell_type": "code",
   "execution_count": 264,
   "id": "3d0f5219",
   "metadata": {},
   "outputs": [
    {
     "ename": "ModuleNotFoundError",
     "evalue": "No module named 'shapefile'",
     "output_type": "error",
     "traceback": [
      "\u001b[0;31m---------------------------------------------------------------------------\u001b[0m",
      "\u001b[0;31mModuleNotFoundError\u001b[0m                       Traceback (most recent call last)",
      "\u001b[0;32m<ipython-input-264-fd7c14cfe6bc>\u001b[0m in \u001b[0;36m<module>\u001b[0;34m\u001b[0m\n\u001b[1;32m      1\u001b[0m \u001b[0;31m# polygon area - we will use a shapefile from Magics\u001b[0m\u001b[0;34m\u001b[0m\u001b[0;34m\u001b[0m\u001b[0;34m\u001b[0m\u001b[0m\n\u001b[0;32m----> 2\u001b[0;31m \u001b[0;32mimport\u001b[0m \u001b[0mshapefile\u001b[0m \u001b[0;31m# pip install pyshp\u001b[0m\u001b[0;34m\u001b[0m\u001b[0;34m\u001b[0m\u001b[0m\n\u001b[0m\u001b[1;32m      3\u001b[0m \u001b[0mmetview_dir\u001b[0m \u001b[0;34m=\u001b[0m \u001b[0mmv\u001b[0m\u001b[0;34m.\u001b[0m\u001b[0mversion_info\u001b[0m\u001b[0;34m(\u001b[0m\u001b[0;34m)\u001b[0m\u001b[0;34m[\u001b[0m\u001b[0;34m\"metview_dir\"\u001b[0m\u001b[0;34m]\u001b[0m\u001b[0;34m\u001b[0m\u001b[0;34m\u001b[0m\u001b[0m\n\u001b[1;32m      4\u001b[0m \u001b[0msf\u001b[0m \u001b[0;34m=\u001b[0m \u001b[0mshapefile\u001b[0m\u001b[0;34m.\u001b[0m\u001b[0mReader\u001b[0m\u001b[0;34m(\u001b[0m\u001b[0mmetview_dir\u001b[0m \u001b[0;34m+\u001b[0m \u001b[0;34m\"/../../share/magics/50m/ne_50m_land.shp\"\u001b[0m\u001b[0;34m)\u001b[0m\u001b[0;34m\u001b[0m\u001b[0;34m\u001b[0m\u001b[0m\n",
      "\u001b[0;31mModuleNotFoundError\u001b[0m: No module named 'shapefile'"
     ]
    }
   ],
   "source": [
    "# polygon area - we will use a shapefile from Magics\n",
    "import shapefile # pip install pyshp\n",
    "metview_dir = mv.version_info()[\"metview_dir\"]\n",
    "sf = shapefile.Reader(metview_dir + \"/../../share/magics/50m/ne_50m_land.shp\")"
   ]
  },
  {
   "cell_type": "code",
   "execution_count": null,
   "id": "b86d29f5",
   "metadata": {},
   "outputs": [
    {
     "ename": "NameError",
     "evalue": "name 'sf' is not defined",
     "output_type": "error",
     "traceback": [
      "\u001b[0;31m---------------------------------------------------------------------------\u001b[0m",
      "\u001b[0;31mNameError\u001b[0m                                 Traceback (most recent call last)",
      "\u001b[0;32m<ipython-input-169-4584716e243e>\u001b[0m in \u001b[0;36m<module>\u001b[0;34m\u001b[0m\n\u001b[1;32m      1\u001b[0m \u001b[0;31m# extract the list of points for the Great Britain polygon\u001b[0m\u001b[0;34m\u001b[0m\u001b[0;34m\u001b[0m\u001b[0;34m\u001b[0m\u001b[0m\n\u001b[0;32m----> 2\u001b[0;31m \u001b[0mshapes\u001b[0m \u001b[0;34m=\u001b[0m \u001b[0msf\u001b[0m\u001b[0;34m.\u001b[0m\u001b[0mshapes\u001b[0m\u001b[0;34m(\u001b[0m\u001b[0;34m)\u001b[0m\u001b[0;34m\u001b[0m\u001b[0;34m\u001b[0m\u001b[0m\n\u001b[0m\u001b[1;32m      3\u001b[0m \u001b[0mpoints\u001b[0m \u001b[0;34m=\u001b[0m \u001b[0mshapes\u001b[0m\u001b[0;34m[\u001b[0m\u001b[0;36m135\u001b[0m\u001b[0;34m]\u001b[0m\u001b[0;34m.\u001b[0m\u001b[0mpoints\u001b[0m  \u001b[0;31m# GB\u001b[0m\u001b[0;34m\u001b[0m\u001b[0;34m\u001b[0m\u001b[0m\n\u001b[1;32m      4\u001b[0m \u001b[0mlats\u001b[0m \u001b[0;34m=\u001b[0m \u001b[0mnp\u001b[0m\u001b[0;34m.\u001b[0m\u001b[0marray\u001b[0m\u001b[0;34m(\u001b[0m\u001b[0;34m[\u001b[0m\u001b[0mp\u001b[0m\u001b[0;34m[\u001b[0m\u001b[0;36m1\u001b[0m\u001b[0;34m]\u001b[0m \u001b[0;32mfor\u001b[0m \u001b[0mp\u001b[0m \u001b[0;32min\u001b[0m \u001b[0mpoints\u001b[0m\u001b[0;34m]\u001b[0m\u001b[0;34m)\u001b[0m\u001b[0;34m\u001b[0m\u001b[0;34m\u001b[0m\u001b[0m\n\u001b[1;32m      5\u001b[0m \u001b[0mlons\u001b[0m \u001b[0;34m=\u001b[0m \u001b[0mnp\u001b[0m\u001b[0;34m.\u001b[0m\u001b[0marray\u001b[0m\u001b[0;34m(\u001b[0m\u001b[0;34m[\u001b[0m\u001b[0mp\u001b[0m\u001b[0;34m[\u001b[0m\u001b[0;36m0\u001b[0m\u001b[0;34m]\u001b[0m \u001b[0;32mfor\u001b[0m \u001b[0mp\u001b[0m \u001b[0;32min\u001b[0m \u001b[0mpoints\u001b[0m\u001b[0;34m]\u001b[0m\u001b[0;34m)\u001b[0m\u001b[0;34m\u001b[0m\u001b[0;34m\u001b[0m\u001b[0m\n",
      "\u001b[0;31mNameError\u001b[0m: name 'sf' is not defined"
     ]
    }
   ],
   "source": [
    "# extract the list of points for the Great Britain polygon\n",
    "shapes = sf.shapes()\n",
    "points = shapes[135].points  # GB\n",
    "lats = np.array([p[1] for p in points])\n",
    "lons = np.array([p[0] for p in points])"
   ]
  },
  {
   "cell_type": "code",
   "execution_count": null,
   "id": "99d6701d",
   "metadata": {},
   "outputs": [],
   "source": [
    "poly_masked_data = mv.poly_mask(t0, lats, lons, missing=True)\n",
    "print('Mean val for first field:', poly_masked_data[0].average())\n",
    "mv.plot(view, poly_masked_data, cont_auto)"
   ]
  },
  {
   "cell_type": "markdown",
   "id": "8b3fe3c7",
   "metadata": {},
   "source": [
    "### Indirect masking\n",
    "This is where we generate masks consisting of 1s where the points are inside a given region (or satisfy some other criteria) and 0s otherwise. We can then combine these and use them to provide a missing value mask to any field."
   ]
  },
  {
   "cell_type": "code",
   "execution_count": 265,
   "id": "52c162c5",
   "metadata": {},
   "outputs": [],
   "source": [
    "# contouring for 0 and 1 values\n",
    "mask_1_and_0_contouring = mv.mcont(\n",
    "    legend=\"on\",\n",
    "    contour=\"off\",\n",
    "    contour_level_selection_type=\"level_list\",\n",
    "    contour_level_list=[0, 1, 2],\n",
    "    contour_shade=\"on\",\n",
    "    contour_shade_technique=\"grid_shading\",\n",
    "    contour_shade_max_level_colour=\"red\",\n",
    "    contour_shade_min_level_colour=\"yellow\",\n",
    ")"
   ]
  },
  {
   "cell_type": "code",
   "execution_count": 266,
   "id": "3490ff30",
   "metadata": {},
   "outputs": [
    {
     "data": {
      "application/vnd.jupyter.widget-view+json": {
       "model_id": "7120acdb92034b078413a8808f9c606e",
       "version_major": 2,
       "version_minor": 0
      },
      "text/plain": [
       "Image(value=b'', layout=\"Layout(visibility='hidden')\")"
      ]
     },
     "metadata": {},
     "output_type": "display_data"
    },
    {
     "data": {
      "application/vnd.jupyter.widget-view+json": {
       "model_id": "8899341472d24484a2f557b555e33960",
       "version_major": 2,
       "version_minor": 0
      },
      "text/plain": [
       "Label(value='Generating plots....')"
      ]
     },
     "metadata": {},
     "output_type": "display_data"
    }
   ],
   "source": [
    "# define a rectangular mask\n",
    "rect_masked_data = mv.mask(t0, [48, -12, 63, 5], missing=False) # [N,W,S,E]\n",
    "mv.plot(view, rect_masked_data[0], mask_1_and_0_contouring)"
   ]
  },
  {
   "cell_type": "code",
   "execution_count": 267,
   "id": "508c4e97",
   "metadata": {},
   "outputs": [
    {
     "data": {
      "application/vnd.jupyter.widget-view+json": {
       "model_id": "8510c0dc457443d78d78914e679cbe85",
       "version_major": 2,
       "version_minor": 0
      },
      "text/plain": [
       "Image(value=b'', layout=\"Layout(visibility='hidden')\")"
      ]
     },
     "metadata": {},
     "output_type": "display_data"
    },
    {
     "data": {
      "application/vnd.jupyter.widget-view+json": {
       "model_id": "975d77b17b5b4d9f8f0ba95562c09781",
       "version_major": 2,
       "version_minor": 0
      },
      "text/plain": [
       "Label(value='Generating plots....')"
      ]
     },
     "metadata": {},
     "output_type": "display_data"
    }
   ],
   "source": [
    "# define a circular mask - centre in lat/lon, radius in m\n",
    "circ_masked_data = mv.rmask(t0, [55, -4, 800*1000], missing=False) # [N,W,S,E]\n",
    "mv.plot(view, circ_masked_data[0], mask_1_and_0_contouring)"
   ]
  },
  {
   "cell_type": "code",
   "execution_count": 268,
   "id": "d25af07a",
   "metadata": {},
   "outputs": [
    {
     "data": {
      "application/vnd.jupyter.widget-view+json": {
       "model_id": "2b8e23c710a74be4b3c6dcb1ba3ddc41",
       "version_major": 2,
       "version_minor": 0
      },
      "text/plain": [
       "Image(value=b'', layout=\"Layout(visibility='hidden')\")"
      ]
     },
     "metadata": {},
     "output_type": "display_data"
    },
    {
     "data": {
      "application/vnd.jupyter.widget-view+json": {
       "model_id": "590bcfaa8b4c44f99af9a965246b276c",
       "version_major": 2,
       "version_minor": 0
      },
      "text/plain": [
       "Label(value='Generating plots....')"
      ]
     },
     "metadata": {},
     "output_type": "display_data"
    },
    {
     "data": {
      "application/vnd.jupyter.widget-view+json": {
       "model_id": "2a18ea341ca447758c5106f09f2a2ea1",
       "version_major": 2,
       "version_minor": 0
      },
      "text/plain": [
       "VBox(children=(IntSlider(value=1, description='Frame:', layout=Layout(width='800px'), max=1, min=1), HBox(chil…"
      ]
     },
     "metadata": {},
     "output_type": "display_data"
    }
   ],
   "source": [
    "r0 = data.select(shortName='r', step=0)\n",
    "high_relhum = r0 > 75\n",
    "mv.plot(view, high_relhum, mask_1_and_0_contouring)"
   ]
  },
  {
   "cell_type": "code",
   "execution_count": 269,
   "id": "820691ba",
   "metadata": {},
   "outputs": [
    {
     "data": {
      "application/vnd.jupyter.widget-view+json": {
       "model_id": "488465a7b9bc463f8e1948b92b9af89e",
       "version_major": 2,
       "version_minor": 0
      },
      "text/plain": [
       "Image(value=b'', layout=\"Layout(visibility='hidden')\")"
      ]
     },
     "metadata": {},
     "output_type": "display_data"
    },
    {
     "data": {
      "application/vnd.jupyter.widget-view+json": {
       "model_id": "88cfda4889d243798619b678ff983b1a",
       "version_major": 2,
       "version_minor": 0
      },
      "text/plain": [
       "Label(value='Generating plots....')"
      ]
     },
     "metadata": {},
     "output_type": "display_data"
    },
    {
     "data": {
      "application/vnd.jupyter.widget-view+json": {
       "model_id": "975c9787d5ec456ca279ee8e1bfd151d",
       "version_major": 2,
       "version_minor": 0
      },
      "text/plain": [
       "VBox(children=(IntSlider(value=1, description='Frame:', layout=Layout(width='800px'), max=1, min=1), HBox(chil…"
      ]
     },
     "metadata": {},
     "output_type": "display_data"
    }
   ],
   "source": [
    "# combine the masks with the 'or' operator (only useful for 1/0 masks)\n",
    "combined_mask_data = rect_masked_data | circ_masked_data | high_relhum\n",
    "mv.plot(view, combined_mask_data, mask_1_and_0_contouring)"
   ]
  },
  {
   "cell_type": "code",
   "execution_count": 270,
   "id": "31c18236",
   "metadata": {},
   "outputs": [
    {
     "name": "stdout",
     "output_type": "stream",
     "text": [
      "Mean val for first field: 287.8017946073666\n"
     ]
    },
    {
     "data": {
      "application/vnd.jupyter.widget-view+json": {
       "model_id": "c26557a6acac407188a097f2f9ff6303",
       "version_major": 2,
       "version_minor": 0
      },
      "text/plain": [
       "Image(value=b'', layout=\"Layout(visibility='hidden')\")"
      ]
     },
     "metadata": {},
     "output_type": "display_data"
    },
    {
     "data": {
      "application/vnd.jupyter.widget-view+json": {
       "model_id": "1a05e0f2b9a345fb8f995f3bc89f2ebc",
       "version_major": 2,
       "version_minor": 0
      },
      "text/plain": [
       "Label(value='Generating plots....')"
      ]
     },
     "metadata": {},
     "output_type": "display_data"
    },
    {
     "data": {
      "application/vnd.jupyter.widget-view+json": {
       "model_id": "6f84f38e327045c89357c435a9377d1a",
       "version_major": 2,
       "version_minor": 0
      },
      "text/plain": [
       "VBox(children=(IntSlider(value=1, description='Frame:', layout=Layout(width='800px'), max=1, min=1), HBox(chil…"
      ]
     },
     "metadata": {},
     "output_type": "display_data"
    }
   ],
   "source": [
    "# use this mask to replace 0s with missing values in the original data\n",
    "combined_mask_data = mv.bitmap(combined_mask_data, 0) # replace 0 with missing vals\n",
    "masked_data = mv.bitmap(t0, combined_mask_data) # copy missing vals over\n",
    "print('Mean val for first field:', masked_data[0].average())\n",
    "mv.plot(view, masked_data, cont_auto)"
   ]
  },
  {
   "cell_type": "markdown",
   "id": "56507dd1",
   "metadata": {},
   "source": [
    "## Frames\n",
    "Frames are useful to supply boundary conditions to a local area model.\n"
   ]
  },
  {
   "cell_type": "code",
   "execution_count": 271,
   "id": "17934547",
   "metadata": {
    "scrolled": true
   },
   "outputs": [
    {
     "data": {
      "application/vnd.jupyter.widget-view+json": {
       "model_id": "f47c4a9953944935887fcbcf72333deb",
       "version_major": 2,
       "version_minor": 0
      },
      "text/plain": [
       "Image(value=b'', layout=\"Layout(visibility='hidden')\")"
      ]
     },
     "metadata": {},
     "output_type": "display_data"
    },
    {
     "data": {
      "application/vnd.jupyter.widget-view+json": {
       "model_id": "7d251c7387b140f387f94210611ef873",
       "version_major": 2,
       "version_minor": 0
      },
      "text/plain": [
       "Label(value='Generating plots....')"
      ]
     },
     "metadata": {},
     "output_type": "display_data"
    },
    {
     "data": {
      "application/vnd.jupyter.widget-view+json": {
       "model_id": "799f28e96a46467ba06aebd28a0d93dc",
       "version_major": 2,
       "version_minor": 0
      },
      "text/plain": [
       "VBox(children=(IntSlider(value=1, description='Frame:', layout=Layout(width='800px'), max=1, min=1), HBox(chil…"
      ]
     },
     "metadata": {},
     "output_type": "display_data"
    }
   ],
   "source": [
    "# the frame parameter is the width of the frame in degrees\n",
    "data_frame = mv.read(data=data, area=data_area, frame=5, grid=[1,1])\n",
    "mv.plot(data_frame['t1000'], cont_auto)"
   ]
  },
  {
   "cell_type": "markdown",
   "id": "d24cf839",
   "metadata": {},
   "source": [
    "## Vertical profiles"
   ]
  },
  {
   "cell_type": "markdown",
   "id": "44ea41dc",
   "metadata": {},
   "source": [
    "Vertical profiles can be extracted from GRIB data for a given point or area (with spatial averaging) for each timestep separately."
   ]
  },
  {
   "cell_type": "code",
   "execution_count": 272,
   "id": "8c57a691",
   "metadata": {},
   "outputs": [
    {
     "name": "stdout",
     "output_type": "stream",
     "text": [
      "[['0', '1000'], ['0', '925'], ['0', '850'], ['0', '700'], ['0', '500'], ['0', '400'], ['0', '300'], ['0', '250'], ['0', '200'], ['0', '150'], ['0', '100']]\n",
      "[['6', '1000'], ['6', '925'], ['6', '850'], ['6', '700'], ['6', '500'], ['6', '400'], ['6', '300'], ['6', '250'], ['6', '200'], ['6', '150'], ['6', '100']]\n",
      "[['12', '1000'], ['12', '925'], ['12', '850'], ['12', '700'], ['12', '500'], ['12', '400'], ['12', '300'], ['12', '250'], ['12', '200'], ['12', '150'], ['12', '100']]\n",
      "[['18', '1000'], ['18', '925'], ['18', '850'], ['18', '700'], ['18', '500'], ['18', '400'], ['18', '300'], ['18', '250'], ['18', '200'], ['18', '150'], ['18', '100']]\n",
      "[['24', '1000'], ['24', '925'], ['24', '850'], ['24', '700'], ['24', '500'], ['24', '400'], ['24', '300'], ['24', '250'], ['24', '200'], ['24', '150'], ['24', '100']]\n",
      "[['30', '1000'], ['30', '925'], ['30', '850'], ['30', '700'], ['30', '500'], ['30', '400'], ['30', '300'], ['30', '250'], ['30', '200'], ['30', '150'], ['30', '100']]\n",
      "[['36', '1000'], ['36', '925'], ['36', '850'], ['36', '700'], ['36', '500'], ['36', '400'], ['36', '300'], ['36', '250'], ['36', '200'], ['36', '150'], ['36', '100']]\n",
      "[['42', '1000'], ['42', '925'], ['42', '850'], ['42', '700'], ['42', '500'], ['42', '400'], ['42', '300'], ['42', '250'], ['42', '200'], ['42', '150'], ['42', '100']]\n",
      "[['48', '1000'], ['48', '925'], ['48', '850'], ['48', '700'], ['48', '500'], ['48', '400'], ['48', '300'], ['48', '250'], ['48', '200'], ['48', '150'], ['48', '100']]\n",
      "[['54', '1000'], ['54', '925'], ['54', '850'], ['54', '700'], ['54', '500'], ['54', '400'], ['54', '300'], ['54', '250'], ['54', '200'], ['54', '150'], ['54', '100']]\n",
      "[['60', '1000'], ['60', '925'], ['60', '850'], ['60', '700'], ['60', '500'], ['60', '400'], ['60', '300'], ['60', '250'], ['60', '200'], ['60', '150'], ['60', '100']]\n",
      "[['66', '1000'], ['66', '925'], ['66', '850'], ['66', '700'], ['66', '500'], ['66', '400'], ['66', '300'], ['66', '250'], ['66', '200'], ['66', '150'], ['66', '100']]\n",
      "[['72', '1000'], ['72', '925'], ['72', '850'], ['72', '700'], ['72', '500'], ['72', '400'], ['72', '300'], ['72', '250'], ['72', '200'], ['72', '150'], ['72', '100']]\n"
     ]
    }
   ],
   "source": [
    "# let's plot a profile for each forecast step of temperature\n",
    "\n",
    "# we will extract one Fieldset for each time step - each of these Fieldsets\n",
    "# will contain all the vertical levels of temperature data for that time step\n",
    "# we will end up with a list of these Fieldsets and plot a profile for each\n",
    "steps = mv.unique(mv.grib_get_long(data, 'step'))\n",
    "data_for_all_steps = [data.select(shortName='t', step=s) for s in steps]\n",
    "for f in data_for_all_steps:\n",
    "    print(f.grib_get(['step', 'level']))"
   ]
  },
  {
   "cell_type": "code",
   "execution_count": 273,
   "id": "2b68ff9f",
   "metadata": {},
   "outputs": [
    {
     "data": {
      "application/vnd.jupyter.widget-view+json": {
       "model_id": "6c0c293ad1c945b49085564fd5430df4",
       "version_major": 2,
       "version_minor": 0
      },
      "text/plain": [
       "Image(value=b'', layout=\"Layout(visibility='hidden')\")"
      ]
     },
     "metadata": {},
     "output_type": "display_data"
    },
    {
     "data": {
      "application/vnd.jupyter.widget-view+json": {
       "model_id": "457dd42777c24201a1757dc8c435c978",
       "version_major": 2,
       "version_minor": 0
      },
      "text/plain": [
       "Label(value='Generating plots....')"
      ]
     },
     "metadata": {},
     "output_type": "display_data"
    }
   ],
   "source": [
    "# we will plot the profile for each step in a different colour - generate a list\n",
    "# of 'mgraph' definitions, each using a different colour, for this purpose\n",
    "nsteps = len(steps)\n",
    "colour_inc = 1/nsteps\n",
    "graph_colours = [mv.mgraph(legend=True,\n",
    "                           graph_line_thickness=2,\n",
    "                           graph_line_colour='HSL('+str(360*s*colour_inc)+',1,0.45)') for s in range(len(steps))]\n",
    "\n",
    "# define a nice legend\n",
    "legend = mv.mlegend(\n",
    "    legend_display_type=\"disjoint\",\n",
    "    legend_entry_plot_direction=\"column\",\n",
    "    legend_text_composition=\"user_text_only\",\n",
    "    legend_entry_plot_orientation=\"top_bottom\",\n",
    "    legend_border_colour=\"black\",\n",
    "    legend_box_mode=\"positional\",\n",
    "    legend_box_x_position=2.5,\n",
    "    legend_box_y_position=4,\n",
    "    legend_box_x_length=5,\n",
    "    legend_box_y_length=8,\n",
    "    legend_text_font_size=0.5,\n",
    "    legend_user_lines=[str(int(s)) for s in steps],\n",
    ")\n",
    "\n",
    "# define the axis labels\n",
    "vertical_axis = mv.maxis(\n",
    "    axis_type=\"position_list\",\n",
    "    axis_tick_position_list=data_for_all_steps[0].grib_get_long('level')\n",
    ")\n",
    "\n",
    "# finally, the magic happens here - the vertical profile view extracts the data\n",
    "# at the given point at each level\n",
    "vpview = mv.mvertprofview(\n",
    "    input_mode=\"point\",\n",
    "    point=[-50, -70], # lat,lon\n",
    "    bottom_level=1000,\n",
    "    top_level=100,\n",
    "    vertical_scaling=\"log\",\n",
    "    level_axis=vertical_axis\n",
    ")\n",
    "mv.plot(vpview, list(zip(data_for_all_steps, graph_colours)), legend)"
   ]
  },
  {
   "cell_type": "markdown",
   "id": "bc55fbc0",
   "metadata": {},
   "source": [
    "## Thermodynamic profiles\n",
    "\n",
    "A special version of the point profile extraction is implemented by [mthermo_grib()](../gen_files/icon_functions/mthermo_grib.rst), which generates input data for thermodynamic diagrams (e.g. tephigrams). Metview is \n",
    "able to use these profiles to compute thermodynamic parcel paths and stability parameters like CAPE and CIN."
   ]
  },
  {
   "cell_type": "code",
   "execution_count": 274,
   "id": "13d7b50f",
   "metadata": {},
   "outputs": [
    {
     "data": {
      "application/vnd.jupyter.widget-view+json": {
       "model_id": "caf489281db54251893c4043b1ae22e1",
       "version_major": 2,
       "version_minor": 0
      },
      "text/plain": [
       "Image(value=b'', layout=\"Layout(visibility='hidden')\")"
      ]
     },
     "metadata": {},
     "output_type": "display_data"
    },
    {
     "data": {
      "application/vnd.jupyter.widget-view+json": {
       "model_id": "085194ee245a4f1696e8b7bdd4d61e5a",
       "version_major": 2,
       "version_minor": 0
      },
      "text/plain": [
       "Label(value='Generating plots....')"
      ]
     },
     "metadata": {},
     "output_type": "display_data"
    }
   ],
   "source": [
    "# extract temperature and specific humidity for all the levels \n",
    "# for a given timestep\n",
    "tq_data = data.select(shortName=[\"t\", \"q\"], step=0)\n",
    "\n",
    "# extract thermo profile\n",
    "location = [33, -100]  # lat, lon\n",
    "prof = mv.thermo_grib(coordinates=location, data=tq_data)\n",
    "\n",
    "# compute parcel path - maximum cape up to 700 hPa from the surface\n",
    "parcel = mv.thermo_parcel_path(prof, {\"mode\": \"most_unstable\", \"top_p\": 700})\n",
    "\n",
    "# create plot object for parcel areas and path\n",
    "parcel_area = mv.thermo_parcel_area(parcel)\n",
    "parcel_vis = mv.xy_curve(parcel[\"t\"], parcel[\"p\"], \"charcoal\", \"dash\", 6)\n",
    "\n",
    "# define temperature and dewpoint profile style\n",
    "prof_vis = mv.mthermo(\n",
    "    thermo_temperature_line_thickness=5, thermo_dewpoint_line_thickness=5\n",
    ")\n",
    "\n",
    "# define a skew-T thermodynamic diagram view\n",
    "view = mv.thermoview(type=\"skewt\")\n",
    "\n",
    "# plot the profile, parcel areas and parcel path together\n",
    "mv.plot(view, parcel_area, prof, prof_vis, parcel_vis)"
   ]
  },
  {
   "cell_type": "markdown",
   "id": "894e4cc9",
   "metadata": {},
   "source": [
    "## Vertical cross sections\n",
    "\n",
    "For a **vertical cross section** data is extracted along a transect line for all the vertical levels for a given timestep. We can choose wether we want to generate the cross section by **interpolating** the values onto the transect line or use the **nearest gridpoint** method.\n",
    "\n",
    "### Using the cross section view\n",
    "\n",
    "The simplest way to generate a cross section is to use the cross section view ([mxsectview()](../gen_files/icon_functions/mxsectview.rst)), which will automatically preform the data extraction on the input GRIB fields."
   ]
  },
  {
   "cell_type": "code",
   "execution_count": 284,
   "id": "09d74c14",
   "metadata": {},
   "outputs": [
    {
     "data": {
      "application/vnd.jupyter.widget-view+json": {
       "model_id": "e02eedceb66441388a391af0bbd02e65",
       "version_major": 2,
       "version_minor": 0
      },
      "text/plain": [
       "Image(value=b'', layout=\"Layout(visibility='hidden')\")"
      ]
     },
     "metadata": {},
     "output_type": "display_data"
    },
    {
     "data": {
      "application/vnd.jupyter.widget-view+json": {
       "model_id": "3c583a3a0139434b8adcd662298fb743",
       "version_major": 2,
       "version_minor": 0
      },
      "text/plain": [
       "Label(value='Generating plots....')"
      ]
     },
     "metadata": {},
     "output_type": "display_data"
    }
   ],
   "source": [
    "# define the cross section line\n",
    "line=[66, -44, 38,-30] # lat1,lon1,lat2,lon2\n",
    "\n",
    "# define the cross section view\n",
    "cs_view = mv.mxsectview(\n",
    "    bottom_level=1000,\n",
    "    top_level=100,\n",
    "    line=line,\n",
    "    horizontal_point_mode=\"interpolate\",\n",
    ")\n",
    "\n",
    "# extract temperature and relative humidity for the first timestep\n",
    "# for all the levels. We scale temperature values from to Celsius units\n",
    "# for plotting\n",
    "t = data.select(shortName=\"t\", step=0) - 273.16\n",
    "r = data.select(shortName=\"r\", step=0)\n",
    "\n",
    "# define the contouring styles for the cross section\n",
    "cont_xs_t = mv.mcont(\n",
    "    contour_line_style           = \"dash\",\n",
    "    contour_line_colour          = \"black\",\n",
    "    contour_highlight            = \"off\",\n",
    "    contour_level_selection_type = \"interval\",\n",
    "    contour_interval             = 5\n",
    "    )\n",
    "\n",
    "cont_xs_r = mv.mcont(\n",
    "    contour_automatic_setting = \"style_name\",\n",
    "    contour_style_name        = \"sh_grnblu_f65t100i15_light\",\n",
    "    legend                    = \"on\"\n",
    "    )\n",
    "\n",
    "# generate the cross section plot. The computations are automatically performed according\n",
    "# to the settings in the view.\n",
    "mv.plot(cs_view, r, cont_xs_r, t, cont_xs_t)"
   ]
  },
  {
   "cell_type": "markdown",
   "id": "74d2d6e4",
   "metadata": {},
   "source": [
    "### Accessing the cross section data\n",
    "\n",
    "The actual results of the cross section computations are stored in a custom NetCDF format. If we want to access it [mcross_sect()](../gen_files/icon_functions/mcross_sect.rst) should be used instead of the view.\n"
   ]
  },
  {
   "cell_type": "code",
   "execution_count": 285,
   "id": "3045485d",
   "metadata": {},
   "outputs": [
    {
     "data": {
      "text/html": [
       "<div><svg style=\"position: absolute; width: 0; height: 0; overflow: hidden\">\n",
       "<defs>\n",
       "<symbol id=\"icon-database\" viewBox=\"0 0 32 32\">\n",
       "<path d=\"M16 0c-8.837 0-16 2.239-16 5v4c0 2.761 7.163 5 16 5s16-2.239 16-5v-4c0-2.761-7.163-5-16-5z\"></path>\n",
       "<path d=\"M16 17c-8.837 0-16-2.239-16-5v6c0 2.761 7.163 5 16 5s16-2.239 16-5v-6c0 2.761-7.163 5-16 5z\"></path>\n",
       "<path d=\"M16 26c-8.837 0-16-2.239-16-5v6c0 2.761 7.163 5 16 5s16-2.239 16-5v-6c0 2.761-7.163 5-16 5z\"></path>\n",
       "</symbol>\n",
       "<symbol id=\"icon-file-text2\" viewBox=\"0 0 32 32\">\n",
       "<path d=\"M28.681 7.159c-0.694-0.947-1.662-2.053-2.724-3.116s-2.169-2.030-3.116-2.724c-1.612-1.182-2.393-1.319-2.841-1.319h-15.5c-1.378 0-2.5 1.121-2.5 2.5v27c0 1.378 1.122 2.5 2.5 2.5h23c1.378 0 2.5-1.122 2.5-2.5v-19.5c0-0.448-0.137-1.23-1.319-2.841zM24.543 5.457c0.959 0.959 1.712 1.825 2.268 2.543h-4.811v-4.811c0.718 0.556 1.584 1.309 2.543 2.268zM28 29.5c0 0.271-0.229 0.5-0.5 0.5h-23c-0.271 0-0.5-0.229-0.5-0.5v-27c0-0.271 0.229-0.5 0.5-0.5 0 0 15.499-0 15.5 0v7c0 0.552 0.448 1 1 1h7v19.5z\"></path>\n",
       "<path d=\"M23 26h-14c-0.552 0-1-0.448-1-1s0.448-1 1-1h14c0.552 0 1 0.448 1 1s-0.448 1-1 1z\"></path>\n",
       "<path d=\"M23 22h-14c-0.552 0-1-0.448-1-1s0.448-1 1-1h14c0.552 0 1 0.448 1 1s-0.448 1-1 1z\"></path>\n",
       "<path d=\"M23 18h-14c-0.552 0-1-0.448-1-1s0.448-1 1-1h14c0.552 0 1 0.448 1 1s-0.448 1-1 1z\"></path>\n",
       "</symbol>\n",
       "</defs>\n",
       "</svg>\n",
       "<style>/* CSS stylesheet for displaying xarray objects in jupyterlab.\n",
       " *\n",
       " */\n",
       "\n",
       ":root {\n",
       "  --xr-font-color0: var(--jp-content-font-color0, rgba(0, 0, 0, 1));\n",
       "  --xr-font-color2: var(--jp-content-font-color2, rgba(0, 0, 0, 0.54));\n",
       "  --xr-font-color3: var(--jp-content-font-color3, rgba(0, 0, 0, 0.38));\n",
       "  --xr-border-color: var(--jp-border-color2, #e0e0e0);\n",
       "  --xr-disabled-color: var(--jp-layout-color3, #bdbdbd);\n",
       "  --xr-background-color: var(--jp-layout-color0, white);\n",
       "  --xr-background-color-row-even: var(--jp-layout-color1, white);\n",
       "  --xr-background-color-row-odd: var(--jp-layout-color2, #eeeeee);\n",
       "}\n",
       "\n",
       "html[theme=dark],\n",
       "body.vscode-dark {\n",
       "  --xr-font-color0: rgba(255, 255, 255, 1);\n",
       "  --xr-font-color2: rgba(255, 255, 255, 0.54);\n",
       "  --xr-font-color3: rgba(255, 255, 255, 0.38);\n",
       "  --xr-border-color: #1F1F1F;\n",
       "  --xr-disabled-color: #515151;\n",
       "  --xr-background-color: #111111;\n",
       "  --xr-background-color-row-even: #111111;\n",
       "  --xr-background-color-row-odd: #313131;\n",
       "}\n",
       "\n",
       ".xr-wrap {\n",
       "  display: block;\n",
       "  min-width: 300px;\n",
       "  max-width: 700px;\n",
       "}\n",
       "\n",
       ".xr-text-repr-fallback {\n",
       "  /* fallback to plain text repr when CSS is not injected (untrusted notebook) */\n",
       "  display: none;\n",
       "}\n",
       "\n",
       ".xr-header {\n",
       "  padding-top: 6px;\n",
       "  padding-bottom: 6px;\n",
       "  margin-bottom: 4px;\n",
       "  border-bottom: solid 1px var(--xr-border-color);\n",
       "}\n",
       "\n",
       ".xr-header > div,\n",
       ".xr-header > ul {\n",
       "  display: inline;\n",
       "  margin-top: 0;\n",
       "  margin-bottom: 0;\n",
       "}\n",
       "\n",
       ".xr-obj-type,\n",
       ".xr-array-name {\n",
       "  margin-left: 2px;\n",
       "  margin-right: 10px;\n",
       "}\n",
       "\n",
       ".xr-obj-type {\n",
       "  color: var(--xr-font-color2);\n",
       "}\n",
       "\n",
       ".xr-sections {\n",
       "  padding-left: 0 !important;\n",
       "  display: grid;\n",
       "  grid-template-columns: 150px auto auto 1fr 20px 20px;\n",
       "}\n",
       "\n",
       ".xr-section-item {\n",
       "  display: contents;\n",
       "}\n",
       "\n",
       ".xr-section-item input {\n",
       "  display: none;\n",
       "}\n",
       "\n",
       ".xr-section-item input + label {\n",
       "  color: var(--xr-disabled-color);\n",
       "}\n",
       "\n",
       ".xr-section-item input:enabled + label {\n",
       "  cursor: pointer;\n",
       "  color: var(--xr-font-color2);\n",
       "}\n",
       "\n",
       ".xr-section-item input:enabled + label:hover {\n",
       "  color: var(--xr-font-color0);\n",
       "}\n",
       "\n",
       ".xr-section-summary {\n",
       "  grid-column: 1;\n",
       "  color: var(--xr-font-color2);\n",
       "  font-weight: 500;\n",
       "}\n",
       "\n",
       ".xr-section-summary > span {\n",
       "  display: inline-block;\n",
       "  padding-left: 0.5em;\n",
       "}\n",
       "\n",
       ".xr-section-summary-in:disabled + label {\n",
       "  color: var(--xr-font-color2);\n",
       "}\n",
       "\n",
       ".xr-section-summary-in + label:before {\n",
       "  display: inline-block;\n",
       "  content: '►';\n",
       "  font-size: 11px;\n",
       "  width: 15px;\n",
       "  text-align: center;\n",
       "}\n",
       "\n",
       ".xr-section-summary-in:disabled + label:before {\n",
       "  color: var(--xr-disabled-color);\n",
       "}\n",
       "\n",
       ".xr-section-summary-in:checked + label:before {\n",
       "  content: '▼';\n",
       "}\n",
       "\n",
       ".xr-section-summary-in:checked + label > span {\n",
       "  display: none;\n",
       "}\n",
       "\n",
       ".xr-section-summary,\n",
       ".xr-section-inline-details {\n",
       "  padding-top: 4px;\n",
       "  padding-bottom: 4px;\n",
       "}\n",
       "\n",
       ".xr-section-inline-details {\n",
       "  grid-column: 2 / -1;\n",
       "}\n",
       "\n",
       ".xr-section-details {\n",
       "  display: none;\n",
       "  grid-column: 1 / -1;\n",
       "  margin-bottom: 5px;\n",
       "}\n",
       "\n",
       ".xr-section-summary-in:checked ~ .xr-section-details {\n",
       "  display: contents;\n",
       "}\n",
       "\n",
       ".xr-array-wrap {\n",
       "  grid-column: 1 / -1;\n",
       "  display: grid;\n",
       "  grid-template-columns: 20px auto;\n",
       "}\n",
       "\n",
       ".xr-array-wrap > label {\n",
       "  grid-column: 1;\n",
       "  vertical-align: top;\n",
       "}\n",
       "\n",
       ".xr-preview {\n",
       "  color: var(--xr-font-color3);\n",
       "}\n",
       "\n",
       ".xr-array-preview,\n",
       ".xr-array-data {\n",
       "  padding: 0 5px !important;\n",
       "  grid-column: 2;\n",
       "}\n",
       "\n",
       ".xr-array-data,\n",
       ".xr-array-in:checked ~ .xr-array-preview {\n",
       "  display: none;\n",
       "}\n",
       "\n",
       ".xr-array-in:checked ~ .xr-array-data,\n",
       ".xr-array-preview {\n",
       "  display: inline-block;\n",
       "}\n",
       "\n",
       ".xr-dim-list {\n",
       "  display: inline-block !important;\n",
       "  list-style: none;\n",
       "  padding: 0 !important;\n",
       "  margin: 0;\n",
       "}\n",
       "\n",
       ".xr-dim-list li {\n",
       "  display: inline-block;\n",
       "  padding: 0;\n",
       "  margin: 0;\n",
       "}\n",
       "\n",
       ".xr-dim-list:before {\n",
       "  content: '(';\n",
       "}\n",
       "\n",
       ".xr-dim-list:after {\n",
       "  content: ')';\n",
       "}\n",
       "\n",
       ".xr-dim-list li:not(:last-child):after {\n",
       "  content: ',';\n",
       "  padding-right: 5px;\n",
       "}\n",
       "\n",
       ".xr-has-index {\n",
       "  font-weight: bold;\n",
       "}\n",
       "\n",
       ".xr-var-list,\n",
       ".xr-var-item {\n",
       "  display: contents;\n",
       "}\n",
       "\n",
       ".xr-var-item > div,\n",
       ".xr-var-item label,\n",
       ".xr-var-item > .xr-var-name span {\n",
       "  background-color: var(--xr-background-color-row-even);\n",
       "  margin-bottom: 0;\n",
       "}\n",
       "\n",
       ".xr-var-item > .xr-var-name:hover span {\n",
       "  padding-right: 5px;\n",
       "}\n",
       "\n",
       ".xr-var-list > li:nth-child(odd) > div,\n",
       ".xr-var-list > li:nth-child(odd) > label,\n",
       ".xr-var-list > li:nth-child(odd) > .xr-var-name span {\n",
       "  background-color: var(--xr-background-color-row-odd);\n",
       "}\n",
       "\n",
       ".xr-var-name {\n",
       "  grid-column: 1;\n",
       "}\n",
       "\n",
       ".xr-var-dims {\n",
       "  grid-column: 2;\n",
       "}\n",
       "\n",
       ".xr-var-dtype {\n",
       "  grid-column: 3;\n",
       "  text-align: right;\n",
       "  color: var(--xr-font-color2);\n",
       "}\n",
       "\n",
       ".xr-var-preview {\n",
       "  grid-column: 4;\n",
       "}\n",
       "\n",
       ".xr-var-name,\n",
       ".xr-var-dims,\n",
       ".xr-var-dtype,\n",
       ".xr-preview,\n",
       ".xr-attrs dt {\n",
       "  white-space: nowrap;\n",
       "  overflow: hidden;\n",
       "  text-overflow: ellipsis;\n",
       "  padding-right: 10px;\n",
       "}\n",
       "\n",
       ".xr-var-name:hover,\n",
       ".xr-var-dims:hover,\n",
       ".xr-var-dtype:hover,\n",
       ".xr-attrs dt:hover {\n",
       "  overflow: visible;\n",
       "  width: auto;\n",
       "  z-index: 1;\n",
       "}\n",
       "\n",
       ".xr-var-attrs,\n",
       ".xr-var-data {\n",
       "  display: none;\n",
       "  background-color: var(--xr-background-color) !important;\n",
       "  padding-bottom: 5px !important;\n",
       "}\n",
       "\n",
       ".xr-var-attrs-in:checked ~ .xr-var-attrs,\n",
       ".xr-var-data-in:checked ~ .xr-var-data {\n",
       "  display: block;\n",
       "}\n",
       "\n",
       ".xr-var-data > table {\n",
       "  float: right;\n",
       "}\n",
       "\n",
       ".xr-var-name span,\n",
       ".xr-var-data,\n",
       ".xr-attrs {\n",
       "  padding-left: 25px !important;\n",
       "}\n",
       "\n",
       ".xr-attrs,\n",
       ".xr-var-attrs,\n",
       ".xr-var-data {\n",
       "  grid-column: 1 / -1;\n",
       "}\n",
       "\n",
       "dl.xr-attrs {\n",
       "  padding: 0;\n",
       "  margin: 0;\n",
       "  display: grid;\n",
       "  grid-template-columns: 125px auto;\n",
       "}\n",
       "\n",
       ".xr-attrs dt,\n",
       ".xr-attrs dd {\n",
       "  padding: 0;\n",
       "  margin: 0;\n",
       "  float: left;\n",
       "  padding-right: 10px;\n",
       "  width: auto;\n",
       "}\n",
       "\n",
       ".xr-attrs dt {\n",
       "  font-weight: normal;\n",
       "  grid-column: 1;\n",
       "}\n",
       "\n",
       ".xr-attrs dt:hover span {\n",
       "  display: inline-block;\n",
       "  background: var(--xr-background-color);\n",
       "  padding-right: 10px;\n",
       "}\n",
       "\n",
       ".xr-attrs dd {\n",
       "  grid-column: 2;\n",
       "  white-space: pre-wrap;\n",
       "  word-break: break-all;\n",
       "}\n",
       "\n",
       ".xr-icon-database,\n",
       ".xr-icon-file-text2 {\n",
       "  display: inline-block;\n",
       "  vertical-align: middle;\n",
       "  width: 1em;\n",
       "  height: 1.5em !important;\n",
       "  stroke-width: 0;\n",
       "  stroke: currentColor;\n",
       "  fill: currentColor;\n",
       "}\n",
       "</style><pre class='xr-text-repr-fallback'>&lt;xarray.Dataset&gt;\n",
       "Dimensions:  (lat: 92, lon: 92, nlev: 11, time: 1)\n",
       "Coordinates:\n",
       "  * time     (time) datetime64[ns] 2022-06-08T12:00:00\n",
       "  * lat      (lat) float64 55.0 54.75 54.49 54.24 ... 32.76 32.51 32.25 32.0\n",
       "  * lon      (lon) float64 -38.0 -37.87 -37.74 -37.6 ... -26.26 -26.13 -26.0\n",
       "Dimensions without coordinates: nlev\n",
       "Data variables:\n",
       "    t_lev    (time, nlev) float64 100.0 150.0 200.0 250.0 ... 850.0 925.0 1e+03\n",
       "    t        (time, nlev, lon) float64 -48.8 -49.07 -49.39 ... 19.0 19.06 19.05\n",
       "Attributes:\n",
       "    _FillValue:          1e+22\n",
       "    _View:               MXSECTIONVIEW\n",
       "    type:                MXSECTION\n",
       "    xsHorizontalMethod:  interpolate\n",
       "    title:               Cross section of Temperature 20220608 1200 step 0 Ex...</pre><div class='xr-wrap' hidden><div class='xr-header'><div class='xr-obj-type'>xarray.Dataset</div></div><ul class='xr-sections'><li class='xr-section-item'><input id='section-ce6dc037-aab3-44fd-a24e-f3907edc3fb5' class='xr-section-summary-in' type='checkbox' disabled ><label for='section-ce6dc037-aab3-44fd-a24e-f3907edc3fb5' class='xr-section-summary'  title='Expand/collapse section'>Dimensions:</label><div class='xr-section-inline-details'><ul class='xr-dim-list'><li><span class='xr-has-index'>lat</span>: 92</li><li><span class='xr-has-index'>lon</span>: 92</li><li><span>nlev</span>: 11</li><li><span class='xr-has-index'>time</span>: 1</li></ul></div><div class='xr-section-details'></div></li><li class='xr-section-item'><input id='section-43195d50-32f1-4c58-84c7-066f8f300f2b' class='xr-section-summary-in' type='checkbox'  checked><label for='section-43195d50-32f1-4c58-84c7-066f8f300f2b' class='xr-section-summary' >Coordinates: <span>(3)</span></label><div class='xr-section-inline-details'></div><div class='xr-section-details'><ul class='xr-var-list'><li class='xr-var-item'><div class='xr-var-name'><span class='xr-has-index'>time</span></div><div class='xr-var-dims'>(time)</div><div class='xr-var-dtype'>datetime64[ns]</div><div class='xr-var-preview xr-preview'>2022-06-08T12:00:00</div><input id='attrs-1834e5ca-2a5a-4bfb-b838-75a845d6a59a' class='xr-var-attrs-in' type='checkbox' ><label for='attrs-1834e5ca-2a5a-4bfb-b838-75a845d6a59a' title='Show/Hide attributes'><svg class='icon xr-icon-file-text2'><use xlink:href='#icon-file-text2'></use></svg></label><input id='data-fe365433-a9a3-440b-9deb-d3abd264e935' class='xr-var-data-in' type='checkbox'><label for='data-fe365433-a9a3-440b-9deb-d3abd264e935' title='Show/Hide data repr'><svg class='icon xr-icon-database'><use xlink:href='#icon-database'></use></svg></label><div class='xr-var-attrs'><dl class='xr-attrs'><dt><span>long_name :</span></dt><dd>time</dd><dt><span>reference_date :</span></dt><dd>2022-06-08 12:00:00</dd></dl></div><div class='xr-var-data'><pre>array([&#x27;2022-06-08T12:00:00.000000000&#x27;], dtype=&#x27;datetime64[ns]&#x27;)</pre></div></li><li class='xr-var-item'><div class='xr-var-name'><span class='xr-has-index'>lat</span></div><div class='xr-var-dims'>(lat)</div><div class='xr-var-dtype'>float64</div><div class='xr-var-preview xr-preview'>55.0 54.75 54.49 ... 32.25 32.0</div><input id='attrs-8b2c3db8-1d22-4ec0-99c2-731d83eb45a5' class='xr-var-attrs-in' type='checkbox' ><label for='attrs-8b2c3db8-1d22-4ec0-99c2-731d83eb45a5' title='Show/Hide attributes'><svg class='icon xr-icon-file-text2'><use xlink:href='#icon-file-text2'></use></svg></label><input id='data-afc104ee-0739-4efe-b1e9-20f42aa7394c' class='xr-var-data-in' type='checkbox'><label for='data-afc104ee-0739-4efe-b1e9-20f42aa7394c' title='Show/Hide data repr'><svg class='icon xr-icon-database'><use xlink:href='#icon-database'></use></svg></label><div class='xr-var-attrs'><dl class='xr-attrs'><dt><span>long_name :</span></dt><dd>latitude</dd><dt><span>units :</span></dt><dd>degrees_north</dd></dl></div><div class='xr-var-data'><pre>array([55.      , 54.747253, 54.494505, 54.241758, 53.989011, 53.736264,\n",
       "       53.483516, 53.230769, 52.978022, 52.725275, 52.472527, 52.21978 ,\n",
       "       51.967033, 51.714286, 51.461538, 51.208791, 50.956044, 50.703297,\n",
       "       50.450549, 50.197802, 49.945055, 49.692308, 49.43956 , 49.186813,\n",
       "       48.934066, 48.681319, 48.428571, 48.175824, 47.923077, 47.67033 ,\n",
       "       47.417582, 47.164835, 46.912088, 46.659341, 46.406593, 46.153846,\n",
       "       45.901099, 45.648352, 45.395604, 45.142857, 44.89011 , 44.637363,\n",
       "       44.384615, 44.131868, 43.879121, 43.626374, 43.373626, 43.120879,\n",
       "       42.868132, 42.615385, 42.362637, 42.10989 , 41.857143, 41.604396,\n",
       "       41.351648, 41.098901, 40.846154, 40.593407, 40.340659, 40.087912,\n",
       "       39.835165, 39.582418, 39.32967 , 39.076923, 38.824176, 38.571429,\n",
       "       38.318681, 38.065934, 37.813187, 37.56044 , 37.307692, 37.054945,\n",
       "       36.802198, 36.549451, 36.296703, 36.043956, 35.791209, 35.538462,\n",
       "       35.285714, 35.032967, 34.78022 , 34.527473, 34.274725, 34.021978,\n",
       "       33.769231, 33.516484, 33.263736, 33.010989, 32.758242, 32.505495,\n",
       "       32.252747, 32.      ])</pre></div></li><li class='xr-var-item'><div class='xr-var-name'><span class='xr-has-index'>lon</span></div><div class='xr-var-dims'>(lon)</div><div class='xr-var-dtype'>float64</div><div class='xr-var-preview xr-preview'>-38.0 -37.87 ... -26.13 -26.0</div><input id='attrs-1da290cc-1723-4417-9066-d892f70f39fe' class='xr-var-attrs-in' type='checkbox' ><label for='attrs-1da290cc-1723-4417-9066-d892f70f39fe' title='Show/Hide attributes'><svg class='icon xr-icon-file-text2'><use xlink:href='#icon-file-text2'></use></svg></label><input id='data-9d4d8709-b118-4af9-bffd-10eeef593e65' class='xr-var-data-in' type='checkbox'><label for='data-9d4d8709-b118-4af9-bffd-10eeef593e65' title='Show/Hide data repr'><svg class='icon xr-icon-database'><use xlink:href='#icon-database'></use></svg></label><div class='xr-var-attrs'><dl class='xr-attrs'><dt><span>long_name :</span></dt><dd>longitude</dd><dt><span>units :</span></dt><dd>degrees_east</dd></dl></div><div class='xr-var-data'><pre>array([-38.      , -37.868132, -37.736264, -37.604396, -37.472527, -37.340659,\n",
       "       -37.208791, -37.076923, -36.945055, -36.813187, -36.681319, -36.549451,\n",
       "       -36.417582, -36.285714, -36.153846, -36.021978, -35.89011 , -35.758242,\n",
       "       -35.626374, -35.494505, -35.362637, -35.230769, -35.098901, -34.967033,\n",
       "       -34.835165, -34.703297, -34.571429, -34.43956 , -34.307692, -34.175824,\n",
       "       -34.043956, -33.912088, -33.78022 , -33.648352, -33.516484, -33.384615,\n",
       "       -33.252747, -33.120879, -32.989011, -32.857143, -32.725275, -32.593407,\n",
       "       -32.461538, -32.32967 , -32.197802, -32.065934, -31.934066, -31.802198,\n",
       "       -31.67033 , -31.538462, -31.406593, -31.274725, -31.142857, -31.010989,\n",
       "       -30.879121, -30.747253, -30.615385, -30.483516, -30.351648, -30.21978 ,\n",
       "       -30.087912, -29.956044, -29.824176, -29.692308, -29.56044 , -29.428571,\n",
       "       -29.296703, -29.164835, -29.032967, -28.901099, -28.769231, -28.637363,\n",
       "       -28.505495, -28.373626, -28.241758, -28.10989 , -27.978022, -27.846154,\n",
       "       -27.714286, -27.582418, -27.450549, -27.318681, -27.186813, -27.054945,\n",
       "       -26.923077, -26.791209, -26.659341, -26.527473, -26.395604, -26.263736,\n",
       "       -26.131868, -26.      ])</pre></div></li></ul></div></li><li class='xr-section-item'><input id='section-e5f5705e-97de-438c-a473-01a24fc69874' class='xr-section-summary-in' type='checkbox'  checked><label for='section-e5f5705e-97de-438c-a473-01a24fc69874' class='xr-section-summary' >Data variables: <span>(2)</span></label><div class='xr-section-inline-details'></div><div class='xr-section-details'><ul class='xr-var-list'><li class='xr-var-item'><div class='xr-var-name'><span>t_lev</span></div><div class='xr-var-dims'>(time, nlev)</div><div class='xr-var-dtype'>float64</div><div class='xr-var-preview xr-preview'>...</div><input id='attrs-13c024cf-21f2-43bb-b5d0-e763c1c2d5d6' class='xr-var-attrs-in' type='checkbox' ><label for='attrs-13c024cf-21f2-43bb-b5d0-e763c1c2d5d6' title='Show/Hide attributes'><svg class='icon xr-icon-file-text2'><use xlink:href='#icon-file-text2'></use></svg></label><input id='data-1435cec2-6b34-4e5d-9542-0003f8eb9961' class='xr-var-data-in' type='checkbox'><label for='data-1435cec2-6b34-4e5d-9542-0003f8eb9961' title='Show/Hide data repr'><svg class='icon xr-icon-database'><use xlink:href='#icon-database'></use></svg></label><div class='xr-var-attrs'><dl class='xr-attrs'><dt><span>long_name :</span></dt><dd>Atmospheric Levels</dd><dt><span>units :</span></dt><dd>hPa</dd><dt><span>positive :</span></dt><dd>down</dd></dl></div><div class='xr-var-data'><pre>array([[ 100.,  150.,  200.,  250.,  300.,  400.,  500.,  700.,  850.,  925.,\n",
       "        1000.]])</pre></div></li><li class='xr-var-item'><div class='xr-var-name'><span>t</span></div><div class='xr-var-dims'>(time, nlev, lon)</div><div class='xr-var-dtype'>float64</div><div class='xr-var-preview xr-preview'>...</div><input id='attrs-fb9d9d3e-70fb-4187-ba89-892f2b2d02d1' class='xr-var-attrs-in' type='checkbox' ><label for='attrs-fb9d9d3e-70fb-4187-ba89-892f2b2d02d1' title='Show/Hide attributes'><svg class='icon xr-icon-file-text2'><use xlink:href='#icon-file-text2'></use></svg></label><input id='data-1bc39744-e52f-4cd3-a66b-d672ad66ef62' class='xr-var-data-in' type='checkbox'><label for='data-1bc39744-e52f-4cd3-a66b-d672ad66ef62' title='Show/Hide data repr'><svg class='icon xr-icon-database'><use xlink:href='#icon-database'></use></svg></label><div class='xr-var-attrs'><dl class='xr-attrs'><dt><span>long_name :</span></dt><dd>Temperature</dd><dt><span>units :</span></dt><dd>K</dd><dt><span>title :</span></dt><dd>Cross section of Temperature 20220608 1200 step 0 Expver 0001</dd></dl></div><div class='xr-var-data'><pre>array([[[-48.801416, -49.071241, ..., -62.948269, -62.882338],\n",
       "        [-45.560341, -45.509285, ..., -65.707623, -65.027771],\n",
       "        ...,\n",
       "        [  5.493293,   5.058531, ...,  14.695193,  14.385628],\n",
       "        [  8.10906 ,   8.282209, ...,  19.06088 ,  19.049074]]])</pre></div></li></ul></div></li><li class='xr-section-item'><input id='section-e1a33b72-4352-4a91-84af-8d8e4b6bba1e' class='xr-section-summary-in' type='checkbox'  checked><label for='section-e1a33b72-4352-4a91-84af-8d8e4b6bba1e' class='xr-section-summary' >Attributes: <span>(5)</span></label><div class='xr-section-inline-details'></div><div class='xr-section-details'><dl class='xr-attrs'><dt><span>_FillValue :</span></dt><dd>1e+22</dd><dt><span>_View :</span></dt><dd>MXSECTIONVIEW</dd><dt><span>type :</span></dt><dd>MXSECTION</dd><dt><span>xsHorizontalMethod :</span></dt><dd>interpolate</dd><dt><span>title :</span></dt><dd>Cross section of Temperature 20220608 1200 step 0 Expver 0001</dd></dl></div></li></ul></div></div>"
      ],
      "text/plain": [
       "<xarray.Dataset>\n",
       "Dimensions:  (lat: 92, lon: 92, nlev: 11, time: 1)\n",
       "Coordinates:\n",
       "  * time     (time) datetime64[ns] 2022-06-08T12:00:00\n",
       "  * lat      (lat) float64 55.0 54.75 54.49 54.24 ... 32.76 32.51 32.25 32.0\n",
       "  * lon      (lon) float64 -38.0 -37.87 -37.74 -37.6 ... -26.26 -26.13 -26.0\n",
       "Dimensions without coordinates: nlev\n",
       "Data variables:\n",
       "    t_lev    (time, nlev) float64 ...\n",
       "    t        (time, nlev, lon) float64 ...\n",
       "Attributes:\n",
       "    _FillValue:          1e+22\n",
       "    _View:               MXSECTIONVIEW\n",
       "    type:                MXSECTION\n",
       "    xsHorizontalMethod:  interpolate\n",
       "    title:               Cross section of Temperature 20220608 1200 step 0 Ex..."
      ]
     },
     "execution_count": 285,
     "metadata": {},
     "output_type": "execute_result"
    }
   ],
   "source": [
    "# compute cross section data for temperature\n",
    "xs_t = mv.mcross_sect( \n",
    "    data=t, \n",
    "    bottom_level=1000,\n",
    "    top_level=100,\n",
    "    line=line,\n",
    "    horizontal_point_mode=\"interpolate\")\n",
    "\n",
    "# write netCDF  data to disk\n",
    "mv.write(\"xs_t.nc\", xs_t)\n",
    "\n",
    "# dump the data contents\n",
    "ds_t= xr.open_dataset(\"xs_t.nc\")\n",
    "ds_t\n"
   ]
  },
  {
   "cell_type": "markdown",
   "id": "f6a396e9",
   "metadata": {},
   "source": [
    "### Plotting the cross section data and using it for single level slicing"
   ]
  },
  {
   "cell_type": "code",
   "execution_count": 286,
   "id": "80fa4154",
   "metadata": {},
   "outputs": [
    {
     "data": {
      "application/vnd.jupyter.widget-view+json": {
       "model_id": "f83955cbe7514778a2b61ca034cd9aa1",
       "version_major": 2,
       "version_minor": 0
      },
      "text/plain": [
       "Image(value=b'', layout=\"Layout(visibility='hidden')\")"
      ]
     },
     "metadata": {},
     "output_type": "display_data"
    },
    {
     "data": {
      "application/vnd.jupyter.widget-view+json": {
       "model_id": "e8a24773d03c4b759441dcd757e34c88",
       "version_major": 2,
       "version_minor": 0
      },
      "text/plain": [
       "Label(value='Generating plots....')"
      ]
     },
     "metadata": {},
     "output_type": "display_data"
    }
   ],
   "source": [
    "# read tropopause pressure (it is a single level field)\n",
    "trpp = data.select(shortName=\"trpp\", step=0)\n",
    "\n",
    "# using the temperature cross section object we can extract a slice from trpp along the\n",
    "# transect line and build a curve object out of it. The pressure has to be scaled\n",
    "# from Pa to hPa.\n",
    "trpp_curve = mv.xs_build_curve(xs_t, trpp/100, \"red\", \"solid\", 3)\n",
    "\n",
    "# directly plot the temperature cross section data and the trpp curve\n",
    "mv.plot(xs_t, cont_xs_t,  trpp_curve)"
   ]
  },
  {
   "cell_type": "markdown",
   "id": "5c8e9e95",
   "metadata": {},
   "source": [
    "## Average vertical cross sections\n",
    "\n",
    "This is a variant of the vertical cross section where either a **zonal** or **meridional** average is computed for all the levels in a given timestep. Similarly to the cross section the input data can be directly plotted into a view ([maverageview()](../gen_files/icon_functions/maverageview.rst)) or passed on to [mxs_average()](../gen_files/icon_functions/mxs_average.rst) to generate average cross section NetCDF data."
   ]
  },
  {
   "cell_type": "code",
   "execution_count": 278,
   "id": "f7b38df7",
   "metadata": {},
   "outputs": [
    {
     "data": {
      "application/vnd.jupyter.widget-view+json": {
       "model_id": "e30e815cdbb8430fbabdef35a965183e",
       "version_major": 2,
       "version_minor": 0
      },
      "text/plain": [
       "Image(value=b'', layout=\"Layout(visibility='hidden')\")"
      ]
     },
     "metadata": {},
     "output_type": "display_data"
    },
    {
     "data": {
      "application/vnd.jupyter.widget-view+json": {
       "model_id": "e7c27f27698e4cc7a4ff88c7698ca1d7",
       "version_major": 2,
       "version_minor": 0
      },
      "text/plain": [
       "Label(value='Generating plots....')"
      ]
     },
     "metadata": {},
     "output_type": "display_data"
    }
   ],
   "source": [
    "# set up the average view for a global zonal mean\n",
    "av_view = mv.maverageview(\n",
    "    top_level=100,\n",
    "    bottom_level=1000,\n",
    "    vertical_scaling=\"log\",\n",
    "    area=[90,-180, -90, 180], # N, W, S, E\n",
    "    direction=\"ew\"\n",
    ")\n",
    "\n",
    "# extract temperature for the first timestep for all the levels. We scale\n",
    "# temperature values to Celsius units for plotting\n",
    "t = data.select(shortName=\"t\", step=0)\n",
    "t = t - 273.16\n",
    "\n",
    "# define the contouring styles for the zonal mean cross section\n",
    "cont_zonal_t = mv.mcont(\n",
    "    contour_automatic_setting = \"style_name\",\n",
    "    contour_style_name        = \"sh_all_fM80t56i4_v2\",\n",
    "    legend                    = \"on\"\n",
    "    )\n",
    "    \n",
    "# generate the average cross section plot. The computations are automatically \n",
    "# performed according to the settings in the view.\n",
    "mv.plot(av_view, t, cont_zonal_t)"
   ]
  },
  {
   "cell_type": "markdown",
   "id": "a3b8e11e",
   "metadata": {},
   "source": [
    "## Hovmoeller diagrams\n",
    "\n",
    "**Hovmoeller** diagrams are special sections for (mostly single level) fields where one axis is always the time while the other one can be derived in various ways. Metview supports 3 flavours of it: \n",
    "- area Hovmoellers\n",
    "- vertical Hovmoellers \n",
    "- line Hovmoellers\n",
    "\n",
    "### Area Hovmoeller diagrams\n",
    "\n",
    "In this diagram type for each date and time either **zonal or meridional averaging** is performed on the data. The example below shows a Hovmoeller diagram with longitude on the horizontal axis and time on the vertical axis. Each point in the plot is a meridional average performed for temerature on 500 hPa at the given time in North-South (meridional) direction."
   ]
  },
  {
   "cell_type": "code",
   "execution_count": 279,
   "id": "e8e15aa9",
   "metadata": {},
   "outputs": [
    {
     "data": {
      "application/vnd.jupyter.widget-view+json": {
       "model_id": "dafb173155ff433bacf768c246148f31",
       "version_major": 2,
       "version_minor": 0
      },
      "text/plain": [
       "Image(value=b'', layout=\"Layout(visibility='hidden')\")"
      ]
     },
     "metadata": {},
     "output_type": "display_data"
    },
    {
     "data": {
      "application/vnd.jupyter.widget-view+json": {
       "model_id": "59d386e7f84f4cd193b6b1029c7c3441",
       "version_major": 2,
       "version_minor": 0
      },
      "text/plain": [
       "Label(value='Generating plots....')"
      ]
     },
     "metadata": {},
     "output_type": "display_data"
    }
   ],
   "source": [
    "\n",
    "# define the Hovmoeller view for an area in the North-Atlantic and\n",
    "# choose meridional averaging\n",
    "view = mv.mhovmoellerview(\n",
    "    type=\"area_hovm\",\n",
    "    area=[70, -70, 40, 0],\n",
    "    average_direction=\"north_south\",\n",
    ")\n",
    "\n",
    "# extract temperature on 500 hPa for all the timestep and \n",
    "# convert it into Celsius units for plotting\n",
    "t = data.select(shortName=\"t\", level=500)\n",
    "t = t - 273.16\n",
    "\n",
    "# define contour shading\n",
    "cont_hov_t = mv.mcont(\n",
    "    legend                       = \"on\",\n",
    "    contour                      = \"off\",\n",
    "    contour_level_selection_type = \"interval\",\n",
    "    contour_max_level            = -12,\n",
    "    contour_min_level            = -23,\n",
    "    contour_interval             = 1,\n",
    "    contour_label                = \"off\",\n",
    "    contour_shade                = \"on\",\n",
    "    contour_shade_colour_method  = \"palette\",\n",
    "    contour_shade_method         = \"area_fill\",\n",
    "    contour_shade_palette_name   = \"m_purple2_11\"\n",
    "    )\n",
    "\n",
    "# generate the area Hovmoeller plot. The computations are automatically \n",
    "# performed according to the settings in the view.\n",
    "mv.plot(view, t, cont_hov_t)\n"
   ]
  },
  {
   "cell_type": "markdown",
   "id": "86734f9f",
   "metadata": {},
   "source": [
    "### Vertical Hovmoeller diagrams\n",
    "\n",
    "In this diagram type the horizontal axis is time and the vertical axis is a vertical co-ordinate. The data is extracted for a given location or generated by spatial averaging over an area. The example below shows the temperature forecast evolution for a selected point having pressure as the vertical axis."
   ]
  },
  {
   "cell_type": "code",
   "execution_count": 280,
   "id": "696fb012",
   "metadata": {},
   "outputs": [
    {
     "data": {
      "application/vnd.jupyter.widget-view+json": {
       "model_id": "5eb0eb9572074817a800abc7261186ce",
       "version_major": 2,
       "version_minor": 0
      },
      "text/plain": [
       "Image(value=b'', layout=\"Layout(visibility='hidden')\")"
      ]
     },
     "metadata": {},
     "output_type": "display_data"
    },
    {
     "data": {
      "application/vnd.jupyter.widget-view+json": {
       "model_id": "ac3cca5c20ee4ae29dc2f016619f2078",
       "version_major": 2,
       "version_minor": 0
      },
      "text/plain": [
       "Label(value='Generating plots....')"
      ]
     },
     "metadata": {},
     "output_type": "display_data"
    }
   ],
   "source": [
    "# define a vertical Hovmoeller view for a location. The point data \n",
    "# is extracted with the nearest gridpoint method \n",
    "view = mv.mhovmoellerview(\n",
    "    type=\"vertical_hovm\",\n",
    "    bottom_level=1000,\n",
    "    top_level=200,\n",
    "    input_mode=\"nearest_gridpoint\",\n",
    "    point=[-50, -70],\n",
    "    subpage_y_position=5,\n",
    ")\n",
    "\n",
    "# extract the temperature on all the levels and timesteps. Values \n",
    "# scaled to Celsius units for plotting\n",
    "t = data.select(shortName=\"t\")\n",
    "t = t - 273.16\n",
    "\n",
    "# generate the vertical Hovmoeller plot. The computations are automatically \n",
    "# performed according to the settings in the view.\n",
    "mv.plot(view, t, cont_zonal_t)"
   ]
  },
  {
   "cell_type": "markdown",
   "id": "b2bccffd",
   "metadata": {},
   "source": [
    "\n",
    "### Line Hovmoeller diagrams\n",
    "\n",
    "In this diagram type the data is extracted along a transect line from a single level field for multiple dates and times. In the resulting plot one axis is time while the other goes along the transect line. The example below shows a line Hovmoeller diagram for the 2m temperature forecast evolution along a line across Lake Victoria."
   ]
  },
  {
   "cell_type": "code",
   "execution_count": 281,
   "id": "83ce2496",
   "metadata": {},
   "outputs": [
    {
     "data": {
      "application/vnd.jupyter.widget-view+json": {
       "model_id": "4d7b64afd4ed40dab85638e9d4452de4",
       "version_major": 2,
       "version_minor": 0
      },
      "text/plain": [
       "Image(value=b'', layout=\"Layout(visibility='hidden')\")"
      ]
     },
     "metadata": {},
     "output_type": "display_data"
    },
    {
     "data": {
      "application/vnd.jupyter.widget-view+json": {
       "model_id": "3516cc5b5d464be990ba8bf05b9d7aef",
       "version_major": 2,
       "version_minor": 0
      },
      "text/plain": [
       "Label(value='Generating plots....')"
      ]
     },
     "metadata": {},
     "output_type": "display_data"
    }
   ],
   "source": [
    "# define a line Hovmoeller view for a transect line across Lake Victoria\n",
    "hov_view = mv.mhovmoellerview(\n",
    "    type=\"line_hovm\",\n",
    "    line=[0.2, 31.6, -2, 34.5],  # N,W,S,E\n",
    "    resolution=0.25,\n",
    "    swap_axis=\"no\"\n",
    ")\n",
    "\n",
    "# extract the 2m temperature on all the levels and timesteps. Values \n",
    "# scaled to Celsius units for plotting\n",
    "t = data.select(shortName=\"2t\")\n",
    "t = t -273.16\n",
    "\n",
    "# define contour shading for t2m\n",
    "t_cont = mv.mcont(\n",
    "    legend=\"on\",\n",
    "    contour=\"off\",\n",
    "    contour_level_selection_type=\"interval\",\n",
    "    contour_max_level=30,\n",
    "    contour_min_level=14,\n",
    "    contour_interval=1,\n",
    "    contour_label=\"off\",\n",
    "    contour_shade=\"on\",\n",
    "    contour_shade_colour_method=\"palette\",\n",
    "    contour_shade_method=\"area_fill\",\n",
    "    contour_shade_palette_name=\"m_orange_purple_16\",\n",
    ")\n",
    "\n",
    "# generate the line Hovmoeller plot. The computations are automatically \n",
    "# performed according to the settings in the view.\n",
    "mv.plot(hov_view, t, t_cont)"
   ]
  },
  {
   "cell_type": "markdown",
   "id": "c13347d8",
   "metadata": {},
   "source": [
    "## Ensemble means?\n",
    "Using xarray for now, but will use Metview's own code in the future"
   ]
  },
  {
   "cell_type": "markdown",
   "id": "02e7a1a7",
   "metadata": {},
   "source": [
    "## Gridpoint selection"
   ]
  },
  {
   "cell_type": "code",
   "execution_count": 282,
   "id": "d284ea78",
   "metadata": {},
   "outputs": [],
   "source": [
    "# nearest_gridpoint, interpolate(), single points, arrays of points, geopoints"
   ]
  },
  {
   "cell_type": "markdown",
   "id": "d1e17784",
   "metadata": {},
   "source": [
    "## Time series"
   ]
  },
  {
   "cell_type": "code",
   "execution_count": 283,
   "id": "2c06e70c",
   "metadata": {},
   "outputs": [],
   "source": [
    "# uses nearest_gridpoint etc"
   ]
  },
  {
   "cell_type": "code",
   "execution_count": null,
   "id": "81e99743",
   "metadata": {},
   "outputs": [],
   "source": []
  }
 ],
 "metadata": {
  "kernelspec": {
   "display_name": "Python 3",
   "language": "python",
   "name": "python3"
  },
  "language_info": {
   "codemirror_mode": {
    "name": "ipython",
    "version": 3
   },
   "file_extension": ".py",
   "mimetype": "text/x-python",
   "name": "python",
   "nbconvert_exporter": "python",
   "pygments_lexer": "ipython3",
   "version": "3.8.6"
  }
 },
 "nbformat": 4,
 "nbformat_minor": 5
}
