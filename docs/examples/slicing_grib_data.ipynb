{
 "cells": [
  {
   "cell_type": "markdown",
   "id": "74c021c8",
   "metadata": {},
   "source": [
    "# Slicing and dicing GRIB data"
   ]
  },
  {
   "cell_type": "markdown",
   "id": "57f67698",
   "metadata": {},
   "source": [
    "## Terminology"
   ]
  },
  {
   "cell_type": "markdown",
   "id": "9087e85f",
   "metadata": {},
   "source": [
    "A GRIB file consists of a sequence of self-contained GRIB *messages*. A GRIB file is represented as a *Fieldset* object in Metview. Each message contains the data for a single *field*, e.g. a single parameter generated at a single time for a single forecast step. A field contains a set of *gridpoints* geographically distributed in some way, plus metadata such as the parameter, the generation time, the forecast step and the centre that generated the data. A field may be plotted on a map, and a Fieldset may be plotted as an animation on a map."
   ]
  },
  {
   "cell_type": "markdown",
   "id": "15d2c76f",
   "metadata": {},
   "source": [
    "## Setting up"
   ]
  },
  {
   "cell_type": "code",
   "execution_count": null,
   "id": "92b61b84",
   "metadata": {},
   "outputs": [],
   "source": [
    "import numpy as np\n",
    "import metview as mv"
   ]
  },
  {
   "cell_type": "code",
   "execution_count": null,
   "id": "e93a623c",
   "metadata": {},
   "outputs": [],
   "source": [
    "# not strictly necessary to tell Metview that we're running in a Jupyter notebook,\n",
    "# but we will call this function so that we can specify a larger font size\n",
    "mv.setoutput('jupyter', output_font_scale=1.5)"
   ]
  },
  {
   "cell_type": "markdown",
   "id": "207249af",
   "metadata": {},
   "source": [
    "## Reading and inspecting the data"
   ]
  },
  {
   "cell_type": "code",
   "execution_count": null,
   "id": "fdf8dd7f",
   "metadata": {},
   "outputs": [],
   "source": [
    "data = mv.read('grib_to_be_sliced.grib')\n",
    "print(data)"
   ]
  },
  {
   "cell_type": "code",
   "execution_count": null,
   "id": "ad4f3d4a",
   "metadata": {},
   "outputs": [],
   "source": [
    "data.describe()"
   ]
  },
  {
   "cell_type": "code",
   "execution_count": null,
   "id": "ef423bee",
   "metadata": {},
   "outputs": [],
   "source": [
    "data.describe('r')"
   ]
  },
  {
   "cell_type": "code",
   "execution_count": null,
   "id": "1b68e47d",
   "metadata": {},
   "outputs": [],
   "source": [
    "data.describe('z')"
   ]
  },
  {
   "cell_type": "code",
   "execution_count": null,
   "id": "c0758dc7",
   "metadata": {},
   "outputs": [],
   "source": [
    "data.describe('t')"
   ]
  },
  {
   "cell_type": "code",
   "execution_count": null,
   "id": "e388b502",
   "metadata": {},
   "outputs": [],
   "source": [
    "data.ls()"
   ]
  },
  {
   "cell_type": "markdown",
   "id": "0dd4e15f",
   "metadata": {},
   "source": [
    "# Field selection"
   ]
  },
  {
   "cell_type": "markdown",
   "id": "967dbb5c",
   "metadata": {},
   "source": [
    "## Field selection through indexing"
   ]
  },
  {
   "cell_type": "code",
   "execution_count": null,
   "id": "39cbe87f",
   "metadata": {},
   "outputs": [],
   "source": [
    "# select the first field (0-based indexing)\n",
    "print(data[0])\n",
    "data[0].ls()"
   ]
  },
  {
   "cell_type": "code",
   "execution_count": null,
   "id": "96c8eaf8",
   "metadata": {},
   "outputs": [],
   "source": [
    "# select the fourth field (0-based indexing)\n",
    "data[3].ls()"
   ]
  },
  {
   "cell_type": "code",
   "execution_count": null,
   "id": "7476bd1b",
   "metadata": {},
   "outputs": [],
   "source": [
    "# select the last field\n",
    "data[-1].ls()"
   ]
  },
  {
   "cell_type": "code",
   "execution_count": null,
   "id": "7622acea",
   "metadata": {},
   "outputs": [],
   "source": [
    "# index with numpy array\n",
    "indices = np.array([1, 2, 0, 15])\n",
    "data[indices].ls()"
   ]
  },
  {
   "cell_type": "markdown",
   "id": "538498db",
   "metadata": {},
   "source": [
    "## Field selection through slicing"
   ]
  },
  {
   "cell_type": "code",
   "execution_count": null,
   "id": "a1bb166e",
   "metadata": {},
   "outputs": [],
   "source": [
    "# select fields 4 to 7\n",
    "data[4:8].ls()"
   ]
  },
  {
   "cell_type": "code",
   "execution_count": null,
   "id": "7d8a7769",
   "metadata": {},
   "outputs": [],
   "source": [
    "# select fields 4 to 7, step 2\n",
    "data[4:8:2].ls()"
   ]
  },
  {
   "cell_type": "code",
   "execution_count": null,
   "id": "0a1e6bf1",
   "metadata": {},
   "outputs": [],
   "source": [
    "# select the last 5 fields\n",
    "data[-5:].ls()"
   ]
  },
  {
   "cell_type": "code",
   "execution_count": null,
   "id": "2b127034",
   "metadata": {},
   "outputs": [],
   "source": [
    "# reverse the fields' order\n",
    "data[::-1].ls()"
   ]
  },
  {
   "cell_type": "code",
   "execution_count": null,
   "id": "c3ac9878",
   "metadata": {},
   "outputs": [],
   "source": [
    "# assign this to a variable and write to disk\n",
    "rev = data[::-1]\n",
    "rev.write('reversed.grib')\n",
    "print(rev)"
   ]
  },
  {
   "cell_type": "markdown",
   "id": "2163f749",
   "metadata": {},
   "source": [
    "## Field selection through metadata"
   ]
  },
  {
   "cell_type": "code",
   "execution_count": null,
   "id": "e18ee0ad",
   "metadata": {},
   "outputs": [],
   "source": [
    "# select() method, various ways\n",
    "data.select(shortName='r').ls()"
   ]
  },
  {
   "cell_type": "code",
   "execution_count": null,
   "id": "21a72d94",
   "metadata": {},
   "outputs": [],
   "source": [
    "data.select(shortName='r', level=850).ls()"
   ]
  },
  {
   "cell_type": "code",
   "execution_count": null,
   "id": "375b2ee5",
   "metadata": {},
   "outputs": [],
   "source": [
    "# put the selection criteria into a dict, then modify it before using\n",
    "criteria = {\"shortName\": \"r\", \"level\": 850}\n",
    "criteria.update({\"level\": 500})\n",
    "data.select(criteria).ls()"
   ]
  },
  {
   "cell_type": "code",
   "execution_count": null,
   "id": "21a0d919",
   "metadata": {},
   "outputs": [],
   "source": [
    "# shorthand way of expressing parameters and levels\n",
    "data['r500'].ls()"
   ]
  },
  {
   "cell_type": "code",
   "execution_count": null,
   "id": "f04559be",
   "metadata": {},
   "outputs": [],
   "source": [
    "# specify units - useful if different level types in the same fieldset\n",
    "data['r300hPa'].ls()"
   ]
  },
  {
   "cell_type": "markdown",
   "id": "82572357",
   "metadata": {},
   "source": [
    "## Combining fields"
   ]
  },
  {
   "cell_type": "code",
   "execution_count": null,
   "id": "1abd3008",
   "metadata": {},
   "outputs": [],
   "source": [
    "# generate 4 fieldsets - one will be from another GRIB file to show that we can\n",
    "# combine fields from any number of different files\n",
    "\n",
    "a = data[5]\n",
    "b = data[78:80]\n",
    "c = data['z']\n",
    "d = mv.read('reversed.grib')[0]\n",
    "print(a, b, c, d)"
   ]
  },
  {
   "cell_type": "code",
   "execution_count": null,
   "id": "97c12536",
   "metadata": {},
   "outputs": [],
   "source": [
    "# create a new Fieldset out of existing ones\n",
    "combined = mv.merge(a, b, c, d)\n",
    "combined.ls()"
   ]
  },
  {
   "cell_type": "code",
   "execution_count": null,
   "id": "7c8005b7",
   "metadata": {},
   "outputs": [],
   "source": [
    "# use the Fieldset constructor to do the same thing from a\n",
    "# list of Fieldsets\n",
    "combined = mv.Fieldset(fields=[a, b, c, d])\n",
    "combined.ls()"
   ]
  },
  {
   "cell_type": "code",
   "execution_count": null,
   "id": "a5f8da09",
   "metadata": {},
   "outputs": [],
   "source": [
    "# append to an existing Fieldset\n",
    "print(combined)\n",
    "combined.append(b)\n",
    "print(combined)"
   ]
  },
  {
   "cell_type": "markdown",
   "id": "d2ce9ea4",
   "metadata": {},
   "source": [
    "# Point selection"
   ]
  },
  {
   "cell_type": "markdown",
   "id": "3cf88d5d",
   "metadata": {},
   "source": [
    "## Area cropping"
   ]
  },
  {
   "cell_type": "code",
   "execution_count": null,
   "id": "edf79db3",
   "metadata": {},
   "outputs": [],
   "source": [
    "# first plot the data (first 5 fields) to see what we've got\n",
    "few_fields = data[9:14]\n",
    "mv.plot(few_fields)"
   ]
  },
  {
   "cell_type": "code",
   "execution_count": null,
   "id": "0d6047ff",
   "metadata": {},
   "outputs": [],
   "source": [
    "# select an area [N,W,S,E]\n",
    "data_area = [70, -25, 28, 45]\n",
    "data_on_subarea = mv.read(data=few_fields, area=data_area)"
   ]
  },
  {
   "cell_type": "code",
   "execution_count": null,
   "id": "64b24373",
   "metadata": {},
   "outputs": [],
   "source": [
    "# plot the filelds to see\n",
    "mv.plot(data_on_subarea)"
   ]
  },
  {
   "cell_type": "code",
   "execution_count": null,
   "id": "dccac302",
   "metadata": {},
   "outputs": [],
   "source": [
    "# add some automatic styling and zoom into the area\n",
    "view = mv.geoview(map_area_definition=\"corners\", area=data_area)\n",
    "cont_auto = mv.mcont(legend=True, contour_automatic_setting=\"ecmwf\", grib_scaling_of_derived_fields=True)\n",
    "mv.plot(view, data_on_subarea, cont_auto)"
   ]
  },
  {
   "cell_type": "markdown",
   "id": "fc35f91a",
   "metadata": {},
   "source": [
    "## Point reduction with regridding"
   ]
  },
  {
   "cell_type": "code",
   "execution_count": null,
   "id": "5ce32b37",
   "metadata": {},
   "outputs": [],
   "source": [
    "# let's plot the data points to see what the grid looks like\n",
    "gridpoint_markers = mv.mcont(\n",
    "    contour                          = \"off\",\n",
    "    contour_grid_value_plot          = \"on\",\n",
    "    contour_grid_value_plot_type     = \"marker\",\n",
    "    )\n",
    "mv.plot(view, data_on_subarea[0], gridpoint_markers)"
   ]
  },
  {
   "cell_type": "code",
   "execution_count": null,
   "id": "b028c290",
   "metadata": {},
   "outputs": [],
   "source": [
    "# regrid to a lower-resolution octahedral reduced Gaussian grid\n",
    "lowres_data = mv.read(data=data_on_subarea, grid=\"O80\")\n",
    "mv.plot(view, lowres_data[0], gridpoint_markers)"
   ]
  },
  {
   "cell_type": "code",
   "execution_count": null,
   "id": "3ac779ae",
   "metadata": {},
   "outputs": [],
   "source": [
    "# regrid to a regular lat/lon grid\n",
    "lowres_data = mv.read(data=data_on_subarea, grid=[3, 3]) # 3 degrees\n",
    "mv.plot(view, lowres_data[0], gridpoint_markers)"
   ]
  },
  {
   "cell_type": "markdown",
   "id": "1b9b9b53",
   "metadata": {},
   "source": [
    "## Masking"
   ]
  },
  {
   "cell_type": "code",
   "execution_count": null,
   "id": "68e9d977",
   "metadata": {},
   "outputs": [],
   "source": [
    "# masking in Metview means defining an area and either:\n",
    "#   creating a field with 1s inside the area and 0s outside (missing=False)\n",
    "#   or\n",
    "#   turning the values outside the area into missing values (missing=True)"
   ]
  },
  {
   "cell_type": "code",
   "execution_count": null,
   "id": "3985df1f",
   "metadata": {},
   "outputs": [],
   "source": [
    "# we will use temperature data at step 0 to be masked\n",
    "t0 = data.select(shortName='t', step=0)"
   ]
  },
  {
   "cell_type": "markdown",
   "id": "bbacd0a1",
   "metadata": {},
   "source": [
    "### Direct masking\n",
    "This is where we define regions of a field to be preserved, while the points outside those regions are filled with missing values."
   ]
  },
  {
   "cell_type": "code",
   "execution_count": null,
   "id": "d3a81d49",
   "metadata": {},
   "outputs": [],
   "source": [
    "print('Mean val for first field:', t0[0].average())"
   ]
  },
  {
   "cell_type": "code",
   "execution_count": null,
   "id": "e0bf8837",
   "metadata": {},
   "outputs": [],
   "source": [
    "# define a rectangular mask\n",
    "rect_masked_data = mv.mask(t0, [48, -12, 63, 5], missing=True) # [N,W,S,E]\n",
    "print('Mean val for first field:', rect_masked_data[0].average())\n",
    "mv.plot(view, rect_masked_data, cont_auto)"
   ]
  },
  {
   "cell_type": "code",
   "execution_count": null,
   "id": "a7db54ac",
   "metadata": {},
   "outputs": [],
   "source": [
    "# define a circular mask - centre in lat/lon, radius in m\n",
    "circ_masked_data = mv.rmask(t0, [55, -4, 800*1000], missing=True) # [N,W,S,E]\n",
    "print('Mean val for first field:', circ_masked_data[0].average())\n",
    "mv.plot(view, circ_masked_data, cont_auto)"
   ]
  },
  {
   "cell_type": "code",
   "execution_count": null,
   "id": "3d0f5219",
   "metadata": {},
   "outputs": [],
   "source": [
    "# polygon area - we will use a shapefile from Magics\n",
    "import shapefile # pip install pyshp\n",
    "metview_dir = mv.version_info()[\"metview_dir\"]\n",
    "sf = shapefile.Reader(metview_dir + \"/../../share/magics/50m/ne_50m_land.shp\")"
   ]
  },
  {
   "cell_type": "code",
   "execution_count": null,
   "id": "b86d29f5",
   "metadata": {},
   "outputs": [],
   "source": [
    "# extract the list of points for the Great Britain polygon\n",
    "shapes = sf.shapes()\n",
    "points = shapes[135].points  # GB\n",
    "lats = np.array([p[1] for p in points])\n",
    "lons = np.array([p[0] for p in points])"
   ]
  },
  {
   "cell_type": "code",
   "execution_count": null,
   "id": "99d6701d",
   "metadata": {},
   "outputs": [],
   "source": [
    "poly_masked_data = mv.poly_mask(t0, lats, lons, missing=True)\n",
    "print('Mean val for first field:', poly_masked_data[0].average())\n",
    "mv.plot(view, poly_masked_data, cont_auto)"
   ]
  },
  {
   "cell_type": "markdown",
   "id": "8b3fe3c7",
   "metadata": {},
   "source": [
    "### Indirect masking\n",
    "This is where we generate masks consisting of 1s where the points are inside a given region (or satisfy some other criteria) and 0s otherwise. We can then combine these and use them to provide a missing value mask to any field."
   ]
  },
  {
   "cell_type": "code",
   "execution_count": null,
   "id": "52c162c5",
   "metadata": {},
   "outputs": [],
   "source": [
    "# contouring for 0 and 1 values\n",
    "mask_1_and_0_contouring = mv.mcont(\n",
    "    legend=\"on\",\n",
    "    contour=\"off\",\n",
    "    contour_level_selection_type=\"level_list\",\n",
    "    contour_level_list=[0, 1, 2],\n",
    "    contour_shade=\"on\",\n",
    "    contour_shade_technique=\"grid_shading\",\n",
    "    contour_shade_max_level_colour=\"red\",\n",
    "    contour_shade_min_level_colour=\"yellow\",\n",
    ")"
   ]
  },
  {
   "cell_type": "code",
   "execution_count": null,
   "id": "3490ff30",
   "metadata": {},
   "outputs": [],
   "source": [
    "# define a rectangular mask\n",
    "rect_masked_data = mv.mask(t0, [48, -12, 63, 5], missing=False) # [N,W,S,E]\n",
    "mv.plot(view, rect_masked_data[0], mask_1_and_0_contouring)"
   ]
  },
  {
   "cell_type": "code",
   "execution_count": null,
   "id": "508c4e97",
   "metadata": {},
   "outputs": [],
   "source": [
    "# define a circular mask - centre in lat/lon, radius in m\n",
    "circ_masked_data = mv.rmask(t0, [55, -4, 800*1000], missing=False) # [N,W,S,E]\n",
    "mv.plot(view, circ_masked_data[0], mask_1_and_0_contouring)"
   ]
  },
  {
   "cell_type": "code",
   "execution_count": null,
   "id": "d25af07a",
   "metadata": {},
   "outputs": [],
   "source": [
    "r0 = data.select(shortName='r', step=0)\n",
    "high_relhum = r0 > 75\n",
    "mv.plot(view, high_relhum, mask_1_and_0_contouring)"
   ]
  },
  {
   "cell_type": "code",
   "execution_count": null,
   "id": "820691ba",
   "metadata": {},
   "outputs": [],
   "source": [
    "# combine the masks with the 'or' operator (only useful for 1/0 masks)\n",
    "combined_mask_data = rect_masked_data | circ_masked_data | high_relhum\n",
    "mv.plot(view, combined_mask_data, mask_1_and_0_contouring)"
   ]
  },
  {
   "cell_type": "code",
   "execution_count": null,
   "id": "31c18236",
   "metadata": {},
   "outputs": [],
   "source": [
    "# use this mask to replace 0s with missing values in the original data\n",
    "combined_mask_data = mv.bitmap(combined_mask_data, 0) # replace 0 with missing vals\n",
    "masked_data = mv.bitmap(t0, combined_mask_data) # copy missing vals over\n",
    "print('Mean val for first field:', masked_data[0].average())\n",
    "mv.plot(view, masked_data, cont_auto)"
   ]
  },
  {
   "cell_type": "markdown",
   "id": "56507dd1",
   "metadata": {},
   "source": [
    "## Frames\n",
    "Frames are useful to supply boundary conditions to a local area model.\n"
   ]
  },
  {
   "cell_type": "code",
   "execution_count": null,
   "id": "17934547",
   "metadata": {
    "scrolled": true
   },
   "outputs": [],
   "source": [
    "# the frame parameter is the width of the frame in degrees\n",
    "data_frame = mv.read(data=data, area=data_area, frame=5, grid=[1,1])\n",
    "mv.plot(data_frame['t1000'], cont_auto)"
   ]
  },
  {
   "cell_type": "markdown",
   "id": "d24cf839",
   "metadata": {},
   "source": [
    "## Vertical profiles"
   ]
  },
  {
   "cell_type": "code",
   "execution_count": null,
   "id": "8c57a691",
   "metadata": {},
   "outputs": [],
   "source": [
    "# let's plot a profile for each forecast step of temperature\n",
    "\n",
    "# we will extract one Fieldset for each time step - each of these Fieldsets\n",
    "# will contain all the vertical levels of temperature data for that time step\n",
    "# we will end up with a list of these Fieldsets and plot a profile for each\n",
    "\n",
    "steps = mv.unique(mv.grib_get_long(data, 'step'))\n",
    "data_for_all_steps = [data.select(shortName='t', step=s) for s in steps]\n",
    "for f in data_for_all_steps:\n",
    "    print(f.grib_get(['step', 'level']))"
   ]
  },
  {
   "cell_type": "code",
   "execution_count": null,
   "id": "2b68ff9f",
   "metadata": {},
   "outputs": [],
   "source": [
    "# we will plot the profile for each step in a different colour - generate a list\n",
    "# of 'mgraph' definitions, each using a different colour, for this purpose\n",
    "nsteps = len(steps)\n",
    "colour_inc = 1/nsteps\n",
    "graph_colours = [mv.mgraph(legend=True, graph_line_colour='HSL('+str(360*s*colour_inc)+',1,0.5)') for s in range(len(steps))]\n",
    "\n",
    "\n",
    "# define a nice legend\n",
    "legend = mv.mlegend(\n",
    "    legend_display_type=\"disjoint\",\n",
    "    legend_entry_plot_direction=\"column\",\n",
    "    legend_text_composition=\"user_text_only\",\n",
    "    legend_entry_plot_orientation=\"top_bottom\",\n",
    "    legend_border_colour=\"black\",\n",
    "    legend_box_mode=\"positional\",\n",
    "    legend_box_x_position=2.5,\n",
    "    legend_box_y_position=4,\n",
    "    legend_box_x_length=5,\n",
    "    legend_box_y_length=8,\n",
    "    legend_text_font_size=0.5,\n",
    "    legend_user_lines=[str(int(s)) for s in steps],\n",
    ")\n",
    "\n",
    "# finally, the magic happens here - the vertical profile view extracts the data\n",
    "# at the given point at each level\n",
    "\n",
    "vertical_axis = mv.maxis(\n",
    "    axis_type=\"position_list\",\n",
    "    axis_tick_position_list=data_for_all_steps[0].grib_get_long('level')\n",
    ")\n",
    "\n",
    "vpview = mv.mvertprofview(\n",
    "    input_mode=\"point\",\n",
    "    point=[50, -60], # lat,lon\n",
    "    bottom_level=1000,\n",
    "    top_level=300,\n",
    "    vertical_scaling=\"log\",\n",
    "    level_axis=vertical_axis\n",
    ")\n",
    "\n",
    "mv.plot(vpview, list(zip(data_for_all_steps, graph_colours)), legend)"
   ]
  },
  {
   "cell_type": "markdown",
   "id": "894e4cc9",
   "metadata": {},
   "source": [
    "## Vertical cross sections"
   ]
  },
  {
   "cell_type": "markdown",
   "id": "5c8e9e95",
   "metadata": {},
   "source": [
    "## Zonal means?"
   ]
  },
  {
   "cell_type": "markdown",
   "id": "a3b8e11e",
   "metadata": {},
   "source": [
    "## Time-height sections"
   ]
  },
  {
   "cell_type": "markdown",
   "id": "e2d6bf3a",
   "metadata": {},
   "source": [
    "## Other Hovmoeller?"
   ]
  },
  {
   "cell_type": "markdown",
   "id": "c13347d8",
   "metadata": {},
   "source": [
    "## Ensemble means?\n",
    "Using xarray for now, but will use Metview's own code in the future"
   ]
  },
  {
   "cell_type": "markdown",
   "id": "02e7a1a7",
   "metadata": {},
   "source": [
    "## Gridpoint selection"
   ]
  },
  {
   "cell_type": "code",
   "execution_count": null,
   "id": "d284ea78",
   "metadata": {},
   "outputs": [],
   "source": [
    "# nearest_gridpoint, interpolate(), single points, arrays of points, geopoints"
   ]
  },
  {
   "cell_type": "markdown",
   "id": "d1e17784",
   "metadata": {},
   "source": [
    "## Time series"
   ]
  },
  {
   "cell_type": "code",
   "execution_count": null,
   "id": "2c06e70c",
   "metadata": {},
   "outputs": [],
   "source": [
    "# uses nearest_gridpoint etc"
   ]
  },
  {
   "cell_type": "code",
   "execution_count": null,
   "id": "81e99743",
   "metadata": {},
   "outputs": [],
   "source": []
  }
 ],
 "metadata": {
  "kernelspec": {
   "display_name": "Python 3 (ipykernel)",
   "language": "python",
   "name": "python3"
  },
  "language_info": {
   "codemirror_mode": {
    "name": "ipython",
    "version": 3
   },
   "file_extension": ".py",
   "mimetype": "text/x-python",
   "name": "python",
   "nbconvert_exporter": "python",
   "pygments_lexer": "ipython3",
   "version": "3.9.12"
  }
 },
 "nbformat": 4,
 "nbformat_minor": 5
}
