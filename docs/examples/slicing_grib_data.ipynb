{
 "cells": [
  {
   "cell_type": "markdown",
   "id": "74c021c8",
   "metadata": {},
   "source": [
    "# Slicing and dicing GRIB data"
   ]
  },
  {
   "cell_type": "markdown",
   "id": "57f67698",
   "metadata": {},
   "source": [
    "## Terminology"
   ]
  },
  {
   "cell_type": "markdown",
   "id": "9087e85f",
   "metadata": {},
   "source": [
    "A GRIB file consists of a sequence of self-contained GRIB *messages*. A GRIB file is represented as a *Fieldset* object in Metview. Each message contains the data for a single *field*, e.g. a single parameter generated at a single time for a single forecast step. A field contains a set of *gridpoints* geographically distributed in some way, plus metadata such as the parameter, the generation time, the forecast step and the centre that generated the data. A field may be plotted on a map, and a Fieldset may be plotted as an animation on a map."
   ]
  },
  {
   "cell_type": "markdown",
   "id": "15d2c76f",
   "metadata": {},
   "source": [
    "## Setting up"
   ]
  },
  {
   "cell_type": "code",
   "execution_count": 1,
   "id": "92b61b84",
   "metadata": {},
   "outputs": [],
   "source": [
    "import numpy as np\n",
    "import metview as mv"
   ]
  },
  {
   "cell_type": "code",
   "execution_count": 31,
   "id": "e93a623c",
   "metadata": {},
   "outputs": [],
   "source": [
    "# not strictly necessary to tell Metview that we're running in a Jupyter notebook,\n",
    "# but we will call this function so that we can specify a larger font size\n",
    "mv.setoutput('jupyter', output_font_scale=1.5, output_width=600)"
   ]
  },
  {
   "cell_type": "markdown",
   "id": "207249af",
   "metadata": {},
   "source": [
    "## Reading and inspecting the data"
   ]
  },
  {
   "cell_type": "code",
   "execution_count": 4,
   "id": "fdf8dd7f",
   "metadata": {},
   "outputs": [
    {
     "name": "stdout",
     "output_type": "stream",
     "text": [
      "Fieldset (90 fields)\n"
     ]
    }
   ],
   "source": [
    "data = mv.read('grib_to_be_sliced.grib')\n",
    "print(data)"
   ]
  },
  {
   "cell_type": "code",
   "execution_count": 5,
   "id": "ad4f3d4a",
   "metadata": {},
   "outputs": [
    {
     "data": {
      "text/html": [
       "  \n",
       "                <table>\n",
       "                <tr><th>parameter</th><th>typeOfLevel</th><th>level</th><th>date</th><th>time</th><th>step</th><th>paramId</th><th>class</th><th>stream</th><th>type</th><th>experimentVersionNumber</th></tr>\n",
       "                <tr><th style='text-align: right;'>r</th><td style='text-align: left;'>isobaricInhPa</td><td style='text-align: left;'>300,400,...</td><td style='text-align: left;'>20220608</td><td style='text-align: left;'>1200</td><td style='text-align: left;'>0</td><td style='text-align: left;'>157</td><td style='text-align: left;'>od</td><td style='text-align: left;'>oper</td><td style='text-align: left;'>fc</td><td style='text-align: left;'>0001</td></tr><tr><th style='text-align: right;'>t</th><td style='text-align: left;'>isobaricInhPa</td><td style='text-align: left;'>300,400,...</td><td style='text-align: left;'>20220608</td><td style='text-align: left;'>1200</td><td style='text-align: left;'>0,6,...</td><td style='text-align: left;'>130</td><td style='text-align: left;'>od</td><td style='text-align: left;'>oper</td><td style='text-align: left;'>fc</td><td style='text-align: left;'>0001</td></tr><tr><th style='text-align: right;'>z</th><td style='text-align: left;'>isobaricInhPa</td><td style='text-align: left;'>300,400,...</td><td style='text-align: left;'>20220608</td><td style='text-align: left;'>1200</td><td style='text-align: left;'>0</td><td style='text-align: left;'>129</td><td style='text-align: left;'>od</td><td style='text-align: left;'>oper</td><td style='text-align: left;'>fc</td><td style='text-align: left;'>0001</td></tr>\n",
       "                </table>"
      ],
      "text/plain": [
       "<IPython.core.display.HTML object>"
      ]
     },
     "execution_count": 5,
     "metadata": {},
     "output_type": "execute_result"
    }
   ],
   "source": [
    "data.describe()"
   ]
  },
  {
   "cell_type": "code",
   "execution_count": 6,
   "id": "ef423bee",
   "metadata": {},
   "outputs": [
    {
     "data": {
      "text/html": [
       "  \n",
       "                <table>\n",
       "                <tr></tr>\n",
       "                <tr><th style='text-align: right;'>shortName</th><td style='text-align: left;'>r</td></tr><tr><th style='text-align: right;'>name</th><td style='text-align: left;'>Relative humidity</td></tr><tr><th style='text-align: right;'>paramId</th><td style='text-align: left;'>157</td></tr><tr><th style='text-align: right;'>units</th><td style='text-align: left;'>%</td></tr><tr><th style='text-align: right;'>typeOfLevel</th><td style='text-align: left;'>isobaricInhPa</td></tr><tr><th style='text-align: right;'>level</th><td style='text-align: left;'>300,400,500,700,850,1000</td></tr><tr><th style='text-align: right;'>date</th><td style='text-align: left;'>20220608</td></tr><tr><th style='text-align: right;'>time</th><td style='text-align: left;'>1200</td></tr><tr><th style='text-align: right;'>step</th><td style='text-align: left;'>0</td></tr><tr><th style='text-align: right;'>class</th><td style='text-align: left;'>od</td></tr><tr><th style='text-align: right;'>stream</th><td style='text-align: left;'>oper</td></tr><tr><th style='text-align: right;'>type</th><td style='text-align: left;'>fc</td></tr><tr><th style='text-align: right;'>experimentVersionNumber</th><td style='text-align: left;'>0001</td></tr>\n",
       "                </table>"
      ],
      "text/plain": [
       "<IPython.core.display.HTML object>"
      ]
     },
     "execution_count": 6,
     "metadata": {},
     "output_type": "execute_result"
    }
   ],
   "source": [
    "data.describe('r')"
   ]
  },
  {
   "cell_type": "code",
   "execution_count": 7,
   "id": "1b68e47d",
   "metadata": {},
   "outputs": [
    {
     "data": {
      "text/html": [
       "  \n",
       "                <table>\n",
       "                <tr></tr>\n",
       "                <tr><th style='text-align: right;'>shortName</th><td style='text-align: left;'>z</td></tr><tr><th style='text-align: right;'>name</th><td style='text-align: left;'>Geopotential</td></tr><tr><th style='text-align: right;'>paramId</th><td style='text-align: left;'>129</td></tr><tr><th style='text-align: right;'>units</th><td style='text-align: left;'>m**2 s**-2</td></tr><tr><th style='text-align: right;'>typeOfLevel</th><td style='text-align: left;'>isobaricInhPa</td></tr><tr><th style='text-align: right;'>level</th><td style='text-align: left;'>300,400,500,700,850,1000</td></tr><tr><th style='text-align: right;'>date</th><td style='text-align: left;'>20220608</td></tr><tr><th style='text-align: right;'>time</th><td style='text-align: left;'>1200</td></tr><tr><th style='text-align: right;'>step</th><td style='text-align: left;'>0</td></tr><tr><th style='text-align: right;'>class</th><td style='text-align: left;'>od</td></tr><tr><th style='text-align: right;'>stream</th><td style='text-align: left;'>oper</td></tr><tr><th style='text-align: right;'>type</th><td style='text-align: left;'>fc</td></tr><tr><th style='text-align: right;'>experimentVersionNumber</th><td style='text-align: left;'>0001</td></tr>\n",
       "                </table>"
      ],
      "text/plain": [
       "<IPython.core.display.HTML object>"
      ]
     },
     "execution_count": 7,
     "metadata": {},
     "output_type": "execute_result"
    }
   ],
   "source": [
    "data.describe('z')"
   ]
  },
  {
   "cell_type": "code",
   "execution_count": 8,
   "id": "c0758dc7",
   "metadata": {},
   "outputs": [
    {
     "data": {
      "text/html": [
       "  \n",
       "                <table>\n",
       "                <tr></tr>\n",
       "                <tr><th style='text-align: right;'>shortName</th><td style='text-align: left;'>t</td></tr><tr><th style='text-align: right;'>name</th><td style='text-align: left;'>Temperature</td></tr><tr><th style='text-align: right;'>paramId</th><td style='text-align: left;'>130</td></tr><tr><th style='text-align: right;'>units</th><td style='text-align: left;'>K</td></tr><tr><th style='text-align: right;'>typeOfLevel</th><td style='text-align: left;'>isobaricInhPa</td></tr><tr><th style='text-align: right;'>level</th><td style='text-align: left;'>300,400,500,700,850,1000</td></tr><tr><th style='text-align: right;'>date</th><td style='text-align: left;'>20220608</td></tr><tr><th style='text-align: right;'>time</th><td style='text-align: left;'>1200</td></tr><tr><th style='text-align: right;'>step</th><td style='text-align: left;'>0,6,12,18,24,30,36,42,48,54,60,66,72</td></tr><tr><th style='text-align: right;'>class</th><td style='text-align: left;'>od</td></tr><tr><th style='text-align: right;'>stream</th><td style='text-align: left;'>oper</td></tr><tr><th style='text-align: right;'>type</th><td style='text-align: left;'>fc</td></tr><tr><th style='text-align: right;'>experimentVersionNumber</th><td style='text-align: left;'>0001</td></tr>\n",
       "                </table>"
      ],
      "text/plain": [
       "<IPython.core.display.HTML object>"
      ]
     },
     "execution_count": 8,
     "metadata": {},
     "output_type": "execute_result"
    }
   ],
   "source": [
    "data.describe('t')"
   ]
  },
  {
   "cell_type": "code",
   "execution_count": 10,
   "id": "e388b502",
   "metadata": {},
   "outputs": [
    {
     "data": {
      "text/html": [
       "<div>\n",
       "<style scoped>\n",
       "    .dataframe tbody tr th:only-of-type {\n",
       "        vertical-align: middle;\n",
       "    }\n",
       "\n",
       "    .dataframe tbody tr th {\n",
       "        vertical-align: top;\n",
       "    }\n",
       "\n",
       "    .dataframe thead th {\n",
       "        text-align: right;\n",
       "    }\n",
       "</style>\n",
       "<table border=\"1\" class=\"dataframe\">\n",
       "  <thead>\n",
       "    <tr style=\"text-align: center;\">\n",
       "      <th></th>\n",
       "      <th>centre</th>\n",
       "      <th>shortName</th>\n",
       "      <th>typeOfLevel</th>\n",
       "      <th>level</th>\n",
       "      <th>dataDate</th>\n",
       "      <th>dataTime</th>\n",
       "      <th>stepRange</th>\n",
       "      <th>dataType</th>\n",
       "      <th>gridType</th>\n",
       "    </tr>\n",
       "    <tr>\n",
       "      <th>Message</th>\n",
       "      <th></th>\n",
       "      <th></th>\n",
       "      <th></th>\n",
       "      <th></th>\n",
       "      <th></th>\n",
       "      <th></th>\n",
       "      <th></th>\n",
       "      <th></th>\n",
       "      <th></th>\n",
       "    </tr>\n",
       "  </thead>\n",
       "  <tbody>\n",
       "    <tr>\n",
       "      <th>0</th>\n",
       "      <td>ecmf</td>\n",
       "      <td>z</td>\n",
       "      <td>isobaricInhPa</td>\n",
       "      <td>1000</td>\n",
       "      <td>20220608</td>\n",
       "      <td>1200</td>\n",
       "      <td>0</td>\n",
       "      <td>fc</td>\n",
       "      <td>reduced_gg</td>\n",
       "    </tr>\n",
       "    <tr>\n",
       "      <th>1</th>\n",
       "      <td>ecmf</td>\n",
       "      <td>r</td>\n",
       "      <td>isobaricInhPa</td>\n",
       "      <td>1000</td>\n",
       "      <td>20220608</td>\n",
       "      <td>1200</td>\n",
       "      <td>0</td>\n",
       "      <td>fc</td>\n",
       "      <td>reduced_gg</td>\n",
       "    </tr>\n",
       "    <tr>\n",
       "      <th>2</th>\n",
       "      <td>ecmf</td>\n",
       "      <td>z</td>\n",
       "      <td>isobaricInhPa</td>\n",
       "      <td>850</td>\n",
       "      <td>20220608</td>\n",
       "      <td>1200</td>\n",
       "      <td>0</td>\n",
       "      <td>fc</td>\n",
       "      <td>reduced_gg</td>\n",
       "    </tr>\n",
       "    <tr>\n",
       "      <th>3</th>\n",
       "      <td>ecmf</td>\n",
       "      <td>r</td>\n",
       "      <td>isobaricInhPa</td>\n",
       "      <td>850</td>\n",
       "      <td>20220608</td>\n",
       "      <td>1200</td>\n",
       "      <td>0</td>\n",
       "      <td>fc</td>\n",
       "      <td>reduced_gg</td>\n",
       "    </tr>\n",
       "    <tr>\n",
       "      <th>4</th>\n",
       "      <td>ecmf</td>\n",
       "      <td>z</td>\n",
       "      <td>isobaricInhPa</td>\n",
       "      <td>700</td>\n",
       "      <td>20220608</td>\n",
       "      <td>1200</td>\n",
       "      <td>0</td>\n",
       "      <td>fc</td>\n",
       "      <td>reduced_gg</td>\n",
       "    </tr>\n",
       "    <tr>\n",
       "      <th>5</th>\n",
       "      <td>ecmf</td>\n",
       "      <td>r</td>\n",
       "      <td>isobaricInhPa</td>\n",
       "      <td>700</td>\n",
       "      <td>20220608</td>\n",
       "      <td>1200</td>\n",
       "      <td>0</td>\n",
       "      <td>fc</td>\n",
       "      <td>reduced_gg</td>\n",
       "    </tr>\n",
       "    <tr>\n",
       "      <th>6</th>\n",
       "      <td>ecmf</td>\n",
       "      <td>z</td>\n",
       "      <td>isobaricInhPa</td>\n",
       "      <td>500</td>\n",
       "      <td>20220608</td>\n",
       "      <td>1200</td>\n",
       "      <td>0</td>\n",
       "      <td>fc</td>\n",
       "      <td>reduced_gg</td>\n",
       "    </tr>\n",
       "    <tr>\n",
       "      <th>7</th>\n",
       "      <td>ecmf</td>\n",
       "      <td>r</td>\n",
       "      <td>isobaricInhPa</td>\n",
       "      <td>500</td>\n",
       "      <td>20220608</td>\n",
       "      <td>1200</td>\n",
       "      <td>0</td>\n",
       "      <td>fc</td>\n",
       "      <td>reduced_gg</td>\n",
       "    </tr>\n",
       "    <tr>\n",
       "      <th>8</th>\n",
       "      <td>ecmf</td>\n",
       "      <td>z</td>\n",
       "      <td>isobaricInhPa</td>\n",
       "      <td>400</td>\n",
       "      <td>20220608</td>\n",
       "      <td>1200</td>\n",
       "      <td>0</td>\n",
       "      <td>fc</td>\n",
       "      <td>reduced_gg</td>\n",
       "    </tr>\n",
       "    <tr>\n",
       "      <th>9</th>\n",
       "      <td>ecmf</td>\n",
       "      <td>r</td>\n",
       "      <td>isobaricInhPa</td>\n",
       "      <td>400</td>\n",
       "      <td>20220608</td>\n",
       "      <td>1200</td>\n",
       "      <td>0</td>\n",
       "      <td>fc</td>\n",
       "      <td>reduced_gg</td>\n",
       "    </tr>\n",
       "  </tbody>\n",
       "</table>\n",
       "</div>"
      ],
      "text/plain": [
       "        centre shortName  typeOfLevel    level  dataDate  dataTime stepRange  \\\n",
       "Message                                                                        \n",
       "0        ecmf       z     isobaricInhPa  1000   20220608    1200        0      \n",
       "1        ecmf       r     isobaricInhPa  1000   20220608    1200        0      \n",
       "2        ecmf       z     isobaricInhPa   850   20220608    1200        0      \n",
       "3        ecmf       r     isobaricInhPa   850   20220608    1200        0      \n",
       "4        ecmf       z     isobaricInhPa   700   20220608    1200        0      \n",
       "5        ecmf       r     isobaricInhPa   700   20220608    1200        0      \n",
       "6        ecmf       z     isobaricInhPa   500   20220608    1200        0      \n",
       "7        ecmf       r     isobaricInhPa   500   20220608    1200        0      \n",
       "8        ecmf       z     isobaricInhPa   400   20220608    1200        0      \n",
       "9        ecmf       r     isobaricInhPa   400   20220608    1200        0      \n",
       "\n",
       "        dataType   gridType   \n",
       "Message                       \n",
       "0          fc     reduced_gg  \n",
       "1          fc     reduced_gg  \n",
       "2          fc     reduced_gg  \n",
       "3          fc     reduced_gg  \n",
       "4          fc     reduced_gg  \n",
       "5          fc     reduced_gg  \n",
       "6          fc     reduced_gg  \n",
       "7          fc     reduced_gg  \n",
       "8          fc     reduced_gg  \n",
       "9          fc     reduced_gg  "
      ]
     },
     "execution_count": 10,
     "metadata": {},
     "output_type": "execute_result"
    }
   ],
   "source": [
    "data.ls()[:10]"
   ]
  },
  {
   "cell_type": "markdown",
   "id": "0dd4e15f",
   "metadata": {},
   "source": [
    "# Field selection"
   ]
  },
  {
   "cell_type": "markdown",
   "id": "967dbb5c",
   "metadata": {},
   "source": [
    "## Field selection through indexing"
   ]
  },
  {
   "cell_type": "code",
   "execution_count": 11,
   "id": "39cbe87f",
   "metadata": {},
   "outputs": [
    {
     "name": "stdout",
     "output_type": "stream",
     "text": [
      "Fieldset (1 field)\n"
     ]
    },
    {
     "data": {
      "text/html": [
       "<div>\n",
       "<style scoped>\n",
       "    .dataframe tbody tr th:only-of-type {\n",
       "        vertical-align: middle;\n",
       "    }\n",
       "\n",
       "    .dataframe tbody tr th {\n",
       "        vertical-align: top;\n",
       "    }\n",
       "\n",
       "    .dataframe thead th {\n",
       "        text-align: right;\n",
       "    }\n",
       "</style>\n",
       "<table border=\"1\" class=\"dataframe\">\n",
       "  <thead>\n",
       "    <tr style=\"text-align: center;\">\n",
       "      <th></th>\n",
       "      <th>centre</th>\n",
       "      <th>shortName</th>\n",
       "      <th>typeOfLevel</th>\n",
       "      <th>level</th>\n",
       "      <th>dataDate</th>\n",
       "      <th>dataTime</th>\n",
       "      <th>stepRange</th>\n",
       "      <th>dataType</th>\n",
       "      <th>gridType</th>\n",
       "    </tr>\n",
       "    <tr>\n",
       "      <th>Message</th>\n",
       "      <th></th>\n",
       "      <th></th>\n",
       "      <th></th>\n",
       "      <th></th>\n",
       "      <th></th>\n",
       "      <th></th>\n",
       "      <th></th>\n",
       "      <th></th>\n",
       "      <th></th>\n",
       "    </tr>\n",
       "  </thead>\n",
       "  <tbody>\n",
       "    <tr>\n",
       "      <th>0</th>\n",
       "      <td>ecmf</td>\n",
       "      <td>z</td>\n",
       "      <td>isobaricInhPa</td>\n",
       "      <td>1000</td>\n",
       "      <td>20220608</td>\n",
       "      <td>1200</td>\n",
       "      <td>0</td>\n",
       "      <td>fc</td>\n",
       "      <td>reduced_gg</td>\n",
       "    </tr>\n",
       "  </tbody>\n",
       "</table>\n",
       "</div>"
      ],
      "text/plain": [
       "        centre shortName  typeOfLevel    level  dataDate  dataTime stepRange  \\\n",
       "Message                                                                        \n",
       "0        ecmf       z     isobaricInhPa  1000   20220608    1200        0      \n",
       "\n",
       "        dataType   gridType   \n",
       "Message                       \n",
       "0          fc     reduced_gg  "
      ]
     },
     "execution_count": 11,
     "metadata": {},
     "output_type": "execute_result"
    }
   ],
   "source": [
    "# select the first field (0-based indexing)\n",
    "print(data[0])\n",
    "data[0].ls()"
   ]
  },
  {
   "cell_type": "code",
   "execution_count": 12,
   "id": "96c8eaf8",
   "metadata": {},
   "outputs": [
    {
     "data": {
      "text/html": [
       "<div>\n",
       "<style scoped>\n",
       "    .dataframe tbody tr th:only-of-type {\n",
       "        vertical-align: middle;\n",
       "    }\n",
       "\n",
       "    .dataframe tbody tr th {\n",
       "        vertical-align: top;\n",
       "    }\n",
       "\n",
       "    .dataframe thead th {\n",
       "        text-align: right;\n",
       "    }\n",
       "</style>\n",
       "<table border=\"1\" class=\"dataframe\">\n",
       "  <thead>\n",
       "    <tr style=\"text-align: center;\">\n",
       "      <th></th>\n",
       "      <th>centre</th>\n",
       "      <th>shortName</th>\n",
       "      <th>typeOfLevel</th>\n",
       "      <th>level</th>\n",
       "      <th>dataDate</th>\n",
       "      <th>dataTime</th>\n",
       "      <th>stepRange</th>\n",
       "      <th>dataType</th>\n",
       "      <th>gridType</th>\n",
       "    </tr>\n",
       "    <tr>\n",
       "      <th>Message</th>\n",
       "      <th></th>\n",
       "      <th></th>\n",
       "      <th></th>\n",
       "      <th></th>\n",
       "      <th></th>\n",
       "      <th></th>\n",
       "      <th></th>\n",
       "      <th></th>\n",
       "      <th></th>\n",
       "    </tr>\n",
       "  </thead>\n",
       "  <tbody>\n",
       "    <tr>\n",
       "      <th>0</th>\n",
       "      <td>ecmf</td>\n",
       "      <td>r</td>\n",
       "      <td>isobaricInhPa</td>\n",
       "      <td>850</td>\n",
       "      <td>20220608</td>\n",
       "      <td>1200</td>\n",
       "      <td>0</td>\n",
       "      <td>fc</td>\n",
       "      <td>reduced_gg</td>\n",
       "    </tr>\n",
       "  </tbody>\n",
       "</table>\n",
       "</div>"
      ],
      "text/plain": [
       "        centre shortName  typeOfLevel    level  dataDate  dataTime stepRange  \\\n",
       "Message                                                                        \n",
       "0        ecmf       r     isobaricInhPa   850   20220608    1200        0      \n",
       "\n",
       "        dataType   gridType   \n",
       "Message                       \n",
       "0          fc     reduced_gg  "
      ]
     },
     "execution_count": 12,
     "metadata": {},
     "output_type": "execute_result"
    }
   ],
   "source": [
    "# select the fourth field (0-based indexing)\n",
    "data[3].ls()"
   ]
  },
  {
   "cell_type": "code",
   "execution_count": 13,
   "id": "7476bd1b",
   "metadata": {},
   "outputs": [
    {
     "data": {
      "text/html": [
       "<div>\n",
       "<style scoped>\n",
       "    .dataframe tbody tr th:only-of-type {\n",
       "        vertical-align: middle;\n",
       "    }\n",
       "\n",
       "    .dataframe tbody tr th {\n",
       "        vertical-align: top;\n",
       "    }\n",
       "\n",
       "    .dataframe thead th {\n",
       "        text-align: right;\n",
       "    }\n",
       "</style>\n",
       "<table border=\"1\" class=\"dataframe\">\n",
       "  <thead>\n",
       "    <tr style=\"text-align: center;\">\n",
       "      <th></th>\n",
       "      <th>centre</th>\n",
       "      <th>shortName</th>\n",
       "      <th>typeOfLevel</th>\n",
       "      <th>level</th>\n",
       "      <th>dataDate</th>\n",
       "      <th>dataTime</th>\n",
       "      <th>stepRange</th>\n",
       "      <th>dataType</th>\n",
       "      <th>gridType</th>\n",
       "    </tr>\n",
       "    <tr>\n",
       "      <th>Message</th>\n",
       "      <th></th>\n",
       "      <th></th>\n",
       "      <th></th>\n",
       "      <th></th>\n",
       "      <th></th>\n",
       "      <th></th>\n",
       "      <th></th>\n",
       "      <th></th>\n",
       "      <th></th>\n",
       "    </tr>\n",
       "  </thead>\n",
       "  <tbody>\n",
       "    <tr>\n",
       "      <th>0</th>\n",
       "      <td>ecmf</td>\n",
       "      <td>t</td>\n",
       "      <td>isobaricInhPa</td>\n",
       "      <td>300</td>\n",
       "      <td>20220608</td>\n",
       "      <td>1200</td>\n",
       "      <td>72</td>\n",
       "      <td>fc</td>\n",
       "      <td>reduced_gg</td>\n",
       "    </tr>\n",
       "  </tbody>\n",
       "</table>\n",
       "</div>"
      ],
      "text/plain": [
       "        centre shortName  typeOfLevel    level  dataDate  dataTime stepRange  \\\n",
       "Message                                                                        \n",
       "0        ecmf       t     isobaricInhPa   300   20220608    1200       72      \n",
       "\n",
       "        dataType   gridType   \n",
       "Message                       \n",
       "0          fc     reduced_gg  "
      ]
     },
     "execution_count": 13,
     "metadata": {},
     "output_type": "execute_result"
    }
   ],
   "source": [
    "# select the last field\n",
    "data[-1].ls()"
   ]
  },
  {
   "cell_type": "code",
   "execution_count": 14,
   "id": "7622acea",
   "metadata": {},
   "outputs": [
    {
     "data": {
      "text/html": [
       "<div>\n",
       "<style scoped>\n",
       "    .dataframe tbody tr th:only-of-type {\n",
       "        vertical-align: middle;\n",
       "    }\n",
       "\n",
       "    .dataframe tbody tr th {\n",
       "        vertical-align: top;\n",
       "    }\n",
       "\n",
       "    .dataframe thead th {\n",
       "        text-align: right;\n",
       "    }\n",
       "</style>\n",
       "<table border=\"1\" class=\"dataframe\">\n",
       "  <thead>\n",
       "    <tr style=\"text-align: center;\">\n",
       "      <th></th>\n",
       "      <th>centre</th>\n",
       "      <th>shortName</th>\n",
       "      <th>typeOfLevel</th>\n",
       "      <th>level</th>\n",
       "      <th>dataDate</th>\n",
       "      <th>dataTime</th>\n",
       "      <th>stepRange</th>\n",
       "      <th>dataType</th>\n",
       "      <th>gridType</th>\n",
       "    </tr>\n",
       "    <tr>\n",
       "      <th>Message</th>\n",
       "      <th></th>\n",
       "      <th></th>\n",
       "      <th></th>\n",
       "      <th></th>\n",
       "      <th></th>\n",
       "      <th></th>\n",
       "      <th></th>\n",
       "      <th></th>\n",
       "      <th></th>\n",
       "    </tr>\n",
       "  </thead>\n",
       "  <tbody>\n",
       "    <tr>\n",
       "      <th>0</th>\n",
       "      <td>ecmf</td>\n",
       "      <td>r</td>\n",
       "      <td>isobaricInhPa</td>\n",
       "      <td>1000</td>\n",
       "      <td>20220608</td>\n",
       "      <td>1200</td>\n",
       "      <td>0</td>\n",
       "      <td>fc</td>\n",
       "      <td>reduced_gg</td>\n",
       "    </tr>\n",
       "    <tr>\n",
       "      <th>1</th>\n",
       "      <td>ecmf</td>\n",
       "      <td>z</td>\n",
       "      <td>isobaricInhPa</td>\n",
       "      <td>850</td>\n",
       "      <td>20220608</td>\n",
       "      <td>1200</td>\n",
       "      <td>0</td>\n",
       "      <td>fc</td>\n",
       "      <td>reduced_gg</td>\n",
       "    </tr>\n",
       "    <tr>\n",
       "      <th>2</th>\n",
       "      <td>ecmf</td>\n",
       "      <td>z</td>\n",
       "      <td>isobaricInhPa</td>\n",
       "      <td>1000</td>\n",
       "      <td>20220608</td>\n",
       "      <td>1200</td>\n",
       "      <td>0</td>\n",
       "      <td>fc</td>\n",
       "      <td>reduced_gg</td>\n",
       "    </tr>\n",
       "    <tr>\n",
       "      <th>3</th>\n",
       "      <td>ecmf</td>\n",
       "      <td>t</td>\n",
       "      <td>isobaricInhPa</td>\n",
       "      <td>500</td>\n",
       "      <td>20220608</td>\n",
       "      <td>1200</td>\n",
       "      <td>0</td>\n",
       "      <td>fc</td>\n",
       "      <td>reduced_gg</td>\n",
       "    </tr>\n",
       "  </tbody>\n",
       "</table>\n",
       "</div>"
      ],
      "text/plain": [
       "        centre shortName  typeOfLevel    level  dataDate  dataTime stepRange  \\\n",
       "Message                                                                        \n",
       "0        ecmf       r     isobaricInhPa  1000   20220608    1200        0      \n",
       "1        ecmf       z     isobaricInhPa   850   20220608    1200        0      \n",
       "2        ecmf       z     isobaricInhPa  1000   20220608    1200        0      \n",
       "3        ecmf       t     isobaricInhPa   500   20220608    1200        0      \n",
       "\n",
       "        dataType   gridType   \n",
       "Message                       \n",
       "0          fc     reduced_gg  \n",
       "1          fc     reduced_gg  \n",
       "2          fc     reduced_gg  \n",
       "3          fc     reduced_gg  "
      ]
     },
     "execution_count": 14,
     "metadata": {},
     "output_type": "execute_result"
    }
   ],
   "source": [
    "# index with numpy array\n",
    "indices = np.array([1, 2, 0, 15])\n",
    "data[indices].ls()"
   ]
  },
  {
   "cell_type": "markdown",
   "id": "538498db",
   "metadata": {},
   "source": [
    "## Field selection through slicing"
   ]
  },
  {
   "cell_type": "code",
   "execution_count": 15,
   "id": "a1bb166e",
   "metadata": {},
   "outputs": [
    {
     "data": {
      "text/html": [
       "<div>\n",
       "<style scoped>\n",
       "    .dataframe tbody tr th:only-of-type {\n",
       "        vertical-align: middle;\n",
       "    }\n",
       "\n",
       "    .dataframe tbody tr th {\n",
       "        vertical-align: top;\n",
       "    }\n",
       "\n",
       "    .dataframe thead th {\n",
       "        text-align: right;\n",
       "    }\n",
       "</style>\n",
       "<table border=\"1\" class=\"dataframe\">\n",
       "  <thead>\n",
       "    <tr style=\"text-align: center;\">\n",
       "      <th></th>\n",
       "      <th>centre</th>\n",
       "      <th>shortName</th>\n",
       "      <th>typeOfLevel</th>\n",
       "      <th>level</th>\n",
       "      <th>dataDate</th>\n",
       "      <th>dataTime</th>\n",
       "      <th>stepRange</th>\n",
       "      <th>dataType</th>\n",
       "      <th>gridType</th>\n",
       "    </tr>\n",
       "    <tr>\n",
       "      <th>Message</th>\n",
       "      <th></th>\n",
       "      <th></th>\n",
       "      <th></th>\n",
       "      <th></th>\n",
       "      <th></th>\n",
       "      <th></th>\n",
       "      <th></th>\n",
       "      <th></th>\n",
       "      <th></th>\n",
       "    </tr>\n",
       "  </thead>\n",
       "  <tbody>\n",
       "    <tr>\n",
       "      <th>0</th>\n",
       "      <td>ecmf</td>\n",
       "      <td>z</td>\n",
       "      <td>isobaricInhPa</td>\n",
       "      <td>700</td>\n",
       "      <td>20220608</td>\n",
       "      <td>1200</td>\n",
       "      <td>0</td>\n",
       "      <td>fc</td>\n",
       "      <td>reduced_gg</td>\n",
       "    </tr>\n",
       "    <tr>\n",
       "      <th>1</th>\n",
       "      <td>ecmf</td>\n",
       "      <td>r</td>\n",
       "      <td>isobaricInhPa</td>\n",
       "      <td>700</td>\n",
       "      <td>20220608</td>\n",
       "      <td>1200</td>\n",
       "      <td>0</td>\n",
       "      <td>fc</td>\n",
       "      <td>reduced_gg</td>\n",
       "    </tr>\n",
       "    <tr>\n",
       "      <th>2</th>\n",
       "      <td>ecmf</td>\n",
       "      <td>z</td>\n",
       "      <td>isobaricInhPa</td>\n",
       "      <td>500</td>\n",
       "      <td>20220608</td>\n",
       "      <td>1200</td>\n",
       "      <td>0</td>\n",
       "      <td>fc</td>\n",
       "      <td>reduced_gg</td>\n",
       "    </tr>\n",
       "    <tr>\n",
       "      <th>3</th>\n",
       "      <td>ecmf</td>\n",
       "      <td>r</td>\n",
       "      <td>isobaricInhPa</td>\n",
       "      <td>500</td>\n",
       "      <td>20220608</td>\n",
       "      <td>1200</td>\n",
       "      <td>0</td>\n",
       "      <td>fc</td>\n",
       "      <td>reduced_gg</td>\n",
       "    </tr>\n",
       "  </tbody>\n",
       "</table>\n",
       "</div>"
      ],
      "text/plain": [
       "        centre shortName  typeOfLevel    level  dataDate  dataTime stepRange  \\\n",
       "Message                                                                        \n",
       "0        ecmf       z     isobaricInhPa   700   20220608    1200        0      \n",
       "1        ecmf       r     isobaricInhPa   700   20220608    1200        0      \n",
       "2        ecmf       z     isobaricInhPa   500   20220608    1200        0      \n",
       "3        ecmf       r     isobaricInhPa   500   20220608    1200        0      \n",
       "\n",
       "        dataType   gridType   \n",
       "Message                       \n",
       "0          fc     reduced_gg  \n",
       "1          fc     reduced_gg  \n",
       "2          fc     reduced_gg  \n",
       "3          fc     reduced_gg  "
      ]
     },
     "execution_count": 15,
     "metadata": {},
     "output_type": "execute_result"
    }
   ],
   "source": [
    "# select fields 4 to 7\n",
    "data[4:8].ls()"
   ]
  },
  {
   "cell_type": "code",
   "execution_count": 16,
   "id": "7d8a7769",
   "metadata": {},
   "outputs": [
    {
     "data": {
      "text/html": [
       "<div>\n",
       "<style scoped>\n",
       "    .dataframe tbody tr th:only-of-type {\n",
       "        vertical-align: middle;\n",
       "    }\n",
       "\n",
       "    .dataframe tbody tr th {\n",
       "        vertical-align: top;\n",
       "    }\n",
       "\n",
       "    .dataframe thead th {\n",
       "        text-align: right;\n",
       "    }\n",
       "</style>\n",
       "<table border=\"1\" class=\"dataframe\">\n",
       "  <thead>\n",
       "    <tr style=\"text-align: center;\">\n",
       "      <th></th>\n",
       "      <th>centre</th>\n",
       "      <th>shortName</th>\n",
       "      <th>typeOfLevel</th>\n",
       "      <th>level</th>\n",
       "      <th>dataDate</th>\n",
       "      <th>dataTime</th>\n",
       "      <th>stepRange</th>\n",
       "      <th>dataType</th>\n",
       "      <th>gridType</th>\n",
       "    </tr>\n",
       "    <tr>\n",
       "      <th>Message</th>\n",
       "      <th></th>\n",
       "      <th></th>\n",
       "      <th></th>\n",
       "      <th></th>\n",
       "      <th></th>\n",
       "      <th></th>\n",
       "      <th></th>\n",
       "      <th></th>\n",
       "      <th></th>\n",
       "    </tr>\n",
       "  </thead>\n",
       "  <tbody>\n",
       "    <tr>\n",
       "      <th>0</th>\n",
       "      <td>ecmf</td>\n",
       "      <td>z</td>\n",
       "      <td>isobaricInhPa</td>\n",
       "      <td>700</td>\n",
       "      <td>20220608</td>\n",
       "      <td>1200</td>\n",
       "      <td>0</td>\n",
       "      <td>fc</td>\n",
       "      <td>reduced_gg</td>\n",
       "    </tr>\n",
       "    <tr>\n",
       "      <th>1</th>\n",
       "      <td>ecmf</td>\n",
       "      <td>z</td>\n",
       "      <td>isobaricInhPa</td>\n",
       "      <td>500</td>\n",
       "      <td>20220608</td>\n",
       "      <td>1200</td>\n",
       "      <td>0</td>\n",
       "      <td>fc</td>\n",
       "      <td>reduced_gg</td>\n",
       "    </tr>\n",
       "  </tbody>\n",
       "</table>\n",
       "</div>"
      ],
      "text/plain": [
       "        centre shortName  typeOfLevel    level  dataDate  dataTime stepRange  \\\n",
       "Message                                                                        \n",
       "0        ecmf       z     isobaricInhPa   700   20220608    1200        0      \n",
       "1        ecmf       z     isobaricInhPa   500   20220608    1200        0      \n",
       "\n",
       "        dataType   gridType   \n",
       "Message                       \n",
       "0          fc     reduced_gg  \n",
       "1          fc     reduced_gg  "
      ]
     },
     "execution_count": 16,
     "metadata": {},
     "output_type": "execute_result"
    }
   ],
   "source": [
    "# select fields 4 to 7, step 2\n",
    "data[4:8:2].ls()"
   ]
  },
  {
   "cell_type": "code",
   "execution_count": 17,
   "id": "0a1e6bf1",
   "metadata": {},
   "outputs": [
    {
     "data": {
      "text/html": [
       "<div>\n",
       "<style scoped>\n",
       "    .dataframe tbody tr th:only-of-type {\n",
       "        vertical-align: middle;\n",
       "    }\n",
       "\n",
       "    .dataframe tbody tr th {\n",
       "        vertical-align: top;\n",
       "    }\n",
       "\n",
       "    .dataframe thead th {\n",
       "        text-align: right;\n",
       "    }\n",
       "</style>\n",
       "<table border=\"1\" class=\"dataframe\">\n",
       "  <thead>\n",
       "    <tr style=\"text-align: center;\">\n",
       "      <th></th>\n",
       "      <th>centre</th>\n",
       "      <th>shortName</th>\n",
       "      <th>typeOfLevel</th>\n",
       "      <th>level</th>\n",
       "      <th>dataDate</th>\n",
       "      <th>dataTime</th>\n",
       "      <th>stepRange</th>\n",
       "      <th>dataType</th>\n",
       "      <th>gridType</th>\n",
       "    </tr>\n",
       "    <tr>\n",
       "      <th>Message</th>\n",
       "      <th></th>\n",
       "      <th></th>\n",
       "      <th></th>\n",
       "      <th></th>\n",
       "      <th></th>\n",
       "      <th></th>\n",
       "      <th></th>\n",
       "      <th></th>\n",
       "      <th></th>\n",
       "    </tr>\n",
       "  </thead>\n",
       "  <tbody>\n",
       "    <tr>\n",
       "      <th>0</th>\n",
       "      <td>ecmf</td>\n",
       "      <td>t</td>\n",
       "      <td>isobaricInhPa</td>\n",
       "      <td>850</td>\n",
       "      <td>20220608</td>\n",
       "      <td>1200</td>\n",
       "      <td>72</td>\n",
       "      <td>fc</td>\n",
       "      <td>reduced_gg</td>\n",
       "    </tr>\n",
       "    <tr>\n",
       "      <th>1</th>\n",
       "      <td>ecmf</td>\n",
       "      <td>t</td>\n",
       "      <td>isobaricInhPa</td>\n",
       "      <td>700</td>\n",
       "      <td>20220608</td>\n",
       "      <td>1200</td>\n",
       "      <td>72</td>\n",
       "      <td>fc</td>\n",
       "      <td>reduced_gg</td>\n",
       "    </tr>\n",
       "    <tr>\n",
       "      <th>2</th>\n",
       "      <td>ecmf</td>\n",
       "      <td>t</td>\n",
       "      <td>isobaricInhPa</td>\n",
       "      <td>500</td>\n",
       "      <td>20220608</td>\n",
       "      <td>1200</td>\n",
       "      <td>72</td>\n",
       "      <td>fc</td>\n",
       "      <td>reduced_gg</td>\n",
       "    </tr>\n",
       "    <tr>\n",
       "      <th>3</th>\n",
       "      <td>ecmf</td>\n",
       "      <td>t</td>\n",
       "      <td>isobaricInhPa</td>\n",
       "      <td>400</td>\n",
       "      <td>20220608</td>\n",
       "      <td>1200</td>\n",
       "      <td>72</td>\n",
       "      <td>fc</td>\n",
       "      <td>reduced_gg</td>\n",
       "    </tr>\n",
       "    <tr>\n",
       "      <th>4</th>\n",
       "      <td>ecmf</td>\n",
       "      <td>t</td>\n",
       "      <td>isobaricInhPa</td>\n",
       "      <td>300</td>\n",
       "      <td>20220608</td>\n",
       "      <td>1200</td>\n",
       "      <td>72</td>\n",
       "      <td>fc</td>\n",
       "      <td>reduced_gg</td>\n",
       "    </tr>\n",
       "  </tbody>\n",
       "</table>\n",
       "</div>"
      ],
      "text/plain": [
       "        centre shortName  typeOfLevel    level  dataDate  dataTime stepRange  \\\n",
       "Message                                                                        \n",
       "0        ecmf       t     isobaricInhPa   850   20220608    1200       72      \n",
       "1        ecmf       t     isobaricInhPa   700   20220608    1200       72      \n",
       "2        ecmf       t     isobaricInhPa   500   20220608    1200       72      \n",
       "3        ecmf       t     isobaricInhPa   400   20220608    1200       72      \n",
       "4        ecmf       t     isobaricInhPa   300   20220608    1200       72      \n",
       "\n",
       "        dataType   gridType   \n",
       "Message                       \n",
       "0          fc     reduced_gg  \n",
       "1          fc     reduced_gg  \n",
       "2          fc     reduced_gg  \n",
       "3          fc     reduced_gg  \n",
       "4          fc     reduced_gg  "
      ]
     },
     "execution_count": 17,
     "metadata": {},
     "output_type": "execute_result"
    }
   ],
   "source": [
    "# select the last 5 fields\n",
    "data[-5:].ls()"
   ]
  },
  {
   "cell_type": "code",
   "execution_count": 19,
   "id": "2b127034",
   "metadata": {},
   "outputs": [
    {
     "data": {
      "text/html": [
       "<div>\n",
       "<style scoped>\n",
       "    .dataframe tbody tr th:only-of-type {\n",
       "        vertical-align: middle;\n",
       "    }\n",
       "\n",
       "    .dataframe tbody tr th {\n",
       "        vertical-align: top;\n",
       "    }\n",
       "\n",
       "    .dataframe thead th {\n",
       "        text-align: right;\n",
       "    }\n",
       "</style>\n",
       "<table border=\"1\" class=\"dataframe\">\n",
       "  <thead>\n",
       "    <tr style=\"text-align: center;\">\n",
       "      <th></th>\n",
       "      <th>centre</th>\n",
       "      <th>shortName</th>\n",
       "      <th>typeOfLevel</th>\n",
       "      <th>level</th>\n",
       "      <th>dataDate</th>\n",
       "      <th>dataTime</th>\n",
       "      <th>stepRange</th>\n",
       "      <th>dataType</th>\n",
       "      <th>gridType</th>\n",
       "    </tr>\n",
       "    <tr>\n",
       "      <th>Message</th>\n",
       "      <th></th>\n",
       "      <th></th>\n",
       "      <th></th>\n",
       "      <th></th>\n",
       "      <th></th>\n",
       "      <th></th>\n",
       "      <th></th>\n",
       "      <th></th>\n",
       "      <th></th>\n",
       "    </tr>\n",
       "  </thead>\n",
       "  <tbody>\n",
       "    <tr>\n",
       "      <th>0</th>\n",
       "      <td>ecmf</td>\n",
       "      <td>t</td>\n",
       "      <td>isobaricInhPa</td>\n",
       "      <td>300</td>\n",
       "      <td>20220608</td>\n",
       "      <td>1200</td>\n",
       "      <td>72</td>\n",
       "      <td>fc</td>\n",
       "      <td>reduced_gg</td>\n",
       "    </tr>\n",
       "    <tr>\n",
       "      <th>1</th>\n",
       "      <td>ecmf</td>\n",
       "      <td>t</td>\n",
       "      <td>isobaricInhPa</td>\n",
       "      <td>400</td>\n",
       "      <td>20220608</td>\n",
       "      <td>1200</td>\n",
       "      <td>72</td>\n",
       "      <td>fc</td>\n",
       "      <td>reduced_gg</td>\n",
       "    </tr>\n",
       "    <tr>\n",
       "      <th>2</th>\n",
       "      <td>ecmf</td>\n",
       "      <td>t</td>\n",
       "      <td>isobaricInhPa</td>\n",
       "      <td>500</td>\n",
       "      <td>20220608</td>\n",
       "      <td>1200</td>\n",
       "      <td>72</td>\n",
       "      <td>fc</td>\n",
       "      <td>reduced_gg</td>\n",
       "    </tr>\n",
       "    <tr>\n",
       "      <th>3</th>\n",
       "      <td>ecmf</td>\n",
       "      <td>t</td>\n",
       "      <td>isobaricInhPa</td>\n",
       "      <td>700</td>\n",
       "      <td>20220608</td>\n",
       "      <td>1200</td>\n",
       "      <td>72</td>\n",
       "      <td>fc</td>\n",
       "      <td>reduced_gg</td>\n",
       "    </tr>\n",
       "    <tr>\n",
       "      <th>4</th>\n",
       "      <td>ecmf</td>\n",
       "      <td>t</td>\n",
       "      <td>isobaricInhPa</td>\n",
       "      <td>850</td>\n",
       "      <td>20220608</td>\n",
       "      <td>1200</td>\n",
       "      <td>72</td>\n",
       "      <td>fc</td>\n",
       "      <td>reduced_gg</td>\n",
       "    </tr>\n",
       "    <tr>\n",
       "      <th>5</th>\n",
       "      <td>ecmf</td>\n",
       "      <td>t</td>\n",
       "      <td>isobaricInhPa</td>\n",
       "      <td>1000</td>\n",
       "      <td>20220608</td>\n",
       "      <td>1200</td>\n",
       "      <td>72</td>\n",
       "      <td>fc</td>\n",
       "      <td>reduced_gg</td>\n",
       "    </tr>\n",
       "    <tr>\n",
       "      <th>6</th>\n",
       "      <td>ecmf</td>\n",
       "      <td>t</td>\n",
       "      <td>isobaricInhPa</td>\n",
       "      <td>300</td>\n",
       "      <td>20220608</td>\n",
       "      <td>1200</td>\n",
       "      <td>66</td>\n",
       "      <td>fc</td>\n",
       "      <td>reduced_gg</td>\n",
       "    </tr>\n",
       "    <tr>\n",
       "      <th>7</th>\n",
       "      <td>ecmf</td>\n",
       "      <td>t</td>\n",
       "      <td>isobaricInhPa</td>\n",
       "      <td>400</td>\n",
       "      <td>20220608</td>\n",
       "      <td>1200</td>\n",
       "      <td>66</td>\n",
       "      <td>fc</td>\n",
       "      <td>reduced_gg</td>\n",
       "    </tr>\n",
       "    <tr>\n",
       "      <th>8</th>\n",
       "      <td>ecmf</td>\n",
       "      <td>t</td>\n",
       "      <td>isobaricInhPa</td>\n",
       "      <td>500</td>\n",
       "      <td>20220608</td>\n",
       "      <td>1200</td>\n",
       "      <td>66</td>\n",
       "      <td>fc</td>\n",
       "      <td>reduced_gg</td>\n",
       "    </tr>\n",
       "    <tr>\n",
       "      <th>9</th>\n",
       "      <td>ecmf</td>\n",
       "      <td>t</td>\n",
       "      <td>isobaricInhPa</td>\n",
       "      <td>700</td>\n",
       "      <td>20220608</td>\n",
       "      <td>1200</td>\n",
       "      <td>66</td>\n",
       "      <td>fc</td>\n",
       "      <td>reduced_gg</td>\n",
       "    </tr>\n",
       "  </tbody>\n",
       "</table>\n",
       "</div>"
      ],
      "text/plain": [
       "        centre shortName  typeOfLevel    level  dataDate  dataTime stepRange  \\\n",
       "Message                                                                        \n",
       "0        ecmf       t     isobaricInhPa   300   20220608    1200       72      \n",
       "1        ecmf       t     isobaricInhPa   400   20220608    1200       72      \n",
       "2        ecmf       t     isobaricInhPa   500   20220608    1200       72      \n",
       "3        ecmf       t     isobaricInhPa   700   20220608    1200       72      \n",
       "4        ecmf       t     isobaricInhPa   850   20220608    1200       72      \n",
       "5        ecmf       t     isobaricInhPa  1000   20220608    1200       72      \n",
       "6        ecmf       t     isobaricInhPa   300   20220608    1200       66      \n",
       "7        ecmf       t     isobaricInhPa   400   20220608    1200       66      \n",
       "8        ecmf       t     isobaricInhPa   500   20220608    1200       66      \n",
       "9        ecmf       t     isobaricInhPa   700   20220608    1200       66      \n",
       "\n",
       "        dataType   gridType   \n",
       "Message                       \n",
       "0          fc     reduced_gg  \n",
       "1          fc     reduced_gg  \n",
       "2          fc     reduced_gg  \n",
       "3          fc     reduced_gg  \n",
       "4          fc     reduced_gg  \n",
       "5          fc     reduced_gg  \n",
       "6          fc     reduced_gg  \n",
       "7          fc     reduced_gg  \n",
       "8          fc     reduced_gg  \n",
       "9          fc     reduced_gg  "
      ]
     },
     "execution_count": 19,
     "metadata": {},
     "output_type": "execute_result"
    }
   ],
   "source": [
    "# reverse the fields' order\n",
    "data[::-1].ls()[:10]"
   ]
  },
  {
   "cell_type": "code",
   "execution_count": 20,
   "id": "c3ac9878",
   "metadata": {},
   "outputs": [
    {
     "name": "stdout",
     "output_type": "stream",
     "text": [
      "Fieldset (90 fields)\n"
     ]
    }
   ],
   "source": [
    "# assign this to a variable and write to disk\n",
    "rev = data[::-1]\n",
    "rev.write('reversed.grib')\n",
    "print(rev)"
   ]
  },
  {
   "cell_type": "markdown",
   "id": "2163f749",
   "metadata": {},
   "source": [
    "## Field selection through metadata"
   ]
  },
  {
   "cell_type": "code",
   "execution_count": 21,
   "id": "e18ee0ad",
   "metadata": {},
   "outputs": [
    {
     "data": {
      "text/html": [
       "<div>\n",
       "<style scoped>\n",
       "    .dataframe tbody tr th:only-of-type {\n",
       "        vertical-align: middle;\n",
       "    }\n",
       "\n",
       "    .dataframe tbody tr th {\n",
       "        vertical-align: top;\n",
       "    }\n",
       "\n",
       "    .dataframe thead th {\n",
       "        text-align: right;\n",
       "    }\n",
       "</style>\n",
       "<table border=\"1\" class=\"dataframe\">\n",
       "  <thead>\n",
       "    <tr style=\"text-align: center;\">\n",
       "      <th></th>\n",
       "      <th>centre</th>\n",
       "      <th>shortName</th>\n",
       "      <th>typeOfLevel</th>\n",
       "      <th>level</th>\n",
       "      <th>dataDate</th>\n",
       "      <th>dataTime</th>\n",
       "      <th>stepRange</th>\n",
       "      <th>dataType</th>\n",
       "      <th>gridType</th>\n",
       "    </tr>\n",
       "    <tr>\n",
       "      <th>Message</th>\n",
       "      <th></th>\n",
       "      <th></th>\n",
       "      <th></th>\n",
       "      <th></th>\n",
       "      <th></th>\n",
       "      <th></th>\n",
       "      <th></th>\n",
       "      <th></th>\n",
       "      <th></th>\n",
       "    </tr>\n",
       "  </thead>\n",
       "  <tbody>\n",
       "    <tr>\n",
       "      <th>0</th>\n",
       "      <td>ecmf</td>\n",
       "      <td>r</td>\n",
       "      <td>isobaricInhPa</td>\n",
       "      <td>1000</td>\n",
       "      <td>20220608</td>\n",
       "      <td>1200</td>\n",
       "      <td>0</td>\n",
       "      <td>fc</td>\n",
       "      <td>reduced_gg</td>\n",
       "    </tr>\n",
       "    <tr>\n",
       "      <th>1</th>\n",
       "      <td>ecmf</td>\n",
       "      <td>r</td>\n",
       "      <td>isobaricInhPa</td>\n",
       "      <td>850</td>\n",
       "      <td>20220608</td>\n",
       "      <td>1200</td>\n",
       "      <td>0</td>\n",
       "      <td>fc</td>\n",
       "      <td>reduced_gg</td>\n",
       "    </tr>\n",
       "    <tr>\n",
       "      <th>2</th>\n",
       "      <td>ecmf</td>\n",
       "      <td>r</td>\n",
       "      <td>isobaricInhPa</td>\n",
       "      <td>700</td>\n",
       "      <td>20220608</td>\n",
       "      <td>1200</td>\n",
       "      <td>0</td>\n",
       "      <td>fc</td>\n",
       "      <td>reduced_gg</td>\n",
       "    </tr>\n",
       "    <tr>\n",
       "      <th>3</th>\n",
       "      <td>ecmf</td>\n",
       "      <td>r</td>\n",
       "      <td>isobaricInhPa</td>\n",
       "      <td>500</td>\n",
       "      <td>20220608</td>\n",
       "      <td>1200</td>\n",
       "      <td>0</td>\n",
       "      <td>fc</td>\n",
       "      <td>reduced_gg</td>\n",
       "    </tr>\n",
       "    <tr>\n",
       "      <th>4</th>\n",
       "      <td>ecmf</td>\n",
       "      <td>r</td>\n",
       "      <td>isobaricInhPa</td>\n",
       "      <td>400</td>\n",
       "      <td>20220608</td>\n",
       "      <td>1200</td>\n",
       "      <td>0</td>\n",
       "      <td>fc</td>\n",
       "      <td>reduced_gg</td>\n",
       "    </tr>\n",
       "    <tr>\n",
       "      <th>5</th>\n",
       "      <td>ecmf</td>\n",
       "      <td>r</td>\n",
       "      <td>isobaricInhPa</td>\n",
       "      <td>300</td>\n",
       "      <td>20220608</td>\n",
       "      <td>1200</td>\n",
       "      <td>0</td>\n",
       "      <td>fc</td>\n",
       "      <td>reduced_gg</td>\n",
       "    </tr>\n",
       "  </tbody>\n",
       "</table>\n",
       "</div>"
      ],
      "text/plain": [
       "        centre shortName  typeOfLevel    level  dataDate  dataTime stepRange  \\\n",
       "Message                                                                        \n",
       "0        ecmf       r     isobaricInhPa  1000   20220608    1200        0      \n",
       "1        ecmf       r     isobaricInhPa   850   20220608    1200        0      \n",
       "2        ecmf       r     isobaricInhPa   700   20220608    1200        0      \n",
       "3        ecmf       r     isobaricInhPa   500   20220608    1200        0      \n",
       "4        ecmf       r     isobaricInhPa   400   20220608    1200        0      \n",
       "5        ecmf       r     isobaricInhPa   300   20220608    1200        0      \n",
       "\n",
       "        dataType   gridType   \n",
       "Message                       \n",
       "0          fc     reduced_gg  \n",
       "1          fc     reduced_gg  \n",
       "2          fc     reduced_gg  \n",
       "3          fc     reduced_gg  \n",
       "4          fc     reduced_gg  \n",
       "5          fc     reduced_gg  "
      ]
     },
     "execution_count": 21,
     "metadata": {},
     "output_type": "execute_result"
    }
   ],
   "source": [
    "# select() method, various ways\n",
    "data.select(shortName='r').ls()"
   ]
  },
  {
   "cell_type": "code",
   "execution_count": 22,
   "id": "21a72d94",
   "metadata": {},
   "outputs": [
    {
     "data": {
      "text/html": [
       "<div>\n",
       "<style scoped>\n",
       "    .dataframe tbody tr th:only-of-type {\n",
       "        vertical-align: middle;\n",
       "    }\n",
       "\n",
       "    .dataframe tbody tr th {\n",
       "        vertical-align: top;\n",
       "    }\n",
       "\n",
       "    .dataframe thead th {\n",
       "        text-align: right;\n",
       "    }\n",
       "</style>\n",
       "<table border=\"1\" class=\"dataframe\">\n",
       "  <thead>\n",
       "    <tr style=\"text-align: center;\">\n",
       "      <th></th>\n",
       "      <th>centre</th>\n",
       "      <th>shortName</th>\n",
       "      <th>typeOfLevel</th>\n",
       "      <th>level</th>\n",
       "      <th>dataDate</th>\n",
       "      <th>dataTime</th>\n",
       "      <th>stepRange</th>\n",
       "      <th>dataType</th>\n",
       "      <th>gridType</th>\n",
       "    </tr>\n",
       "    <tr>\n",
       "      <th>Message</th>\n",
       "      <th></th>\n",
       "      <th></th>\n",
       "      <th></th>\n",
       "      <th></th>\n",
       "      <th></th>\n",
       "      <th></th>\n",
       "      <th></th>\n",
       "      <th></th>\n",
       "      <th></th>\n",
       "    </tr>\n",
       "  </thead>\n",
       "  <tbody>\n",
       "    <tr>\n",
       "      <th>0</th>\n",
       "      <td>ecmf</td>\n",
       "      <td>r</td>\n",
       "      <td>isobaricInhPa</td>\n",
       "      <td>850</td>\n",
       "      <td>20220608</td>\n",
       "      <td>1200</td>\n",
       "      <td>0</td>\n",
       "      <td>fc</td>\n",
       "      <td>reduced_gg</td>\n",
       "    </tr>\n",
       "  </tbody>\n",
       "</table>\n",
       "</div>"
      ],
      "text/plain": [
       "        centre shortName  typeOfLevel    level  dataDate  dataTime stepRange  \\\n",
       "Message                                                                        \n",
       "0        ecmf       r     isobaricInhPa   850   20220608    1200        0      \n",
       "\n",
       "        dataType   gridType   \n",
       "Message                       \n",
       "0          fc     reduced_gg  "
      ]
     },
     "execution_count": 22,
     "metadata": {},
     "output_type": "execute_result"
    }
   ],
   "source": [
    "data.select(shortName='r', level=850).ls()"
   ]
  },
  {
   "cell_type": "code",
   "execution_count": 23,
   "id": "375b2ee5",
   "metadata": {},
   "outputs": [
    {
     "data": {
      "text/html": [
       "<div>\n",
       "<style scoped>\n",
       "    .dataframe tbody tr th:only-of-type {\n",
       "        vertical-align: middle;\n",
       "    }\n",
       "\n",
       "    .dataframe tbody tr th {\n",
       "        vertical-align: top;\n",
       "    }\n",
       "\n",
       "    .dataframe thead th {\n",
       "        text-align: right;\n",
       "    }\n",
       "</style>\n",
       "<table border=\"1\" class=\"dataframe\">\n",
       "  <thead>\n",
       "    <tr style=\"text-align: center;\">\n",
       "      <th></th>\n",
       "      <th>centre</th>\n",
       "      <th>shortName</th>\n",
       "      <th>typeOfLevel</th>\n",
       "      <th>level</th>\n",
       "      <th>dataDate</th>\n",
       "      <th>dataTime</th>\n",
       "      <th>stepRange</th>\n",
       "      <th>dataType</th>\n",
       "      <th>gridType</th>\n",
       "    </tr>\n",
       "    <tr>\n",
       "      <th>Message</th>\n",
       "      <th></th>\n",
       "      <th></th>\n",
       "      <th></th>\n",
       "      <th></th>\n",
       "      <th></th>\n",
       "      <th></th>\n",
       "      <th></th>\n",
       "      <th></th>\n",
       "      <th></th>\n",
       "    </tr>\n",
       "  </thead>\n",
       "  <tbody>\n",
       "    <tr>\n",
       "      <th>0</th>\n",
       "      <td>ecmf</td>\n",
       "      <td>r</td>\n",
       "      <td>isobaricInhPa</td>\n",
       "      <td>500</td>\n",
       "      <td>20220608</td>\n",
       "      <td>1200</td>\n",
       "      <td>0</td>\n",
       "      <td>fc</td>\n",
       "      <td>reduced_gg</td>\n",
       "    </tr>\n",
       "  </tbody>\n",
       "</table>\n",
       "</div>"
      ],
      "text/plain": [
       "        centre shortName  typeOfLevel    level  dataDate  dataTime stepRange  \\\n",
       "Message                                                                        \n",
       "0        ecmf       r     isobaricInhPa   500   20220608    1200        0      \n",
       "\n",
       "        dataType   gridType   \n",
       "Message                       \n",
       "0          fc     reduced_gg  "
      ]
     },
     "execution_count": 23,
     "metadata": {},
     "output_type": "execute_result"
    }
   ],
   "source": [
    "# put the selection criteria into a dict, then modify it before using\n",
    "criteria = {\"shortName\": \"r\", \"level\": 850}\n",
    "criteria.update({\"level\": 500})\n",
    "data.select(criteria).ls()"
   ]
  },
  {
   "cell_type": "code",
   "execution_count": 24,
   "id": "21a0d919",
   "metadata": {},
   "outputs": [
    {
     "data": {
      "text/html": [
       "<div>\n",
       "<style scoped>\n",
       "    .dataframe tbody tr th:only-of-type {\n",
       "        vertical-align: middle;\n",
       "    }\n",
       "\n",
       "    .dataframe tbody tr th {\n",
       "        vertical-align: top;\n",
       "    }\n",
       "\n",
       "    .dataframe thead th {\n",
       "        text-align: right;\n",
       "    }\n",
       "</style>\n",
       "<table border=\"1\" class=\"dataframe\">\n",
       "  <thead>\n",
       "    <tr style=\"text-align: center;\">\n",
       "      <th></th>\n",
       "      <th>centre</th>\n",
       "      <th>shortName</th>\n",
       "      <th>typeOfLevel</th>\n",
       "      <th>level</th>\n",
       "      <th>dataDate</th>\n",
       "      <th>dataTime</th>\n",
       "      <th>stepRange</th>\n",
       "      <th>dataType</th>\n",
       "      <th>gridType</th>\n",
       "    </tr>\n",
       "    <tr>\n",
       "      <th>Message</th>\n",
       "      <th></th>\n",
       "      <th></th>\n",
       "      <th></th>\n",
       "      <th></th>\n",
       "      <th></th>\n",
       "      <th></th>\n",
       "      <th></th>\n",
       "      <th></th>\n",
       "      <th></th>\n",
       "    </tr>\n",
       "  </thead>\n",
       "  <tbody>\n",
       "    <tr>\n",
       "      <th>0</th>\n",
       "      <td>ecmf</td>\n",
       "      <td>r</td>\n",
       "      <td>isobaricInhPa</td>\n",
       "      <td>500</td>\n",
       "      <td>20220608</td>\n",
       "      <td>1200</td>\n",
       "      <td>0</td>\n",
       "      <td>fc</td>\n",
       "      <td>reduced_gg</td>\n",
       "    </tr>\n",
       "  </tbody>\n",
       "</table>\n",
       "</div>"
      ],
      "text/plain": [
       "        centre shortName  typeOfLevel    level  dataDate  dataTime stepRange  \\\n",
       "Message                                                                        \n",
       "0        ecmf       r     isobaricInhPa   500   20220608    1200        0      \n",
       "\n",
       "        dataType   gridType   \n",
       "Message                       \n",
       "0          fc     reduced_gg  "
      ]
     },
     "execution_count": 24,
     "metadata": {},
     "output_type": "execute_result"
    }
   ],
   "source": [
    "# shorthand way of expressing parameters and levels\n",
    "data['r500'].ls()"
   ]
  },
  {
   "cell_type": "code",
   "execution_count": 25,
   "id": "f04559be",
   "metadata": {},
   "outputs": [
    {
     "data": {
      "text/html": [
       "<div>\n",
       "<style scoped>\n",
       "    .dataframe tbody tr th:only-of-type {\n",
       "        vertical-align: middle;\n",
       "    }\n",
       "\n",
       "    .dataframe tbody tr th {\n",
       "        vertical-align: top;\n",
       "    }\n",
       "\n",
       "    .dataframe thead th {\n",
       "        text-align: right;\n",
       "    }\n",
       "</style>\n",
       "<table border=\"1\" class=\"dataframe\">\n",
       "  <thead>\n",
       "    <tr style=\"text-align: center;\">\n",
       "      <th></th>\n",
       "      <th>centre</th>\n",
       "      <th>shortName</th>\n",
       "      <th>typeOfLevel</th>\n",
       "      <th>level</th>\n",
       "      <th>dataDate</th>\n",
       "      <th>dataTime</th>\n",
       "      <th>stepRange</th>\n",
       "      <th>dataType</th>\n",
       "      <th>gridType</th>\n",
       "    </tr>\n",
       "    <tr>\n",
       "      <th>Message</th>\n",
       "      <th></th>\n",
       "      <th></th>\n",
       "      <th></th>\n",
       "      <th></th>\n",
       "      <th></th>\n",
       "      <th></th>\n",
       "      <th></th>\n",
       "      <th></th>\n",
       "      <th></th>\n",
       "    </tr>\n",
       "  </thead>\n",
       "  <tbody>\n",
       "    <tr>\n",
       "      <th>0</th>\n",
       "      <td>ecmf</td>\n",
       "      <td>r</td>\n",
       "      <td>isobaricInhPa</td>\n",
       "      <td>300</td>\n",
       "      <td>20220608</td>\n",
       "      <td>1200</td>\n",
       "      <td>0</td>\n",
       "      <td>fc</td>\n",
       "      <td>reduced_gg</td>\n",
       "    </tr>\n",
       "  </tbody>\n",
       "</table>\n",
       "</div>"
      ],
      "text/plain": [
       "        centre shortName  typeOfLevel    level  dataDate  dataTime stepRange  \\\n",
       "Message                                                                        \n",
       "0        ecmf       r     isobaricInhPa   300   20220608    1200        0      \n",
       "\n",
       "        dataType   gridType   \n",
       "Message                       \n",
       "0          fc     reduced_gg  "
      ]
     },
     "execution_count": 25,
     "metadata": {},
     "output_type": "execute_result"
    }
   ],
   "source": [
    "# specify units - useful if different level types in the same fieldset\n",
    "data['r300hPa'].ls()"
   ]
  },
  {
   "cell_type": "markdown",
   "id": "82572357",
   "metadata": {},
   "source": [
    "## Combining fields"
   ]
  },
  {
   "cell_type": "code",
   "execution_count": 26,
   "id": "1abd3008",
   "metadata": {},
   "outputs": [
    {
     "name": "stdout",
     "output_type": "stream",
     "text": [
      "Fieldset (1 field) Fieldset (2 fields) Fieldset (6 fields) Fieldset (1 field)\n"
     ]
    }
   ],
   "source": [
    "# generate 4 fieldsets - one will be from another GRIB file to show that we can\n",
    "# combine fields from any number of different files\n",
    "\n",
    "a = data[5]\n",
    "b = data[78:80]\n",
    "c = data['z']\n",
    "d = mv.read('reversed.grib')[0]\n",
    "print(a, b, c, d)"
   ]
  },
  {
   "cell_type": "code",
   "execution_count": 27,
   "id": "97c12536",
   "metadata": {},
   "outputs": [
    {
     "data": {
      "text/html": [
       "<div>\n",
       "<style scoped>\n",
       "    .dataframe tbody tr th:only-of-type {\n",
       "        vertical-align: middle;\n",
       "    }\n",
       "\n",
       "    .dataframe tbody tr th {\n",
       "        vertical-align: top;\n",
       "    }\n",
       "\n",
       "    .dataframe thead th {\n",
       "        text-align: right;\n",
       "    }\n",
       "</style>\n",
       "<table border=\"1\" class=\"dataframe\">\n",
       "  <thead>\n",
       "    <tr style=\"text-align: center;\">\n",
       "      <th></th>\n",
       "      <th>centre</th>\n",
       "      <th>shortName</th>\n",
       "      <th>typeOfLevel</th>\n",
       "      <th>level</th>\n",
       "      <th>dataDate</th>\n",
       "      <th>dataTime</th>\n",
       "      <th>stepRange</th>\n",
       "      <th>dataType</th>\n",
       "      <th>gridType</th>\n",
       "    </tr>\n",
       "    <tr>\n",
       "      <th>Message</th>\n",
       "      <th></th>\n",
       "      <th></th>\n",
       "      <th></th>\n",
       "      <th></th>\n",
       "      <th></th>\n",
       "      <th></th>\n",
       "      <th></th>\n",
       "      <th></th>\n",
       "      <th></th>\n",
       "    </tr>\n",
       "  </thead>\n",
       "  <tbody>\n",
       "    <tr>\n",
       "      <th>0</th>\n",
       "      <td>ecmf</td>\n",
       "      <td>r</td>\n",
       "      <td>isobaricInhPa</td>\n",
       "      <td>700</td>\n",
       "      <td>20220608</td>\n",
       "      <td>1200</td>\n",
       "      <td>0</td>\n",
       "      <td>fc</td>\n",
       "      <td>reduced_gg</td>\n",
       "    </tr>\n",
       "    <tr>\n",
       "      <th>1</th>\n",
       "      <td>ecmf</td>\n",
       "      <td>t</td>\n",
       "      <td>isobaricInhPa</td>\n",
       "      <td>1000</td>\n",
       "      <td>20220608</td>\n",
       "      <td>1200</td>\n",
       "      <td>66</td>\n",
       "      <td>fc</td>\n",
       "      <td>reduced_gg</td>\n",
       "    </tr>\n",
       "    <tr>\n",
       "      <th>2</th>\n",
       "      <td>ecmf</td>\n",
       "      <td>t</td>\n",
       "      <td>isobaricInhPa</td>\n",
       "      <td>850</td>\n",
       "      <td>20220608</td>\n",
       "      <td>1200</td>\n",
       "      <td>66</td>\n",
       "      <td>fc</td>\n",
       "      <td>reduced_gg</td>\n",
       "    </tr>\n",
       "    <tr>\n",
       "      <th>3</th>\n",
       "      <td>ecmf</td>\n",
       "      <td>z</td>\n",
       "      <td>isobaricInhPa</td>\n",
       "      <td>1000</td>\n",
       "      <td>20220608</td>\n",
       "      <td>1200</td>\n",
       "      <td>0</td>\n",
       "      <td>fc</td>\n",
       "      <td>reduced_gg</td>\n",
       "    </tr>\n",
       "    <tr>\n",
       "      <th>4</th>\n",
       "      <td>ecmf</td>\n",
       "      <td>z</td>\n",
       "      <td>isobaricInhPa</td>\n",
       "      <td>850</td>\n",
       "      <td>20220608</td>\n",
       "      <td>1200</td>\n",
       "      <td>0</td>\n",
       "      <td>fc</td>\n",
       "      <td>reduced_gg</td>\n",
       "    </tr>\n",
       "    <tr>\n",
       "      <th>5</th>\n",
       "      <td>ecmf</td>\n",
       "      <td>z</td>\n",
       "      <td>isobaricInhPa</td>\n",
       "      <td>700</td>\n",
       "      <td>20220608</td>\n",
       "      <td>1200</td>\n",
       "      <td>0</td>\n",
       "      <td>fc</td>\n",
       "      <td>reduced_gg</td>\n",
       "    </tr>\n",
       "    <tr>\n",
       "      <th>6</th>\n",
       "      <td>ecmf</td>\n",
       "      <td>z</td>\n",
       "      <td>isobaricInhPa</td>\n",
       "      <td>500</td>\n",
       "      <td>20220608</td>\n",
       "      <td>1200</td>\n",
       "      <td>0</td>\n",
       "      <td>fc</td>\n",
       "      <td>reduced_gg</td>\n",
       "    </tr>\n",
       "    <tr>\n",
       "      <th>7</th>\n",
       "      <td>ecmf</td>\n",
       "      <td>z</td>\n",
       "      <td>isobaricInhPa</td>\n",
       "      <td>400</td>\n",
       "      <td>20220608</td>\n",
       "      <td>1200</td>\n",
       "      <td>0</td>\n",
       "      <td>fc</td>\n",
       "      <td>reduced_gg</td>\n",
       "    </tr>\n",
       "    <tr>\n",
       "      <th>8</th>\n",
       "      <td>ecmf</td>\n",
       "      <td>z</td>\n",
       "      <td>isobaricInhPa</td>\n",
       "      <td>300</td>\n",
       "      <td>20220608</td>\n",
       "      <td>1200</td>\n",
       "      <td>0</td>\n",
       "      <td>fc</td>\n",
       "      <td>reduced_gg</td>\n",
       "    </tr>\n",
       "    <tr>\n",
       "      <th>9</th>\n",
       "      <td>ecmf</td>\n",
       "      <td>t</td>\n",
       "      <td>isobaricInhPa</td>\n",
       "      <td>300</td>\n",
       "      <td>20220608</td>\n",
       "      <td>1200</td>\n",
       "      <td>72</td>\n",
       "      <td>fc</td>\n",
       "      <td>reduced_gg</td>\n",
       "    </tr>\n",
       "  </tbody>\n",
       "</table>\n",
       "</div>"
      ],
      "text/plain": [
       "        centre shortName  typeOfLevel    level  dataDate  dataTime stepRange  \\\n",
       "Message                                                                        \n",
       "0        ecmf       r     isobaricInhPa   700   20220608    1200        0      \n",
       "1        ecmf       t     isobaricInhPa  1000   20220608    1200       66      \n",
       "2        ecmf       t     isobaricInhPa   850   20220608    1200       66      \n",
       "3        ecmf       z     isobaricInhPa  1000   20220608    1200        0      \n",
       "4        ecmf       z     isobaricInhPa   850   20220608    1200        0      \n",
       "5        ecmf       z     isobaricInhPa   700   20220608    1200        0      \n",
       "6        ecmf       z     isobaricInhPa   500   20220608    1200        0      \n",
       "7        ecmf       z     isobaricInhPa   400   20220608    1200        0      \n",
       "8        ecmf       z     isobaricInhPa   300   20220608    1200        0      \n",
       "9        ecmf       t     isobaricInhPa   300   20220608    1200       72      \n",
       "\n",
       "        dataType   gridType   \n",
       "Message                       \n",
       "0          fc     reduced_gg  \n",
       "1          fc     reduced_gg  \n",
       "2          fc     reduced_gg  \n",
       "3          fc     reduced_gg  \n",
       "4          fc     reduced_gg  \n",
       "5          fc     reduced_gg  \n",
       "6          fc     reduced_gg  \n",
       "7          fc     reduced_gg  \n",
       "8          fc     reduced_gg  \n",
       "9          fc     reduced_gg  "
      ]
     },
     "execution_count": 27,
     "metadata": {},
     "output_type": "execute_result"
    }
   ],
   "source": [
    "# create a new Fieldset out of existing ones\n",
    "combined = mv.merge(a, b, c, d)\n",
    "combined.ls()"
   ]
  },
  {
   "cell_type": "code",
   "execution_count": 28,
   "id": "7c8005b7",
   "metadata": {},
   "outputs": [
    {
     "data": {
      "text/html": [
       "<div>\n",
       "<style scoped>\n",
       "    .dataframe tbody tr th:only-of-type {\n",
       "        vertical-align: middle;\n",
       "    }\n",
       "\n",
       "    .dataframe tbody tr th {\n",
       "        vertical-align: top;\n",
       "    }\n",
       "\n",
       "    .dataframe thead th {\n",
       "        text-align: right;\n",
       "    }\n",
       "</style>\n",
       "<table border=\"1\" class=\"dataframe\">\n",
       "  <thead>\n",
       "    <tr style=\"text-align: center;\">\n",
       "      <th></th>\n",
       "      <th>centre</th>\n",
       "      <th>shortName</th>\n",
       "      <th>typeOfLevel</th>\n",
       "      <th>level</th>\n",
       "      <th>dataDate</th>\n",
       "      <th>dataTime</th>\n",
       "      <th>stepRange</th>\n",
       "      <th>dataType</th>\n",
       "      <th>gridType</th>\n",
       "    </tr>\n",
       "    <tr>\n",
       "      <th>Message</th>\n",
       "      <th></th>\n",
       "      <th></th>\n",
       "      <th></th>\n",
       "      <th></th>\n",
       "      <th></th>\n",
       "      <th></th>\n",
       "      <th></th>\n",
       "      <th></th>\n",
       "      <th></th>\n",
       "    </tr>\n",
       "  </thead>\n",
       "  <tbody>\n",
       "    <tr>\n",
       "      <th>0</th>\n",
       "      <td>ecmf</td>\n",
       "      <td>r</td>\n",
       "      <td>isobaricInhPa</td>\n",
       "      <td>700</td>\n",
       "      <td>20220608</td>\n",
       "      <td>1200</td>\n",
       "      <td>0</td>\n",
       "      <td>fc</td>\n",
       "      <td>reduced_gg</td>\n",
       "    </tr>\n",
       "    <tr>\n",
       "      <th>1</th>\n",
       "      <td>ecmf</td>\n",
       "      <td>t</td>\n",
       "      <td>isobaricInhPa</td>\n",
       "      <td>1000</td>\n",
       "      <td>20220608</td>\n",
       "      <td>1200</td>\n",
       "      <td>66</td>\n",
       "      <td>fc</td>\n",
       "      <td>reduced_gg</td>\n",
       "    </tr>\n",
       "    <tr>\n",
       "      <th>2</th>\n",
       "      <td>ecmf</td>\n",
       "      <td>t</td>\n",
       "      <td>isobaricInhPa</td>\n",
       "      <td>850</td>\n",
       "      <td>20220608</td>\n",
       "      <td>1200</td>\n",
       "      <td>66</td>\n",
       "      <td>fc</td>\n",
       "      <td>reduced_gg</td>\n",
       "    </tr>\n",
       "    <tr>\n",
       "      <th>3</th>\n",
       "      <td>ecmf</td>\n",
       "      <td>z</td>\n",
       "      <td>isobaricInhPa</td>\n",
       "      <td>1000</td>\n",
       "      <td>20220608</td>\n",
       "      <td>1200</td>\n",
       "      <td>0</td>\n",
       "      <td>fc</td>\n",
       "      <td>reduced_gg</td>\n",
       "    </tr>\n",
       "    <tr>\n",
       "      <th>4</th>\n",
       "      <td>ecmf</td>\n",
       "      <td>z</td>\n",
       "      <td>isobaricInhPa</td>\n",
       "      <td>850</td>\n",
       "      <td>20220608</td>\n",
       "      <td>1200</td>\n",
       "      <td>0</td>\n",
       "      <td>fc</td>\n",
       "      <td>reduced_gg</td>\n",
       "    </tr>\n",
       "    <tr>\n",
       "      <th>5</th>\n",
       "      <td>ecmf</td>\n",
       "      <td>z</td>\n",
       "      <td>isobaricInhPa</td>\n",
       "      <td>700</td>\n",
       "      <td>20220608</td>\n",
       "      <td>1200</td>\n",
       "      <td>0</td>\n",
       "      <td>fc</td>\n",
       "      <td>reduced_gg</td>\n",
       "    </tr>\n",
       "    <tr>\n",
       "      <th>6</th>\n",
       "      <td>ecmf</td>\n",
       "      <td>z</td>\n",
       "      <td>isobaricInhPa</td>\n",
       "      <td>500</td>\n",
       "      <td>20220608</td>\n",
       "      <td>1200</td>\n",
       "      <td>0</td>\n",
       "      <td>fc</td>\n",
       "      <td>reduced_gg</td>\n",
       "    </tr>\n",
       "    <tr>\n",
       "      <th>7</th>\n",
       "      <td>ecmf</td>\n",
       "      <td>z</td>\n",
       "      <td>isobaricInhPa</td>\n",
       "      <td>400</td>\n",
       "      <td>20220608</td>\n",
       "      <td>1200</td>\n",
       "      <td>0</td>\n",
       "      <td>fc</td>\n",
       "      <td>reduced_gg</td>\n",
       "    </tr>\n",
       "    <tr>\n",
       "      <th>8</th>\n",
       "      <td>ecmf</td>\n",
       "      <td>z</td>\n",
       "      <td>isobaricInhPa</td>\n",
       "      <td>300</td>\n",
       "      <td>20220608</td>\n",
       "      <td>1200</td>\n",
       "      <td>0</td>\n",
       "      <td>fc</td>\n",
       "      <td>reduced_gg</td>\n",
       "    </tr>\n",
       "    <tr>\n",
       "      <th>9</th>\n",
       "      <td>ecmf</td>\n",
       "      <td>t</td>\n",
       "      <td>isobaricInhPa</td>\n",
       "      <td>300</td>\n",
       "      <td>20220608</td>\n",
       "      <td>1200</td>\n",
       "      <td>72</td>\n",
       "      <td>fc</td>\n",
       "      <td>reduced_gg</td>\n",
       "    </tr>\n",
       "  </tbody>\n",
       "</table>\n",
       "</div>"
      ],
      "text/plain": [
       "        centre shortName  typeOfLevel    level  dataDate  dataTime stepRange  \\\n",
       "Message                                                                        \n",
       "0        ecmf       r     isobaricInhPa   700   20220608    1200        0      \n",
       "1        ecmf       t     isobaricInhPa  1000   20220608    1200       66      \n",
       "2        ecmf       t     isobaricInhPa   850   20220608    1200       66      \n",
       "3        ecmf       z     isobaricInhPa  1000   20220608    1200        0      \n",
       "4        ecmf       z     isobaricInhPa   850   20220608    1200        0      \n",
       "5        ecmf       z     isobaricInhPa   700   20220608    1200        0      \n",
       "6        ecmf       z     isobaricInhPa   500   20220608    1200        0      \n",
       "7        ecmf       z     isobaricInhPa   400   20220608    1200        0      \n",
       "8        ecmf       z     isobaricInhPa   300   20220608    1200        0      \n",
       "9        ecmf       t     isobaricInhPa   300   20220608    1200       72      \n",
       "\n",
       "        dataType   gridType   \n",
       "Message                       \n",
       "0          fc     reduced_gg  \n",
       "1          fc     reduced_gg  \n",
       "2          fc     reduced_gg  \n",
       "3          fc     reduced_gg  \n",
       "4          fc     reduced_gg  \n",
       "5          fc     reduced_gg  \n",
       "6          fc     reduced_gg  \n",
       "7          fc     reduced_gg  \n",
       "8          fc     reduced_gg  \n",
       "9          fc     reduced_gg  "
      ]
     },
     "execution_count": 28,
     "metadata": {},
     "output_type": "execute_result"
    }
   ],
   "source": [
    "# use the Fieldset constructor to do the same thing from a\n",
    "# list of Fieldsets\n",
    "combined = mv.Fieldset(fields=[a, b, c, d])\n",
    "combined.ls()"
   ]
  },
  {
   "cell_type": "code",
   "execution_count": 29,
   "id": "a5f8da09",
   "metadata": {},
   "outputs": [
    {
     "name": "stdout",
     "output_type": "stream",
     "text": [
      "Fieldset (10 fields)\n",
      "Fieldset (12 fields)\n"
     ]
    }
   ],
   "source": [
    "# append to an existing Fieldset\n",
    "print(combined)\n",
    "combined.append(b)\n",
    "print(combined)"
   ]
  },
  {
   "cell_type": "markdown",
   "id": "d2ce9ea4",
   "metadata": {},
   "source": [
    "# Point selection"
   ]
  },
  {
   "cell_type": "markdown",
   "id": "3cf88d5d",
   "metadata": {},
   "source": [
    "## Area cropping"
   ]
  },
  {
   "cell_type": "code",
   "execution_count": 32,
   "id": "edf79db3",
   "metadata": {},
   "outputs": [
    {
     "data": {
      "application/vnd.jupyter.widget-view+json": {
       "model_id": "c33116330de843fe9b1013c18a68d747",
       "version_major": 2,
       "version_minor": 0
      },
      "text/plain": [
       "Image(value=b'', layout=\"Layout(visibility='hidden')\")"
      ]
     },
     "metadata": {},
     "output_type": "display_data"
    },
    {
     "data": {
      "application/vnd.jupyter.widget-view+json": {
       "model_id": "868d7439a58f4396af0e4add2ec025a3",
       "version_major": 2,
       "version_minor": 0
      },
      "text/plain": [
       "Label(value='Generating plots....')"
      ]
     },
     "metadata": {},
     "output_type": "display_data"
    },
    {
     "data": {
      "application/vnd.jupyter.widget-view+json": {
       "model_id": "5b98978fa3c04ad883df361c7c5b6eb2",
       "version_major": 2,
       "version_minor": 0
      },
      "text/plain": [
       "VBox(children=(IntSlider(value=1, description='Frame:', layout=Layout(width='800px'), max=1, min=1), HBox(chil…"
      ]
     },
     "metadata": {},
     "output_type": "display_data"
    }
   ],
   "source": [
    "# first plot the data (first 5 fields) to see what we've got\n",
    "few_fields = data[9:14]\n",
    "mv.plot(few_fields)"
   ]
  },
  {
   "cell_type": "code",
   "execution_count": 33,
   "id": "0d6047ff",
   "metadata": {},
   "outputs": [],
   "source": [
    "# select an area [N,W,S,E]\n",
    "data_area = [70, -25, 28, 45]\n",
    "data_on_subarea = mv.read(data=few_fields, area=data_area)"
   ]
  },
  {
   "cell_type": "code",
   "execution_count": 34,
   "id": "64b24373",
   "metadata": {},
   "outputs": [
    {
     "data": {
      "application/vnd.jupyter.widget-view+json": {
       "model_id": "e2d97dcd4c854b40a8c44e3738a7da8f",
       "version_major": 2,
       "version_minor": 0
      },
      "text/plain": [
       "Image(value=b'', layout=\"Layout(visibility='hidden')\")"
      ]
     },
     "metadata": {},
     "output_type": "display_data"
    },
    {
     "data": {
      "application/vnd.jupyter.widget-view+json": {
       "model_id": "598a6a2b7cfc45389594b9c84a674f35",
       "version_major": 2,
       "version_minor": 0
      },
      "text/plain": [
       "Label(value='Generating plots....')"
      ]
     },
     "metadata": {},
     "output_type": "display_data"
    },
    {
     "data": {
      "application/vnd.jupyter.widget-view+json": {
       "model_id": "20b1173121494921ac586caa6c48c331",
       "version_major": 2,
       "version_minor": 0
      },
      "text/plain": [
       "VBox(children=(IntSlider(value=1, description='Frame:', layout=Layout(width='800px'), max=1, min=1), HBox(chil…"
      ]
     },
     "metadata": {},
     "output_type": "display_data"
    }
   ],
   "source": [
    "# plot the filelds to see\n",
    "mv.plot(data_on_subarea)"
   ]
  },
  {
   "cell_type": "code",
   "execution_count": 35,
   "id": "dccac302",
   "metadata": {},
   "outputs": [
    {
     "data": {
      "application/vnd.jupyter.widget-view+json": {
       "model_id": "6a1bb45d7d97485aabf873b505564973",
       "version_major": 2,
       "version_minor": 0
      },
      "text/plain": [
       "Image(value=b'', layout=\"Layout(visibility='hidden')\")"
      ]
     },
     "metadata": {},
     "output_type": "display_data"
    },
    {
     "data": {
      "application/vnd.jupyter.widget-view+json": {
       "model_id": "c220ec270d8a49c18eb1e1cece0fd4c0",
       "version_major": 2,
       "version_minor": 0
      },
      "text/plain": [
       "Label(value='Generating plots....')"
      ]
     },
     "metadata": {},
     "output_type": "display_data"
    },
    {
     "data": {
      "application/vnd.jupyter.widget-view+json": {
       "model_id": "4182ad6930264407a1d27c3b21716e6a",
       "version_major": 2,
       "version_minor": 0
      },
      "text/plain": [
       "VBox(children=(IntSlider(value=1, description='Frame:', layout=Layout(width='800px'), max=1, min=1), HBox(chil…"
      ]
     },
     "metadata": {},
     "output_type": "display_data"
    }
   ],
   "source": [
    "# add some automatic styling and zoom into the area\n",
    "view = mv.geoview(map_area_definition=\"corners\", area=data_area)\n",
    "cont_auto = mv.mcont(legend=True, contour_automatic_setting=\"ecmwf\", grib_scaling_of_derived_fields=True)\n",
    "mv.plot(view, data_on_subarea, cont_auto)"
   ]
  },
  {
   "cell_type": "markdown",
   "id": "fc35f91a",
   "metadata": {},
   "source": [
    "## Point reduction with regridding"
   ]
  },
  {
   "cell_type": "code",
   "execution_count": 36,
   "id": "5ce32b37",
   "metadata": {},
   "outputs": [
    {
     "data": {
      "application/vnd.jupyter.widget-view+json": {
       "model_id": "c2e783340ebb47fdae8726bab99e75f7",
       "version_major": 2,
       "version_minor": 0
      },
      "text/plain": [
       "Image(value=b'', layout=\"Layout(visibility='hidden')\")"
      ]
     },
     "metadata": {},
     "output_type": "display_data"
    },
    {
     "data": {
      "application/vnd.jupyter.widget-view+json": {
       "model_id": "47632cdf04704ba89eb83f31ddbb458b",
       "version_major": 2,
       "version_minor": 0
      },
      "text/plain": [
       "Label(value='Generating plots....')"
      ]
     },
     "metadata": {},
     "output_type": "display_data"
    }
   ],
   "source": [
    "# let's plot the data points to see what the grid looks like\n",
    "gridpoint_markers = mv.mcont(\n",
    "    contour                          = \"off\",\n",
    "    contour_grid_value_plot          = \"on\",\n",
    "    contour_grid_value_plot_type     = \"marker\",\n",
    "    )\n",
    "mv.plot(view, data_on_subarea[0], gridpoint_markers)"
   ]
  },
  {
   "cell_type": "code",
   "execution_count": 37,
   "id": "b028c290",
   "metadata": {},
   "outputs": [
    {
     "data": {
      "application/vnd.jupyter.widget-view+json": {
       "model_id": "b8301edde3cd4c06afc22352cfc3c076",
       "version_major": 2,
       "version_minor": 0
      },
      "text/plain": [
       "Image(value=b'', layout=\"Layout(visibility='hidden')\")"
      ]
     },
     "metadata": {},
     "output_type": "display_data"
    },
    {
     "data": {
      "application/vnd.jupyter.widget-view+json": {
       "model_id": "aacf7885b8724b59b1bedba43d94f116",
       "version_major": 2,
       "version_minor": 0
      },
      "text/plain": [
       "Label(value='Generating plots....')"
      ]
     },
     "metadata": {},
     "output_type": "display_data"
    }
   ],
   "source": [
    "# regrid to a lower-resolution octahedral reduced Gaussian grid\n",
    "lowres_data = mv.read(data=data_on_subarea, grid=\"O80\")\n",
    "mv.plot(view, lowres_data[0], gridpoint_markers)"
   ]
  },
  {
   "cell_type": "code",
   "execution_count": 38,
   "id": "3ac779ae",
   "metadata": {},
   "outputs": [
    {
     "data": {
      "application/vnd.jupyter.widget-view+json": {
       "model_id": "ced3768d007b44ec91cd66522b586cb6",
       "version_major": 2,
       "version_minor": 0
      },
      "text/plain": [
       "Image(value=b'', layout=\"Layout(visibility='hidden')\")"
      ]
     },
     "metadata": {},
     "output_type": "display_data"
    },
    {
     "data": {
      "application/vnd.jupyter.widget-view+json": {
       "model_id": "a8f2ab3f4b1d47a4a86d31ef8b608194",
       "version_major": 2,
       "version_minor": 0
      },
      "text/plain": [
       "Label(value='Generating plots....')"
      ]
     },
     "metadata": {},
     "output_type": "display_data"
    }
   ],
   "source": [
    "# regrid to a regular lat/lon grid\n",
    "lowres_data = mv.read(data=data_on_subarea, grid=[3, 3]) # 3 degrees\n",
    "mv.plot(view, lowres_data[0], gridpoint_markers)"
   ]
  },
  {
   "cell_type": "markdown",
   "id": "1b9b9b53",
   "metadata": {},
   "source": [
    "## Masking"
   ]
  },
  {
   "cell_type": "code",
   "execution_count": null,
   "id": "68e9d977",
   "metadata": {},
   "outputs": [],
   "source": [
    "# masking in Metview means defining an area and either:\n",
    "#   creating a field with 1s inside the area and 0s outside (missing=False)\n",
    "#   or\n",
    "#   turning the values outside the area into missing values (missing=True)"
   ]
  },
  {
   "cell_type": "code",
   "execution_count": 39,
   "id": "3985df1f",
   "metadata": {},
   "outputs": [],
   "source": [
    "# we will use temperature data at step 0 to be masked\n",
    "t0 = data.select(shortName='t', step=0)"
   ]
  },
  {
   "cell_type": "markdown",
   "id": "bbacd0a1",
   "metadata": {},
   "source": [
    "### Direct masking\n",
    "This is where we define regions of a field to be preserved, while the points outside those regions are filled with missing values."
   ]
  },
  {
   "cell_type": "code",
   "execution_count": 40,
   "id": "d3a81d49",
   "metadata": {},
   "outputs": [
    {
     "name": "stdout",
     "output_type": "stream",
     "text": [
      "Mean val for first field: 291.3572185481573\n"
     ]
    }
   ],
   "source": [
    "print('Mean val for first field:', t0[0].average())"
   ]
  },
  {
   "cell_type": "code",
   "execution_count": 41,
   "id": "e0bf8837",
   "metadata": {},
   "outputs": [
    {
     "name": "stdout",
     "output_type": "stream",
     "text": [
      "Mean val for first field: 285.9120288890797\n"
     ]
    },
    {
     "data": {
      "application/vnd.jupyter.widget-view+json": {
       "model_id": "e496e916eeef47de90dc7c4509b8da1d",
       "version_major": 2,
       "version_minor": 0
      },
      "text/plain": [
       "Image(value=b'', layout=\"Layout(visibility='hidden')\")"
      ]
     },
     "metadata": {},
     "output_type": "display_data"
    },
    {
     "data": {
      "application/vnd.jupyter.widget-view+json": {
       "model_id": "d715fbfb6a044cb79890e897877cb34a",
       "version_major": 2,
       "version_minor": 0
      },
      "text/plain": [
       "Label(value='Generating plots....')"
      ]
     },
     "metadata": {},
     "output_type": "display_data"
    },
    {
     "data": {
      "application/vnd.jupyter.widget-view+json": {
       "model_id": "0954183970a64db6823ddf41e73f6267",
       "version_major": 2,
       "version_minor": 0
      },
      "text/plain": [
       "VBox(children=(IntSlider(value=1, description='Frame:', layout=Layout(width='800px'), max=1, min=1), HBox(chil…"
      ]
     },
     "metadata": {},
     "output_type": "display_data"
    }
   ],
   "source": [
    "# define a rectangular mask\n",
    "rect_masked_data = mv.mask(t0, [48, -12, 63, 5], missing=True) # [N,W,S,E]\n",
    "print('Mean val for first field:', rect_masked_data[0].average())\n",
    "mv.plot(view, rect_masked_data, cont_auto)"
   ]
  },
  {
   "cell_type": "code",
   "execution_count": 42,
   "id": "a7db54ac",
   "metadata": {},
   "outputs": [
    {
     "name": "stdout",
     "output_type": "stream",
     "text": [
      "Mean val for first field: 286.1655638381272\n"
     ]
    },
    {
     "data": {
      "application/vnd.jupyter.widget-view+json": {
       "model_id": "d542604b80e345a893fa4582064cab5c",
       "version_major": 2,
       "version_minor": 0
      },
      "text/plain": [
       "Image(value=b'', layout=\"Layout(visibility='hidden')\")"
      ]
     },
     "metadata": {},
     "output_type": "display_data"
    },
    {
     "data": {
      "application/vnd.jupyter.widget-view+json": {
       "model_id": "b37ef83da9c6477ea674b345c656c52a",
       "version_major": 2,
       "version_minor": 0
      },
      "text/plain": [
       "Label(value='Generating plots....')"
      ]
     },
     "metadata": {},
     "output_type": "display_data"
    },
    {
     "data": {
      "application/vnd.jupyter.widget-view+json": {
       "model_id": "54a62180b4e4438394324d869c2b0fb9",
       "version_major": 2,
       "version_minor": 0
      },
      "text/plain": [
       "VBox(children=(IntSlider(value=1, description='Frame:', layout=Layout(width='800px'), max=1, min=1), HBox(chil…"
      ]
     },
     "metadata": {},
     "output_type": "display_data"
    }
   ],
   "source": [
    "# define a circular mask - centre in lat/lon, radius in m\n",
    "circ_masked_data = mv.rmask(t0, [55, -4, 800*1000], missing=True) # [N,W,S,E]\n",
    "print('Mean val for first field:', circ_masked_data[0].average())\n",
    "mv.plot(view, circ_masked_data, cont_auto)"
   ]
  },
  {
   "cell_type": "code",
   "execution_count": 43,
   "id": "3d0f5219",
   "metadata": {},
   "outputs": [
    {
     "ename": "ModuleNotFoundError",
     "evalue": "No module named 'shapefile'",
     "output_type": "error",
     "traceback": [
      "\u001b[0;31m---------------------------------------------------------------------------\u001b[0m",
      "\u001b[0;31mModuleNotFoundError\u001b[0m                       Traceback (most recent call last)",
      "\u001b[0;32m<ipython-input-43-fd7c14cfe6bc>\u001b[0m in \u001b[0;36m<module>\u001b[0;34m\u001b[0m\n\u001b[1;32m      1\u001b[0m \u001b[0;31m# polygon area - we will use a shapefile from Magics\u001b[0m\u001b[0;34m\u001b[0m\u001b[0;34m\u001b[0m\u001b[0;34m\u001b[0m\u001b[0m\n\u001b[0;32m----> 2\u001b[0;31m \u001b[0;32mimport\u001b[0m \u001b[0mshapefile\u001b[0m \u001b[0;31m# pip install pyshp\u001b[0m\u001b[0;34m\u001b[0m\u001b[0;34m\u001b[0m\u001b[0m\n\u001b[0m\u001b[1;32m      3\u001b[0m \u001b[0mmetview_dir\u001b[0m \u001b[0;34m=\u001b[0m \u001b[0mmv\u001b[0m\u001b[0;34m.\u001b[0m\u001b[0mversion_info\u001b[0m\u001b[0;34m(\u001b[0m\u001b[0;34m)\u001b[0m\u001b[0;34m[\u001b[0m\u001b[0;34m\"metview_dir\"\u001b[0m\u001b[0;34m]\u001b[0m\u001b[0;34m\u001b[0m\u001b[0;34m\u001b[0m\u001b[0m\n\u001b[1;32m      4\u001b[0m \u001b[0msf\u001b[0m \u001b[0;34m=\u001b[0m \u001b[0mshapefile\u001b[0m\u001b[0;34m.\u001b[0m\u001b[0mReader\u001b[0m\u001b[0;34m(\u001b[0m\u001b[0mmetview_dir\u001b[0m \u001b[0;34m+\u001b[0m \u001b[0;34m\"/../../share/magics/50m/ne_50m_land.shp\"\u001b[0m\u001b[0;34m)\u001b[0m\u001b[0;34m\u001b[0m\u001b[0;34m\u001b[0m\u001b[0m\n",
      "\u001b[0;31mModuleNotFoundError\u001b[0m: No module named 'shapefile'"
     ]
    }
   ],
   "source": [
    "# polygon area - we will use a shapefile from Magics\n",
    "import shapefile # pip install pyshp\n",
    "metview_dir = mv.version_info()[\"metview_dir\"]\n",
    "sf = shapefile.Reader(metview_dir + \"/../../share/magics/50m/ne_50m_land.shp\")"
   ]
  },
  {
   "cell_type": "code",
   "execution_count": null,
   "id": "b86d29f5",
   "metadata": {},
   "outputs": [],
   "source": [
    "# extract the list of points for the Great Britain polygon\n",
    "shapes = sf.shapes()\n",
    "points = shapes[135].points  # GB\n",
    "lats = np.array([p[1] for p in points])\n",
    "lons = np.array([p[0] for p in points])"
   ]
  },
  {
   "cell_type": "code",
   "execution_count": null,
   "id": "99d6701d",
   "metadata": {},
   "outputs": [],
   "source": [
    "poly_masked_data = mv.poly_mask(t0, lats, lons, missing=True)\n",
    "print('Mean val for first field:', poly_masked_data[0].average())\n",
    "mv.plot(view, poly_masked_data, cont_auto)"
   ]
  },
  {
   "cell_type": "markdown",
   "id": "8b3fe3c7",
   "metadata": {},
   "source": [
    "### Indirect masking\n",
    "This is where we generate masks consisting of 1s where the points are inside a given region (or satisfy some other criteria) and 0s otherwise. We can then combine these and use them to provide a missing value mask to any field."
   ]
  },
  {
   "cell_type": "code",
   "execution_count": 44,
   "id": "52c162c5",
   "metadata": {},
   "outputs": [],
   "source": [
    "# contouring for 0 and 1 values\n",
    "mask_1_and_0_contouring = mv.mcont(\n",
    "    legend=\"on\",\n",
    "    contour=\"off\",\n",
    "    contour_level_selection_type=\"level_list\",\n",
    "    contour_level_list=[0, 1, 2],\n",
    "    contour_shade=\"on\",\n",
    "    contour_shade_technique=\"grid_shading\",\n",
    "    contour_shade_max_level_colour=\"red\",\n",
    "    contour_shade_min_level_colour=\"yellow\",\n",
    ")"
   ]
  },
  {
   "cell_type": "code",
   "execution_count": 45,
   "id": "3490ff30",
   "metadata": {},
   "outputs": [
    {
     "data": {
      "application/vnd.jupyter.widget-view+json": {
       "model_id": "e0b5b3bc730f435a8e722387cbe1e842",
       "version_major": 2,
       "version_minor": 0
      },
      "text/plain": [
       "Image(value=b'', layout=\"Layout(visibility='hidden')\")"
      ]
     },
     "metadata": {},
     "output_type": "display_data"
    },
    {
     "data": {
      "application/vnd.jupyter.widget-view+json": {
       "model_id": "feaeebca4b764bbab1cfc80345789115",
       "version_major": 2,
       "version_minor": 0
      },
      "text/plain": [
       "Label(value='Generating plots....')"
      ]
     },
     "metadata": {},
     "output_type": "display_data"
    }
   ],
   "source": [
    "# define a rectangular mask\n",
    "rect_masked_data = mv.mask(t0, [48, -12, 63, 5], missing=False) # [N,W,S,E]\n",
    "mv.plot(view, rect_masked_data[0], mask_1_and_0_contouring)"
   ]
  },
  {
   "cell_type": "code",
   "execution_count": null,
   "id": "508c4e97",
   "metadata": {},
   "outputs": [],
   "source": [
    "# define a circular mask - centre in lat/lon, radius in m\n",
    "circ_masked_data = mv.rmask(t0, [55, -4, 800*1000], missing=False) # [N,W,S,E]\n",
    "mv.plot(view, circ_masked_data[0], mask_1_and_0_contouring)"
   ]
  },
  {
   "cell_type": "code",
   "execution_count": 46,
   "id": "d25af07a",
   "metadata": {},
   "outputs": [
    {
     "data": {
      "application/vnd.jupyter.widget-view+json": {
       "model_id": "a445d83ae277431a93963a2bfe0951ab",
       "version_major": 2,
       "version_minor": 0
      },
      "text/plain": [
       "Image(value=b'', layout=\"Layout(visibility='hidden')\")"
      ]
     },
     "metadata": {},
     "output_type": "display_data"
    },
    {
     "data": {
      "application/vnd.jupyter.widget-view+json": {
       "model_id": "de5a42d0559f4440977e4b79f169a911",
       "version_major": 2,
       "version_minor": 0
      },
      "text/plain": [
       "Label(value='Generating plots....')"
      ]
     },
     "metadata": {},
     "output_type": "display_data"
    },
    {
     "data": {
      "application/vnd.jupyter.widget-view+json": {
       "model_id": "b51e46b5cc9342ef9c9a7a208efbe96a",
       "version_major": 2,
       "version_minor": 0
      },
      "text/plain": [
       "VBox(children=(IntSlider(value=1, description='Frame:', layout=Layout(width='800px'), max=1, min=1), HBox(chil…"
      ]
     },
     "metadata": {},
     "output_type": "display_data"
    }
   ],
   "source": [
    "r0 = data.select(shortName='r', step=0)\n",
    "high_relhum = r0 > 75\n",
    "mv.plot(view, high_relhum, mask_1_and_0_contouring)"
   ]
  },
  {
   "cell_type": "code",
   "execution_count": 47,
   "id": "820691ba",
   "metadata": {},
   "outputs": [
    {
     "data": {
      "application/vnd.jupyter.widget-view+json": {
       "model_id": "6cdf6f891b61425bbd27bcc4bde0b88e",
       "version_major": 2,
       "version_minor": 0
      },
      "text/plain": [
       "Image(value=b'', layout=\"Layout(visibility='hidden')\")"
      ]
     },
     "metadata": {},
     "output_type": "display_data"
    },
    {
     "data": {
      "application/vnd.jupyter.widget-view+json": {
       "model_id": "5e08d5a6577245dbbc67666ce7984680",
       "version_major": 2,
       "version_minor": 0
      },
      "text/plain": [
       "Label(value='Generating plots....')"
      ]
     },
     "metadata": {},
     "output_type": "display_data"
    },
    {
     "data": {
      "application/vnd.jupyter.widget-view+json": {
       "model_id": "b8d8aaa23e3b4864bdd915ddc05eb190",
       "version_major": 2,
       "version_minor": 0
      },
      "text/plain": [
       "VBox(children=(IntSlider(value=1, description='Frame:', layout=Layout(width='800px'), max=1, min=1), HBox(chil…"
      ]
     },
     "metadata": {},
     "output_type": "display_data"
    }
   ],
   "source": [
    "# combine the masks with the 'or' operator (only useful for 1/0 masks)\n",
    "combined_mask_data = rect_masked_data | circ_masked_data | high_relhum\n",
    "mv.plot(view, combined_mask_data, mask_1_and_0_contouring)"
   ]
  },
  {
   "cell_type": "code",
   "execution_count": 48,
   "id": "31c18236",
   "metadata": {},
   "outputs": [
    {
     "name": "stdout",
     "output_type": "stream",
     "text": [
      "Mean val for first field: 286.1655638381272\n"
     ]
    },
    {
     "data": {
      "application/vnd.jupyter.widget-view+json": {
       "model_id": "4bbe7523490a45e2a63b231987f5bd76",
       "version_major": 2,
       "version_minor": 0
      },
      "text/plain": [
       "Image(value=b'', layout=\"Layout(visibility='hidden')\")"
      ]
     },
     "metadata": {},
     "output_type": "display_data"
    },
    {
     "data": {
      "application/vnd.jupyter.widget-view+json": {
       "model_id": "1b43068d84b24ce9b6683118492f8c57",
       "version_major": 2,
       "version_minor": 0
      },
      "text/plain": [
       "Label(value='Generating plots....')"
      ]
     },
     "metadata": {},
     "output_type": "display_data"
    },
    {
     "data": {
      "application/vnd.jupyter.widget-view+json": {
       "model_id": "943b1d10c620460398a25aaa1ac92b81",
       "version_major": 2,
       "version_minor": 0
      },
      "text/plain": [
       "VBox(children=(IntSlider(value=1, description='Frame:', layout=Layout(width='800px'), max=1, min=1), HBox(chil…"
      ]
     },
     "metadata": {},
     "output_type": "display_data"
    }
   ],
   "source": [
    "# use this mask to replace 0s with missing values in the original data\n",
    "combined_mask_data = mv.bitmap(combined_mask_data, 0) # replace 0 with missing vals\n",
    "masked_data = mv.bitmap(t0, combined_mask_data) # copy missing vals over\n",
    "print('Mean val for first field:', masked_data[0].average())\n",
    "mv.plot(view, masked_data, cont_auto)"
   ]
  },
  {
   "cell_type": "markdown",
   "id": "56507dd1",
   "metadata": {},
   "source": [
    "## Frames\n",
    "Frames are useful to supply boundary conditions to a local area model.\n"
   ]
  },
  {
   "cell_type": "code",
   "execution_count": 49,
   "id": "17934547",
   "metadata": {
    "scrolled": true
   },
   "outputs": [
    {
     "data": {
      "application/vnd.jupyter.widget-view+json": {
       "model_id": "c873be60054f4a409ddc205d2fd2784a",
       "version_major": 2,
       "version_minor": 0
      },
      "text/plain": [
       "Image(value=b'', layout=\"Layout(visibility='hidden')\")"
      ]
     },
     "metadata": {},
     "output_type": "display_data"
    },
    {
     "data": {
      "application/vnd.jupyter.widget-view+json": {
       "model_id": "80bc0e075926404fb2b4ad75e9c6b4e8",
       "version_major": 2,
       "version_minor": 0
      },
      "text/plain": [
       "Label(value='Generating plots....')"
      ]
     },
     "metadata": {},
     "output_type": "display_data"
    },
    {
     "data": {
      "application/vnd.jupyter.widget-view+json": {
       "model_id": "a6d433c81f6f48bca080faef3be774ee",
       "version_major": 2,
       "version_minor": 0
      },
      "text/plain": [
       "VBox(children=(IntSlider(value=1, description='Frame:', layout=Layout(width='800px'), max=1, min=1), HBox(chil…"
      ]
     },
     "metadata": {},
     "output_type": "display_data"
    }
   ],
   "source": [
    "# the frame parameter is the width of the frame in degrees\n",
    "data_frame = mv.read(data=data, area=data_area, frame=5, grid=[1,1])\n",
    "mv.plot(data_frame['t1000'], cont_auto)"
   ]
  },
  {
   "cell_type": "markdown",
   "id": "d24cf839",
   "metadata": {},
   "source": [
    "## Vertical profiles"
   ]
  },
  {
   "cell_type": "code",
   "execution_count": 50,
   "id": "8c57a691",
   "metadata": {},
   "outputs": [
    {
     "name": "stdout",
     "output_type": "stream",
     "text": [
      "[['0', '1000'], ['0', '850'], ['0', '700'], ['0', '500'], ['0', '400'], ['0', '300']]\n",
      "[['6', '1000'], ['6', '850'], ['6', '700'], ['6', '500'], ['6', '400'], ['6', '300']]\n",
      "[['12', '1000'], ['12', '850'], ['12', '700'], ['12', '500'], ['12', '400'], ['12', '300']]\n",
      "[['18', '1000'], ['18', '850'], ['18', '700'], ['18', '500'], ['18', '400'], ['18', '300']]\n",
      "[['24', '1000'], ['24', '850'], ['24', '700'], ['24', '500'], ['24', '400'], ['24', '300']]\n",
      "[['30', '1000'], ['30', '850'], ['30', '700'], ['30', '500'], ['30', '400'], ['30', '300']]\n",
      "[['36', '1000'], ['36', '850'], ['36', '700'], ['36', '500'], ['36', '400'], ['36', '300']]\n",
      "[['42', '1000'], ['42', '850'], ['42', '700'], ['42', '500'], ['42', '400'], ['42', '300']]\n",
      "[['48', '1000'], ['48', '850'], ['48', '700'], ['48', '500'], ['48', '400'], ['48', '300']]\n",
      "[['54', '1000'], ['54', '850'], ['54', '700'], ['54', '500'], ['54', '400'], ['54', '300']]\n",
      "[['60', '1000'], ['60', '850'], ['60', '700'], ['60', '500'], ['60', '400'], ['60', '300']]\n",
      "[['66', '1000'], ['66', '850'], ['66', '700'], ['66', '500'], ['66', '400'], ['66', '300']]\n",
      "[['72', '1000'], ['72', '850'], ['72', '700'], ['72', '500'], ['72', '400'], ['72', '300']]\n"
     ]
    }
   ],
   "source": [
    "# let's plot a profile for each forecast step of temperature\n",
    "\n",
    "# we will extract one Fieldset for each time step - each of these Fieldsets\n",
    "# will contain all the vertical levels of temperature data for that time step\n",
    "# we will end up with a list of these Fieldsets and plot a profile for each\n",
    "\n",
    "steps = mv.unique(mv.grib_get_long(data, 'step'))\n",
    "data_for_all_steps = [data.select(shortName='t', step=s) for s in steps]\n",
    "for f in data_for_all_steps:\n",
    "    print(f.grib_get(['step', 'level']))"
   ]
  },
  {
   "cell_type": "code",
   "execution_count": 51,
   "id": "2b68ff9f",
   "metadata": {},
   "outputs": [
    {
     "data": {
      "application/vnd.jupyter.widget-view+json": {
       "model_id": "87cc64bde76c4832a065ddae633b6a83",
       "version_major": 2,
       "version_minor": 0
      },
      "text/plain": [
       "Image(value=b'', layout=\"Layout(visibility='hidden')\")"
      ]
     },
     "metadata": {},
     "output_type": "display_data"
    },
    {
     "data": {
      "application/vnd.jupyter.widget-view+json": {
       "model_id": "ee8d0b1ac07f434388ee176610ba0066",
       "version_major": 2,
       "version_minor": 0
      },
      "text/plain": [
       "Label(value='Generating plots....')"
      ]
     },
     "metadata": {},
     "output_type": "display_data"
    }
   ],
   "source": [
    "# we will plot the profile for each step in a different colour - generate a list\n",
    "# of 'mgraph' definitions, each using a different colour, for this purpose\n",
    "nsteps = len(steps)\n",
    "colour_inc = 1/nsteps\n",
    "graph_colours = [mv.mgraph(legend=True, graph_line_colour='HSL('+str(360*s*colour_inc)+',1,0.5)') for s in range(len(steps))]\n",
    "\n",
    "\n",
    "# define a nice legend\n",
    "legend = mv.mlegend(\n",
    "    legend_display_type=\"disjoint\",\n",
    "    legend_entry_plot_direction=\"column\",\n",
    "    legend_text_composition=\"user_text_only\",\n",
    "    legend_entry_plot_orientation=\"top_bottom\",\n",
    "    legend_border_colour=\"black\",\n",
    "    legend_box_mode=\"positional\",\n",
    "    legend_box_x_position=2.5,\n",
    "    legend_box_y_position=4,\n",
    "    legend_box_x_length=5,\n",
    "    legend_box_y_length=8,\n",
    "    legend_text_font_size=0.5,\n",
    "    legend_user_lines=[str(int(s)) for s in steps],\n",
    ")\n",
    "\n",
    "# finally, the magic happens here - the vertical profile view extracts the data\n",
    "# at the given point at each level\n",
    "\n",
    "vertical_axis = mv.maxis(\n",
    "    axis_type=\"position_list\",\n",
    "    axis_tick_position_list=data_for_all_steps[0].grib_get_long('level')\n",
    ")\n",
    "\n",
    "vpview = mv.mvertprofview(\n",
    "    input_mode=\"point\",\n",
    "    point=[50, -60], # lat,lon\n",
    "    bottom_level=1000,\n",
    "    top_level=300,\n",
    "    vertical_scaling=\"log\",\n",
    "    level_axis=vertical_axis\n",
    ")\n",
    "\n",
    "mv.plot(vpview, list(zip(data_for_all_steps, graph_colours)), legend)"
   ]
  },
  {
   "cell_type": "markdown",
   "id": "894e4cc9",
   "metadata": {},
   "source": [
    "## Vertical cross sections"
   ]
  },
  {
   "cell_type": "markdown",
   "id": "5c8e9e95",
   "metadata": {},
   "source": [
    "## Zonal means?"
   ]
  },
  {
   "cell_type": "markdown",
   "id": "a3b8e11e",
   "metadata": {},
   "source": [
    "## Time-height sections"
   ]
  },
  {
   "cell_type": "markdown",
   "id": "e2d6bf3a",
   "metadata": {},
   "source": [
    "## Other Hovmoeller?"
   ]
  },
  {
   "cell_type": "markdown",
   "id": "c13347d8",
   "metadata": {},
   "source": [
    "## Ensemble means?\n",
    "Using xarray for now, but will use Metview's own code in the future"
   ]
  },
  {
   "cell_type": "markdown",
   "id": "02e7a1a7",
   "metadata": {},
   "source": [
    "## Gridpoint selection"
   ]
  },
  {
   "cell_type": "code",
   "execution_count": null,
   "id": "d284ea78",
   "metadata": {},
   "outputs": [],
   "source": [
    "# nearest_gridpoint, interpolate(), single points, arrays of points, geopoints"
   ]
  },
  {
   "cell_type": "markdown",
   "id": "d1e17784",
   "metadata": {},
   "source": [
    "## Time series"
   ]
  },
  {
   "cell_type": "code",
   "execution_count": null,
   "id": "2c06e70c",
   "metadata": {},
   "outputs": [],
   "source": [
    "# uses nearest_gridpoint etc"
   ]
  },
  {
   "cell_type": "code",
   "execution_count": null,
   "id": "81e99743",
   "metadata": {},
   "outputs": [],
   "source": []
  }
 ],
 "metadata": {
  "kernelspec": {
   "display_name": "Python 3 (ipykernel)",
   "language": "python",
   "name": "python3"
  },
  "language_info": {
   "codemirror_mode": {
    "name": "ipython",
    "version": 3
   },
   "file_extension": ".py",
   "mimetype": "text/x-python",
   "name": "python",
   "nbconvert_exporter": "python",
   "pygments_lexer": "ipython3",
   "version": "3.8.6"
  }
 },
 "nbformat": 4,
 "nbformat_minor": 5
}
